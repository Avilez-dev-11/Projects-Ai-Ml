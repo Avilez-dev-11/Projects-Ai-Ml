{
  "metadata": {
    "kernelspec": {
      "name": "python3",
      "display_name": "Python 3",
      "language": "python"
    },
    "language_info": {
      "name": "python",
      "version": "3.11.11",
      "mimetype": "text/x-python",
      "codemirror_mode": {
        "name": "ipython",
        "version": 3
      },
      "pygments_lexer": "ipython3",
      "nbconvert_exporter": "python",
      "file_extension": ".py"
    },
    "colab": {
      "provenance": [],
      "gpuType": "T4",
      "name": "projaimlhomework3"
    },
    "accelerator": "GPU",
    "kaggle": {
      "accelerator": "nvidiaTeslaT4",
      "dataSources": [
        {
          "sourceId": 4840139,
          "sourceType": "datasetVersion",
          "datasetId": 2805070
        }
      ],
      "isInternetEnabled": true,
      "language": "python",
      "sourceType": "notebook",
      "isGpuEnabled": true
    }
  },
  "nbformat_minor": 0,
  "nbformat": 4,
  "cells": [
    {
      "source": [
        "# IMPORTANT: RUN THIS CELL IN ORDER TO IMPORT YOUR KAGGLE DATA SOURCES,\n",
        "# THEN FEEL FREE TO DELETE THIS CELL.\n",
        "# NOTE: THIS NOTEBOOK ENVIRONMENT DIFFERS FROM KAGGLE'S PYTHON\n",
        "# ENVIRONMENT SO THERE MAY BE MISSING LIBRARIES USED BY YOUR\n",
        "# NOTEBOOK.\n",
        "import kagglehub\n",
        "carlosgdcj_genius_song_lyrics_with_language_information_path = kagglehub.dataset_download('carlosgdcj/genius-song-lyrics-with-language-information')\n",
        "\n",
        "print('Data source import complete.')\n"
      ],
      "metadata": {
        "id": "WbjfaOwt9CfC"
      },
      "cell_type": "code",
      "outputs": [],
      "execution_count": null
    },
    {
      "cell_type": "markdown",
      "source": [
        "# Deep Learning"
      ],
      "metadata": {
        "id": "r2AZj_FSh4X-"
      }
    },
    {
      "cell_type": "markdown",
      "source": [
        "# **Part 1 (50 points)**\n",
        "\n",
        "In this part you will implement a neural network from scratch. You cannot use any existing\n",
        "Deep Learning Framework. You can utilize NumPy and Pandas libraries to perform efficient\n",
        "calculations. Refer to Lecture 5 slides for details on computations required.\n",
        "\n",
        "Write a Class called NeuralNetwork that has at least the following methods (you are free to add\n",
        "your own methods too):\n",
        "  * Initialization method.\n",
        "  * Forward propagation method that performs forward propagation calculations.\n",
        "  * Backward propagation method that implements the backpropagation algorithm discussed in class.\n",
        "  * Train method that includes the code for gradient descent.\n",
        "  * Cost method that calculates the loss function.\n",
        "  * Predict method that calculates the predictions for the test set.\n",
        "\n",
        "\n",
        "Test your NeuralNetwork Class with the dataset you selected. If the dataset is big, you may\n",
        "notice inefficiencies in runtime. Try incorporating different versions of gradient descent to\n",
        "improve that (Minibatch, Stochastic etc.). You may choose to use only a subset of your data for\n",
        "this task (or any other technique). Explain which technique you followed and why."
      ],
      "metadata": {
        "id": "NtpXN8A1iaBw"
      }
    },
    {
      "cell_type": "code",
      "source": [
        "import kagglehub\n",
        "\n",
        "# Download latest version\n",
        "path = kagglehub.dataset_download(\"carlosgdcj/genius-song-lyrics-with-language-information\")\n",
        "\n",
        "print(\"Path to dataset files:\", path)"
      ],
      "metadata": {
        "id": "1uJf3fq7l22S",
        "trusted": true
      },
      "outputs": [],
      "execution_count": null
    },
    {
      "cell_type": "code",
      "source": [
        "import numpy as np\n",
        "import pandas as pd\n",
        "from sklearn.model_selection import train_test_split"
      ],
      "metadata": {
        "id": "VFCq0yXPh1EK",
        "trusted": true,
        "execution": {
          "iopub.status.busy": "2025-04-23T05:10:36.337381Z",
          "iopub.execute_input": "2025-04-23T05:10:36.337953Z",
          "iopub.status.idle": "2025-04-23T05:10:36.34136Z",
          "shell.execute_reply.started": "2025-04-23T05:10:36.337933Z",
          "shell.execute_reply": "2025-04-23T05:10:36.340483Z"
        }
      },
      "outputs": [],
      "execution_count": null
    },
    {
      "cell_type": "markdown",
      "source": [
        "To optimize performance and reduce loading time, I selected a representative subset of 11,000 samples from the original dataset. The full dataset was significantly larger and would have been computationally intensive to process within a reasonable timeframe."
      ],
      "metadata": {
        "id": "a_Ri3x8Vpuyw"
      }
    },
    {
      "cell_type": "code",
      "source": [
        "file = \"/kaggle/input/genius-song-lyrics-with-language-information/song_lyrics.csv\"\n",
        "genius_song_data = pd.read_csv(file, nrows=11000)\n",
        "genius_song_data.head()"
      ],
      "metadata": {
        "colab": {
          "base_uri": "https://localhost:8080/",
          "height": 385
        },
        "id": "-GPos0iima8s",
        "outputId": "be63e8c7-acbd-44b1-f2e0-c1fc7b086bb2",
        "trusted": true,
        "execution": {
          "iopub.status.busy": "2025-04-23T05:10:40.380724Z",
          "iopub.execute_input": "2025-04-23T05:10:40.381019Z",
          "iopub.status.idle": "2025-04-23T05:10:40.780438Z",
          "shell.execute_reply.started": "2025-04-23T05:10:40.380998Z",
          "shell.execute_reply": "2025-04-23T05:10:40.779652Z"
        }
      },
      "outputs": [
        {
          "execution_count": 22,
          "output_type": "execute_result",
          "data": {
            "text/plain": "               title  tag     artist  year   views  \\\n0          Killa Cam  rap    Cam'ron  2004  173166   \n1         Can I Live  rap      JAY-Z  1996  468624   \n2  Forgive Me Father  rap   Fabolous  2003    4743   \n3       Down and Out  rap    Cam'ron  2004  144404   \n4             Fly In  rap  Lil Wayne  2005   78271   \n\n                                       features  \\\n0                   {\"Cam\\\\'ron\",\"Opera Steve\"}   \n1                                            {}   \n2                                            {}   \n3  {\"Cam\\\\'ron\",\"Kanye West\",\"Syleena Johnson\"}   \n4                                            {}   \n\n                                              lyrics  id language_cld3  \\\n0  [Chorus: Opera Steve & Cam'ron]\\nKilla Cam, Ki...   1            en   \n1  [Produced by Irv Gotti]\\n\\n[Intro]\\nYeah, hah,...   3            en   \n2  Maybe cause I'm eatin\\nAnd these bastards fien...   4            en   \n3  [Produced by Kanye West and Brian Miller]\\n\\n[...   5            en   \n4  [Intro]\\nSo they ask me\\n\"Young boy\\nWhat you ...   6            en   \n\n  language_ft language  \n0          en       en  \n1          en       en  \n2          en       en  \n3          en       en  \n4          en       en  ",
            "text/html": "<div>\n<style scoped>\n    .dataframe tbody tr th:only-of-type {\n        vertical-align: middle;\n    }\n\n    .dataframe tbody tr th {\n        vertical-align: top;\n    }\n\n    .dataframe thead th {\n        text-align: right;\n    }\n</style>\n<table border=\"1\" class=\"dataframe\">\n  <thead>\n    <tr style=\"text-align: right;\">\n      <th></th>\n      <th>title</th>\n      <th>tag</th>\n      <th>artist</th>\n      <th>year</th>\n      <th>views</th>\n      <th>features</th>\n      <th>lyrics</th>\n      <th>id</th>\n      <th>language_cld3</th>\n      <th>language_ft</th>\n      <th>language</th>\n    </tr>\n  </thead>\n  <tbody>\n    <tr>\n      <th>0</th>\n      <td>Killa Cam</td>\n      <td>rap</td>\n      <td>Cam'ron</td>\n      <td>2004</td>\n      <td>173166</td>\n      <td>{\"Cam\\\\'ron\",\"Opera Steve\"}</td>\n      <td>[Chorus: Opera Steve &amp; Cam'ron]\\nKilla Cam, Ki...</td>\n      <td>1</td>\n      <td>en</td>\n      <td>en</td>\n      <td>en</td>\n    </tr>\n    <tr>\n      <th>1</th>\n      <td>Can I Live</td>\n      <td>rap</td>\n      <td>JAY-Z</td>\n      <td>1996</td>\n      <td>468624</td>\n      <td>{}</td>\n      <td>[Produced by Irv Gotti]\\n\\n[Intro]\\nYeah, hah,...</td>\n      <td>3</td>\n      <td>en</td>\n      <td>en</td>\n      <td>en</td>\n    </tr>\n    <tr>\n      <th>2</th>\n      <td>Forgive Me Father</td>\n      <td>rap</td>\n      <td>Fabolous</td>\n      <td>2003</td>\n      <td>4743</td>\n      <td>{}</td>\n      <td>Maybe cause I'm eatin\\nAnd these bastards fien...</td>\n      <td>4</td>\n      <td>en</td>\n      <td>en</td>\n      <td>en</td>\n    </tr>\n    <tr>\n      <th>3</th>\n      <td>Down and Out</td>\n      <td>rap</td>\n      <td>Cam'ron</td>\n      <td>2004</td>\n      <td>144404</td>\n      <td>{\"Cam\\\\'ron\",\"Kanye West\",\"Syleena Johnson\"}</td>\n      <td>[Produced by Kanye West and Brian Miller]\\n\\n[...</td>\n      <td>5</td>\n      <td>en</td>\n      <td>en</td>\n      <td>en</td>\n    </tr>\n    <tr>\n      <th>4</th>\n      <td>Fly In</td>\n      <td>rap</td>\n      <td>Lil Wayne</td>\n      <td>2005</td>\n      <td>78271</td>\n      <td>{}</td>\n      <td>[Intro]\\nSo they ask me\\n\"Young boy\\nWhat you ...</td>\n      <td>6</td>\n      <td>en</td>\n      <td>en</td>\n      <td>en</td>\n    </tr>\n  </tbody>\n</table>\n</div>"
          },
          "metadata": {}
        }
      ],
      "execution_count": null
    },
    {
      "cell_type": "code",
      "source": [
        "genius_song_data.describe()"
      ],
      "metadata": {
        "colab": {
          "base_uri": "https://localhost:8080/",
          "height": 291
        },
        "id": "WXLbOBNfr9Ar",
        "outputId": "b504466e-4b04-4d60-bbfc-9c94c6043eb0",
        "trusted": true,
        "execution": {
          "iopub.status.busy": "2025-04-23T05:11:12.360369Z",
          "iopub.execute_input": "2025-04-23T05:11:12.360654Z",
          "iopub.status.idle": "2025-04-23T05:11:12.376704Z",
          "shell.execute_reply.started": "2025-04-23T05:11:12.360635Z",
          "shell.execute_reply": "2025-04-23T05:11:12.375957Z"
        }
      },
      "outputs": [
        {
          "execution_count": 23,
          "output_type": "execute_result",
          "data": {
            "text/plain": "               year         views            id\ncount  11000.000000  1.100000e+04  11000.000000\nmean    2002.761818  6.699250e+04   6388.651818\nstd       22.260702  2.416806e+05   4741.310380\nmin        2.000000  3.000000e+00      1.000000\n25%     1999.000000  8.500000e+02   3006.750000\n50%     2005.000000  5.056000e+03   6093.500000\n75%     2009.000000  3.584350e+04   9025.250000\nmax     2020.000000  9.247817e+06  38522.000000",
            "text/html": "<div>\n<style scoped>\n    .dataframe tbody tr th:only-of-type {\n        vertical-align: middle;\n    }\n\n    .dataframe tbody tr th {\n        vertical-align: top;\n    }\n\n    .dataframe thead th {\n        text-align: right;\n    }\n</style>\n<table border=\"1\" class=\"dataframe\">\n  <thead>\n    <tr style=\"text-align: right;\">\n      <th></th>\n      <th>year</th>\n      <th>views</th>\n      <th>id</th>\n    </tr>\n  </thead>\n  <tbody>\n    <tr>\n      <th>count</th>\n      <td>11000.000000</td>\n      <td>1.100000e+04</td>\n      <td>11000.000000</td>\n    </tr>\n    <tr>\n      <th>mean</th>\n      <td>2002.761818</td>\n      <td>6.699250e+04</td>\n      <td>6388.651818</td>\n    </tr>\n    <tr>\n      <th>std</th>\n      <td>22.260702</td>\n      <td>2.416806e+05</td>\n      <td>4741.310380</td>\n    </tr>\n    <tr>\n      <th>min</th>\n      <td>2.000000</td>\n      <td>3.000000e+00</td>\n      <td>1.000000</td>\n    </tr>\n    <tr>\n      <th>25%</th>\n      <td>1999.000000</td>\n      <td>8.500000e+02</td>\n      <td>3006.750000</td>\n    </tr>\n    <tr>\n      <th>50%</th>\n      <td>2005.000000</td>\n      <td>5.056000e+03</td>\n      <td>6093.500000</td>\n    </tr>\n    <tr>\n      <th>75%</th>\n      <td>2009.000000</td>\n      <td>3.584350e+04</td>\n      <td>9025.250000</td>\n    </tr>\n    <tr>\n      <th>max</th>\n      <td>2020.000000</td>\n      <td>9.247817e+06</td>\n      <td>38522.000000</td>\n    </tr>\n  </tbody>\n</table>\n</div>"
          },
          "metadata": {}
        }
      ],
      "execution_count": null
    },
    {
      "cell_type": "code",
      "source": [
        "class NeuralNetwork:\n",
        "    def __init__(self, input_size, hidden_size, output_size):\n",
        "        self.input_size = input_size\n",
        "        self.hidden_size = hidden_size\n",
        "        self.output_size = output_size\n",
        "\n",
        "        # Initialize weights and biases\n",
        "        self.weights_input_hidden = np.random.randn(self.input_size, self.hidden_size)\n",
        "        self.bias_input_hidden = np.zeros((1, self.hidden_size))\n",
        "        self.weights_hidden_output = np.random.randn(self.hidden_size, self.output_size)\n",
        "        self.bias_hidden_output = np.zeros((1, self.output_size))\n",
        "\n",
        "\n",
        "\n",
        "    def sigmoid(self, x):\n",
        "        return 1 / (1 + np.exp(-x))\n",
        "\n",
        "    def sigmoid_derivative(self, x):\n",
        "        return x * (1 - x)\n",
        "\n",
        "    def softmax(self, x):\n",
        "        exp_x = np.exp(x - np.max(x, axis=1, keepdims=True))\n",
        "        return exp_x / np.sum(exp_x, axis=1, keepdims=True)\n",
        "\n",
        "    def forward_propagation(self, X):\n",
        "        self.hidden_output = self.sigmoid(np.dot(X, self.weights_input_hidden) + self.bias_input_hidden)\n",
        "        self.output = self.softmax(np.dot(self.hidden_output, self.weights_hidden_output) + self.bias_hidden_output)\n",
        "        return self.output\n",
        "\n",
        "    def backward_propagation(self, X, y, learning_rate):\n",
        "        m = y.shape[0]\n",
        "        dZ2 = self.output - y\n",
        "\n",
        "        dW2 = (1/m) * np.dot(self.hidden_output.T, dZ2)\n",
        "        db2 = (1/m) * np.sum(dZ2, axis=0, keepdims=True)\n",
        "\n",
        "        dA1 = np.dot(dZ2, self.weights_hidden_output.T)\n",
        "        dZ1 = dA1 * self.sigmoid_derivative(self.hidden_output)\n",
        "\n",
        "        dW1 = (1/m) * np.dot(X.T, dZ1)\n",
        "        db1 = (1/m) * np.sum(dZ1, axis=0, keepdims=True)\n",
        "\n",
        "        self.weights_hidden_output -= learning_rate * dW2\n",
        "        self.bias_hidden_output -= learning_rate * db2\n",
        "        self.weights_input_hidden -= learning_rate * dW1\n",
        "        self.bias_input_hidden -= learning_rate * db1\n",
        "\n",
        "    def train(self, X, y, learning_rate, epochs,  batch_type='batch', batch_size=32):\n",
        "        m = X.shape[0]\n",
        "        for epoch in range(epochs):\n",
        "            if batch_type == \"batch\":\n",
        "                # Implementation of Full Batch Gradient Descent\n",
        "                output = self.forward_propagation(X)\n",
        "                self.backward_propagation(X, y, learning_rate)\n",
        "            elif batch_type == 'sgd':\n",
        "                # Stochastic\n",
        "                for i in range(m):\n",
        "                    xi = X[i:i+1]\n",
        "                    yi = y[i:i+1]\n",
        "                    self.forward_propagation(xi)\n",
        "                    self.backward_propagation(xi, yi, learning_rate)\n",
        "            elif batch_type == 'mini-batch':\n",
        "                # Shuffle data\n",
        "                indices = np.arange(m)\n",
        "                np.random.shuffle(indices)\n",
        "                X_shuffled = X[indices]\n",
        "                y_shuffled = y[indices]\n",
        "\n",
        "                for i in range(0, m, batch_size):\n",
        "                    end = i + batch_size\n",
        "                    xb = X_shuffled[i:end]\n",
        "                    yb = y_shuffled[i:end]\n",
        "                    self.forward_propagation(xb)\n",
        "                    self.backward_propagation(xb, yb, learning_rate)\n",
        "\n",
        "            output = self.forward_propagation(X)\n",
        "            loss = self.cost(y, output)\n",
        "            print(f'Epoch {epoch+1}, Loss: {np.mean(np.square(y - output))}')\n",
        "\n",
        "    def predict(self, X):\n",
        "        return np.argmax(self.forward_propagation(X), axis=1)\n",
        "\n",
        "    def cost(self, X, y):\n",
        "        m = X.shape[0]\n",
        "        y_clipped = np.clip(y, 1e-15, 1-1e-15)\n",
        "        loss = -np.sum(y * np.log(y_clipped)) / m\n",
        "        return loss"
      ],
      "metadata": {
        "id": "TJ7Kz3nRht3v",
        "trusted": true,
        "execution": {
          "iopub.status.busy": "2025-04-23T05:11:14.708017Z",
          "iopub.execute_input": "2025-04-23T05:11:14.708664Z",
          "iopub.status.idle": "2025-04-23T05:11:14.719738Z",
          "shell.execute_reply.started": "2025-04-23T05:11:14.70864Z",
          "shell.execute_reply": "2025-04-23T05:11:14.719107Z"
        }
      },
      "outputs": [],
      "execution_count": null
    },
    {
      "cell_type": "markdown",
      "source": [
        "The model explores predicting song genres based solely on numerical features: the song's release year and the number of views. These features were chosen due to their simplicity, availability, and computational efficiency. However, genre classification based solely on these numeric features may not achieve high accuracy because genre is inherently influenced by more complex and nuanced aspects such as lyrics, style, and cultural context."
      ],
      "metadata": {
        "id": "NUdBjNm49CfF"
      }
    },
    {
      "cell_type": "code",
      "source": [
        "from sklearn.preprocessing import LabelEncoder, OneHotEncoder\n",
        "\n",
        "# Assuming you have loaded your DataFrame as 'df'\n",
        "\n",
        "# 1. Encode your genre labels\n",
        "label_encoder = LabelEncoder()\n",
        "genius_song_data['tag_encoded'] = label_encoder.fit_transform(genius_song_data['tag'])\n",
        "num_genres = len(label_encoder.classes_) # Get the number of unique genres"
      ],
      "metadata": {
        "id": "ar2VDw5DvBE9",
        "trusted": true,
        "execution": {
          "iopub.status.busy": "2025-04-23T05:52:59.740927Z",
          "iopub.execute_input": "2025-04-23T05:52:59.741492Z",
          "iopub.status.idle": "2025-04-23T05:52:59.747936Z",
          "shell.execute_reply.started": "2025-04-23T05:52:59.741473Z",
          "shell.execute_reply": "2025-04-23T05:52:59.747178Z"
        }
      },
      "outputs": [],
      "execution_count": null
    },
    {
      "cell_type": "code",
      "source": [
        "# 2. Feature extraction using 'year' and 'views'\n",
        "X = genius_song_data[['year', 'views']].values\n",
        "y = genius_song_data['tag_encoded'].values\n",
        "\n",
        "# 3. Split your data into training and testing sets\n",
        "X_train, X_test, y_train, y_test = train_test_split(X, y, test_size=0.2, random_state=42)\n",
        "\n",
        "# 4. One-hot encode your genre labels\n",
        "onehot_encoder = OneHotEncoder(sparse_output=False)\n",
        "y_train_encoded = onehot_encoder.fit_transform(y_train.reshape(-1, 1))\n",
        "y_test_encoded = onehot_encoder.transform(y_test.reshape(-1, 1))"
      ],
      "metadata": {
        "id": "Fid3UnFGwg7a",
        "trusted": true,
        "execution": {
          "iopub.status.busy": "2025-04-23T05:53:03.503375Z",
          "iopub.execute_input": "2025-04-23T05:53:03.503638Z",
          "iopub.status.idle": "2025-04-23T05:53:03.513389Z",
          "shell.execute_reply.started": "2025-04-23T05:53:03.503618Z",
          "shell.execute_reply": "2025-04-23T05:53:03.512722Z"
        }
      },
      "outputs": [],
      "execution_count": null
    },
    {
      "cell_type": "code",
      "source": [
        "def train_and_evaluate(X_train, y_train_encoded, X_test, y_test, label_encoder,\n",
        "                       mode='batch', batch_size=32, learning_rate=0.1, epochs=10):\n",
        "    # Define neural network parameters\n",
        "\n",
        "    input_size = X_train.shape[1]  # e.g., 2 for 'year' and 'views'\n",
        "    hidden_size = 64\n",
        "    output_size = y_train_encoded.shape[1]\n",
        "\n",
        "    # Initialize the neural network\n",
        "    nn = NeuralNetwork(input_size, hidden_size, output_size)\n",
        "\n",
        "    # Train with specified mode\n",
        "    print(f\"\\nTraining using {mode} gradient descent...\\n\")\n",
        "    nn.train(X_train, y_train_encoded, learning_rate=learning_rate,\n",
        "             epochs=epochs, batch_type=mode, batch_size=batch_size)\n",
        "\n",
        "    # Test the model\n",
        "    predictions_prob = nn.forward_propagation(X_test)\n",
        "    predictions = np.argmax(predictions_prob, axis=1)\n",
        "\n",
        "    # Decode labels for evaluation\n",
        "    y_test_original = label_encoder.inverse_transform(y_test)\n",
        "    predictions_original = label_encoder.inverse_transform(predictions)\n",
        "\n",
        "    # Accuracy\n",
        "    accuracy = np.mean(predictions == y_test) * 100\n",
        "    print(f\"\\nAccuracy using {mode}: {accuracy:.4f}%\\n\")\n",
        "\n",
        "    return accuracy, predictions_original\n"
      ],
      "metadata": {
        "id": "hB-X1KZ_xBZE",
        "trusted": true,
        "execution": {
          "iopub.status.busy": "2025-04-23T17:27:37.648727Z",
          "iopub.execute_input": "2025-04-23T17:27:37.649115Z",
          "iopub.status.idle": "2025-04-23T17:27:37.655407Z",
          "shell.execute_reply.started": "2025-04-23T17:27:37.649088Z",
          "shell.execute_reply": "2025-04-23T17:27:37.654509Z"
        }
      },
      "outputs": [],
      "execution_count": null
    },
    {
      "cell_type": "code",
      "source": [
        "# Batch Gradient Descent\n",
        "train_and_evaluate(X_train, y_train_encoded, X_test, y_test, label_encoder, mode='batch')"
      ],
      "metadata": {
        "trusted": true,
        "execution": {
          "iopub.status.busy": "2025-04-23T17:27:42.81315Z",
          "iopub.execute_input": "2025-04-23T17:27:42.813458Z",
          "iopub.status.idle": "2025-04-23T17:27:44.385675Z",
          "shell.execute_reply.started": "2025-04-23T17:27:42.813436Z",
          "shell.execute_reply": "2025-04-23T17:27:44.384969Z"
        },
        "id": "f1nTAMgJ9CfF",
        "outputId": "d336a489-6515-4d99-ef89-75bb9cacf61e"
      },
      "outputs": [
        {
          "name": "stdout",
          "text": "\nTraining using batch gradient descent...\n\nEpoch 1, Loss: 0.15185213900841787\nEpoch 2, Loss: 0.05602685463958814\nEpoch 3, Loss: 0.03318535126920232\nEpoch 4, Loss: 0.02442299592256702\nEpoch 5, Loss: 0.020987510828555985\nEpoch 6, Loss: 0.01929143404008415\nEpoch 7, Loss: 0.01835092048606913\nEpoch 8, Loss: 0.01773556156442865\nEpoch 9, Loss: 0.0173132224194112\nEpoch 10, Loss: 0.016988465878899083\n\nAccuracy using batch: 94.9091%\n\n",
          "output_type": "stream"
        },
        {
          "execution_count": 2,
          "output_type": "execute_result",
          "data": {
            "text/plain": "(94.9090909090909,\n array(['rap', 'rap', 'rap', ..., 'rap', 'rap', 'rap'], dtype=object))"
          },
          "metadata": {}
        }
      ],
      "execution_count": null
    },
    {
      "cell_type": "code",
      "source": [
        "# Stochastic Gradient Descent\n",
        "train_and_evaluate(X_train, y_train_encoded, X_test, y_test, label_encoder, mode='sgd')"
      ],
      "metadata": {
        "trusted": true,
        "execution": {
          "iopub.status.busy": "2025-04-23T17:27:48.370656Z",
          "iopub.execute_input": "2025-04-23T17:27:48.371338Z",
          "iopub.status.idle": "2025-04-23T17:27:56.089222Z",
          "shell.execute_reply.started": "2025-04-23T17:27:48.371312Z",
          "shell.execute_reply": "2025-04-23T17:27:56.088447Z"
        },
        "id": "mf4ua9w89CfG",
        "outputId": "2c67223b-f88f-4752-d11e-864f5a791741"
      },
      "outputs": [
        {
          "name": "stdout",
          "text": "\nTraining using sgd gradient descent...\n\n",
          "output_type": "stream"
        },
        {
          "name": "stderr",
          "text": "/tmp/ipykernel_31/2858513775.py:16: RuntimeWarning: overflow encountered in exp\n",
          "output_type": "stream"
        },
        {
          "name": "stdout",
          "text": "Epoch 1, Loss: 0.015580491956413338\nEpoch 2, Loss: 0.015571708537650025\nEpoch 3, Loss: 0.0155756343875445\nEpoch 4, Loss: 0.015530053187985393\nEpoch 5, Loss: 0.015612296786700855\nEpoch 6, Loss: 0.015612296773522591\nEpoch 7, Loss: 0.01561229676062032\nEpoch 8, Loss: 0.015612296747813816\nEpoch 9, Loss: 0.015612296735102118\nEpoch 10, Loss: 0.015612296722484272\n\nAccuracy using sgd: 94.9091%\n\n",
          "output_type": "stream"
        },
        {
          "execution_count": 3,
          "output_type": "execute_result",
          "data": {
            "text/plain": "(94.9090909090909,\n array(['rap', 'rap', 'rap', ..., 'rap', 'rap', 'rap'], dtype=object))"
          },
          "metadata": {}
        }
      ],
      "execution_count": null
    },
    {
      "cell_type": "code",
      "source": [
        "# Mini-batch Gradient Descent\n",
        "train_and_evaluate(X_train, y_train_encoded, X_test, y_test, label_encoder, mode='mini-batch', batch_size=32)"
      ],
      "metadata": {
        "trusted": true,
        "execution": {
          "iopub.status.busy": "2025-04-23T17:28:00.506374Z",
          "iopub.execute_input": "2025-04-23T17:28:00.506645Z",
          "iopub.status.idle": "2025-04-23T17:28:01.635178Z",
          "shell.execute_reply.started": "2025-04-23T17:28:00.506624Z",
          "shell.execute_reply": "2025-04-23T17:28:01.634394Z"
        },
        "id": "x8C2uuoQ9CfG",
        "outputId": "8dbb6220-18d0-4e3f-de86-a8ea59b0e8dd"
      },
      "outputs": [
        {
          "name": "stdout",
          "text": "\nTraining using mini-batch gradient descent...\n\nEpoch 1, Loss: 0.01523077885385599\n",
          "output_type": "stream"
        },
        {
          "name": "stderr",
          "text": "/tmp/ipykernel_31/2858513775.py:16: RuntimeWarning: overflow encountered in exp\n",
          "output_type": "stream"
        },
        {
          "name": "stdout",
          "text": "Epoch 2, Loss: 0.015057439550451643\nEpoch 3, Loss: 0.01506401688369933\nEpoch 4, Loss: 0.014892795320254502\nEpoch 5, Loss: 0.01507390602539364\nEpoch 6, Loss: 0.015118030919855712\nEpoch 7, Loss: 0.015031154106973534\nEpoch 8, Loss: 0.015086595621738473\nEpoch 9, Loss: 0.015017599764783446\nEpoch 10, Loss: 0.014999417762657678\n\nAccuracy using mini-batch: 94.9091%\n\n",
          "output_type": "stream"
        },
        {
          "execution_count": 4,
          "output_type": "execute_result",
          "data": {
            "text/plain": "(94.9090909090909,\n array(['rap', 'rap', 'rap', ..., 'rap', 'rap', 'rap'], dtype=object))"
          },
          "metadata": {}
        }
      ],
      "execution_count": null
    },
    {
      "cell_type": "markdown",
      "source": [
        "Upon evaluating different gradient descent methods:\n",
        "\n",
        "Batch Gradient Descent provided stable convergence with consistent performance.\n",
        "\n",
        "Stochastic Gradient Descent and Mini-batch Gradient Descent exhibited slightly more fluctuating convergence behavior but offered computational efficiency.\n",
        "\n",
        "All three methods yielded an accuracy of approximately 94.91%. Mini-batch gradient descent presented the best balance between computational efficiency and convergence stability, making it the recommended approach for similar tasks.\n",
        "\n",
        "Future enhancements could involve incorporating textual features (e.g., song lyrics) with advanced natural language processing techniques and using numerically stable activation functions such as ReLU to prevent numerical overflow issues encountered during training.\n"
      ],
      "metadata": {
        "id": "5RmoxbJQ9CfG"
      }
    },
    {
      "cell_type": "markdown",
      "source": [
        "# **Part 2 (50 points)**\n",
        "In this part you will implement a 2-layer neural network using any Deep Learning Framework\n",
        "(e.g., TensorFlow, PyTorch etc.).\n",
        "\n",
        "You should pick a Deep Learning Framework that you would like to use to implement your 2-\n",
        "layer Neural Network."
      ],
      "metadata": {
        "id": "iGcD8dK_i89d"
      }
    },
    {
      "cell_type": "markdown",
      "source": [
        "## Task 1 (5 points):\n",
        " Assuming you are not familiar with the framework, in this part of the homework you will present your research describing the resources you used to learn the framework (must include links to all resources). Clearly explain why you needed a particular resource for implementing a 2-layer Neural Network (NN). (Consider how you will keep track of all the computations in a NN i.e., what libraries/tools do you need within this framework.)\n",
        "\n",
        "For example, some of the known resources for TensorFlow and PyTorch are:\n",
        "\n",
        "https://www.tensorflow.org/guide/autodiff\n",
        "\n",
        "https://www.tensorflow.org/api_docs/python/tf/GradientTape\n",
        "\n",
        "https://pytorch.org/tutorials/beginner/basics/buildmodel_tutorial.html\n",
        "\n",
        "Hint: You need to figure out the APIs/packages used to implement forward propagation and\n",
        "backward propagation."
      ],
      "metadata": {
        "id": "WYJPNZMCjLg1"
      }
    },
    {
      "cell_type": "markdown",
      "source": [
        "* PyTorch Official Documentation: https://pytorch.org/docs/stable/index.html\n",
        "\n",
        "    * This was my primary resource for understanding PyTorch APIs, including how tensors work, how to implement forward and backward propagation, and use optimization algorithms effectively.\n",
        "\n",
        "* Building a Basic Neural Network in PyTorch: https://pytorch.org/tutorials/beginner/basics/buildmodel_tutorial.html\n",
        "    \n",
        "    * This tutorial clearly illustrated the process of constructing neural network architectures using built-in modules, defining layers, activation functions, and understanding the basic training loop.\n",
        "\n",
        "* Optimization Algorithms in PyTorch (Adam Optimizer): https://pytorch.org/docs/stable/generated/torch.optim.Adam.html\n",
        "\n",
        "    * I referred to this resource to select and implement the Adam optimizer, which adapts learning rates during training for efficient convergence.\n",
        "\n",
        "* CrossEntropy Loss Documentation: https://pytorch.org/docs/stable/generated/torch.nn.CrossEntropyLoss.html\n",
        "\n",
        "    * This resource clarified the suitable loss function for multi-class classification, how it combines log softmax and negative log likelihood in a numerically stable way, and implementation details in PyTorch.\n",
        "\n",
        "* Standardization and Normalization with Scikit-Learn: https://scikit-learn.org/stable/modules/generated/sklearn.preprocessing.StandardScaler.html\n",
        "\n",
        "    * To ensure numerical stability and faster training, this resource helped me standardize numerical inputs (year and views) prior to training."
      ],
      "metadata": {
        "id": "hxXFFi_A9CfG"
      }
    },
    {
      "cell_type": "markdown",
      "source": [
        "## Task 2 (35 points):\n",
        " Once you have figured out the resources you need for the project, you\n",
        "should design and implement your project. The project must include the following steps (it’s\n",
        "not limited to these steps):\n",
        "  1. Exploratory Data Analysis (Can include data cleaning, visualization etc.)\n",
        "  2. Perform a train-dev-test split.\n",
        "  3. Implement forward propagation (clearly describe the activation functions and other\n",
        "  hyper-parameters you are using).\n",
        "  4. Compute the final cost function.\n",
        "  5. Implement gradient descent (any variant of gradient descent depending upon your\n",
        "  data and project can be used) to train your model. In this step it is up to you as someone\n",
        "  in charge of their project to improvise using optimization algorithms (Adams, RMSProp\n",
        "  etc.) and/or regularization. Experiment with normalized inputs i.e. comment on how\n",
        "  your model performs when the inputs are normalized.\n",
        "  6. Present the results using the test set.\n",
        "\n",
        "  \n",
        "NOTE: In this step, once you have implemented your 2-layer network you may increase and/or\n",
        "decrease the number of layers as part of the hyperparameter tuning process."
      ],
      "metadata": {
        "id": "SmmwqTJVjbjt"
      }
    },
    {
      "cell_type": "code",
      "source": [
        "chunk_size = 1000000\n",
        "genius_song_data = []\n",
        "for chunk in pd.read_csv(file, chunksize=chunk_size):\n",
        "    genius_song_data.append(chunk)\n",
        "\n",
        "genius_song_data = pd.concat(genius_song_data)\n",
        "genius_song_data.describe()"
      ],
      "metadata": {
        "id": "g4UmJ_1a_GiA",
        "trusted": true,
        "execution": {
          "iopub.status.busy": "2025-04-23T17:51:19.472351Z",
          "iopub.execute_input": "2025-04-23T17:51:19.472832Z",
          "iopub.status.idle": "2025-04-23T17:55:49.73827Z",
          "shell.execute_reply.started": "2025-04-23T17:51:19.472806Z",
          "shell.execute_reply": "2025-04-23T17:55:49.737388Z"
        },
        "outputId": "7fa35fe6-e06f-441f-82bf-bebedc484ff4"
      },
      "outputs": [
        {
          "execution_count": 10,
          "output_type": "execute_result",
          "data": {
            "text/plain": "               year         views            id\ncount  5.134856e+06  5.134856e+06  5.134856e+06\nmean   2.010303e+03  3.060939e+03  3.830088e+06\nstd    4.501192e+01  4.730980e+04  2.305657e+06\nmin    1.000000e+00  0.000000e+00  1.000000e+00\n25%    2.009000e+03  2.200000e+01  1.625220e+06\n50%    2.016000e+03  8.500000e+01  3.866618e+06\n75%    2.019000e+03  4.480000e+02  5.820614e+06\nmax    2.100000e+03  2.335142e+07  7.882848e+06",
            "text/html": "<div>\n<style scoped>\n    .dataframe tbody tr th:only-of-type {\n        vertical-align: middle;\n    }\n\n    .dataframe tbody tr th {\n        vertical-align: top;\n    }\n\n    .dataframe thead th {\n        text-align: right;\n    }\n</style>\n<table border=\"1\" class=\"dataframe\">\n  <thead>\n    <tr style=\"text-align: right;\">\n      <th></th>\n      <th>year</th>\n      <th>views</th>\n      <th>id</th>\n    </tr>\n  </thead>\n  <tbody>\n    <tr>\n      <th>count</th>\n      <td>5.134856e+06</td>\n      <td>5.134856e+06</td>\n      <td>5.134856e+06</td>\n    </tr>\n    <tr>\n      <th>mean</th>\n      <td>2.010303e+03</td>\n      <td>3.060939e+03</td>\n      <td>3.830088e+06</td>\n    </tr>\n    <tr>\n      <th>std</th>\n      <td>4.501192e+01</td>\n      <td>4.730980e+04</td>\n      <td>2.305657e+06</td>\n    </tr>\n    <tr>\n      <th>min</th>\n      <td>1.000000e+00</td>\n      <td>0.000000e+00</td>\n      <td>1.000000e+00</td>\n    </tr>\n    <tr>\n      <th>25%</th>\n      <td>2.009000e+03</td>\n      <td>2.200000e+01</td>\n      <td>1.625220e+06</td>\n    </tr>\n    <tr>\n      <th>50%</th>\n      <td>2.016000e+03</td>\n      <td>8.500000e+01</td>\n      <td>3.866618e+06</td>\n    </tr>\n    <tr>\n      <th>75%</th>\n      <td>2.019000e+03</td>\n      <td>4.480000e+02</td>\n      <td>5.820614e+06</td>\n    </tr>\n    <tr>\n      <th>max</th>\n      <td>2.100000e+03</td>\n      <td>2.335142e+07</td>\n      <td>7.882848e+06</td>\n    </tr>\n  </tbody>\n</table>\n</div>"
          },
          "metadata": {}
        }
      ],
      "execution_count": null
    },
    {
      "cell_type": "code",
      "source": [
        "genius_song_data.head()"
      ],
      "metadata": {
        "trusted": true,
        "execution": {
          "iopub.status.busy": "2025-04-23T05:56:57.322963Z",
          "iopub.execute_input": "2025-04-23T05:56:57.323218Z",
          "iopub.status.idle": "2025-04-23T05:56:57.33286Z",
          "shell.execute_reply.started": "2025-04-23T05:56:57.323201Z",
          "shell.execute_reply": "2025-04-23T05:56:57.332115Z"
        },
        "id": "CNZpWV799CfG",
        "outputId": "7b369558-3ba1-417f-9eee-66a45c3e69ef"
      },
      "outputs": [
        {
          "execution_count": 39,
          "output_type": "execute_result",
          "data": {
            "text/plain": "               title  tag     artist  year   views  \\\n0          Killa Cam  rap    Cam'ron  2004  173166   \n1         Can I Live  rap      JAY-Z  1996  468624   \n2  Forgive Me Father  rap   Fabolous  2003    4743   \n3       Down and Out  rap    Cam'ron  2004  144404   \n4             Fly In  rap  Lil Wayne  2005   78271   \n\n                                       features  \\\n0                   {\"Cam\\\\'ron\",\"Opera Steve\"}   \n1                                            {}   \n2                                            {}   \n3  {\"Cam\\\\'ron\",\"Kanye West\",\"Syleena Johnson\"}   \n4                                            {}   \n\n                                              lyrics  id language_cld3  \\\n0  [Chorus: Opera Steve & Cam'ron]\\nKilla Cam, Ki...   1            en   \n1  [Produced by Irv Gotti]\\n\\n[Intro]\\nYeah, hah,...   3            en   \n2  Maybe cause I'm eatin\\nAnd these bastards fien...   4            en   \n3  [Produced by Kanye West and Brian Miller]\\n\\n[...   5            en   \n4  [Intro]\\nSo they ask me\\n\"Young boy\\nWhat you ...   6            en   \n\n  language_ft language  \n0          en       en  \n1          en       en  \n2          en       en  \n3          en       en  \n4          en       en  ",
            "text/html": "<div>\n<style scoped>\n    .dataframe tbody tr th:only-of-type {\n        vertical-align: middle;\n    }\n\n    .dataframe tbody tr th {\n        vertical-align: top;\n    }\n\n    .dataframe thead th {\n        text-align: right;\n    }\n</style>\n<table border=\"1\" class=\"dataframe\">\n  <thead>\n    <tr style=\"text-align: right;\">\n      <th></th>\n      <th>title</th>\n      <th>tag</th>\n      <th>artist</th>\n      <th>year</th>\n      <th>views</th>\n      <th>features</th>\n      <th>lyrics</th>\n      <th>id</th>\n      <th>language_cld3</th>\n      <th>language_ft</th>\n      <th>language</th>\n    </tr>\n  </thead>\n  <tbody>\n    <tr>\n      <th>0</th>\n      <td>Killa Cam</td>\n      <td>rap</td>\n      <td>Cam'ron</td>\n      <td>2004</td>\n      <td>173166</td>\n      <td>{\"Cam\\\\'ron\",\"Opera Steve\"}</td>\n      <td>[Chorus: Opera Steve &amp; Cam'ron]\\nKilla Cam, Ki...</td>\n      <td>1</td>\n      <td>en</td>\n      <td>en</td>\n      <td>en</td>\n    </tr>\n    <tr>\n      <th>1</th>\n      <td>Can I Live</td>\n      <td>rap</td>\n      <td>JAY-Z</td>\n      <td>1996</td>\n      <td>468624</td>\n      <td>{}</td>\n      <td>[Produced by Irv Gotti]\\n\\n[Intro]\\nYeah, hah,...</td>\n      <td>3</td>\n      <td>en</td>\n      <td>en</td>\n      <td>en</td>\n    </tr>\n    <tr>\n      <th>2</th>\n      <td>Forgive Me Father</td>\n      <td>rap</td>\n      <td>Fabolous</td>\n      <td>2003</td>\n      <td>4743</td>\n      <td>{}</td>\n      <td>Maybe cause I'm eatin\\nAnd these bastards fien...</td>\n      <td>4</td>\n      <td>en</td>\n      <td>en</td>\n      <td>en</td>\n    </tr>\n    <tr>\n      <th>3</th>\n      <td>Down and Out</td>\n      <td>rap</td>\n      <td>Cam'ron</td>\n      <td>2004</td>\n      <td>144404</td>\n      <td>{\"Cam\\\\'ron\",\"Kanye West\",\"Syleena Johnson\"}</td>\n      <td>[Produced by Kanye West and Brian Miller]\\n\\n[...</td>\n      <td>5</td>\n      <td>en</td>\n      <td>en</td>\n      <td>en</td>\n    </tr>\n    <tr>\n      <th>4</th>\n      <td>Fly In</td>\n      <td>rap</td>\n      <td>Lil Wayne</td>\n      <td>2005</td>\n      <td>78271</td>\n      <td>{}</td>\n      <td>[Intro]\\nSo they ask me\\n\"Young boy\\nWhat you ...</td>\n      <td>6</td>\n      <td>en</td>\n      <td>en</td>\n      <td>en</td>\n    </tr>\n  </tbody>\n</table>\n</div>"
          },
          "metadata": {}
        }
      ],
      "execution_count": null
    },
    {
      "cell_type": "code",
      "source": [
        "import torch\n",
        "import torch.nn as nn\n",
        "import torch.optim as optim\n",
        "from sklearn.model_selection import train_test_split\n",
        "from sklearn.preprocessing import LabelEncoder, StandardScaler\n",
        "import pandas as pd\n",
        "from torch.utils.data import DataLoader, TensorDataset\n",
        "\n",
        "# Define the 2-layer Neural Network class\n",
        "class TwoLayerNet(nn.Module):\n",
        "    def __init__(self, input_size, hidden_size, output_size):\n",
        "        super(TwoLayerNet, self).__init__()\n",
        "        self.fc1 = nn.Linear(input_size, hidden_size) # First fully connected layer\n",
        "        self.relu = nn.ReLU() # ReLU activation function\n",
        "        self.fc2 = nn.Linear(hidden_size, output_size) # Second fully connected layer\n",
        "\n",
        "    def forward(self, x):\n",
        "        out = self.fc1(x)\n",
        "        out = self.relu(out)\n",
        "        out = self.fc2(out)\n",
        "        return out"
      ],
      "metadata": {
        "id": "2P0Xqxp88jiI",
        "trusted": true,
        "execution": {
          "iopub.status.busy": "2025-04-23T19:24:47.141227Z",
          "iopub.execute_input": "2025-04-23T19:24:47.141943Z",
          "iopub.status.idle": "2025-04-23T19:24:51.038171Z",
          "shell.execute_reply.started": "2025-04-23T19:24:47.141917Z",
          "shell.execute_reply": "2025-04-23T19:24:51.037618Z"
        }
      },
      "outputs": [],
      "execution_count": null
    },
    {
      "cell_type": "code",
      "source": [
        "# 1. Encode your genre labels\n",
        "label_encoder = LabelEncoder()\n",
        "genius_song_data['tag_encoded'] = label_encoder.fit_transform(genius_song_data['tag'])\n",
        "num_genres = len(label_encoder.classes_)"
      ],
      "metadata": {
        "id": "5jxEDGBgjap7",
        "trusted": true,
        "execution": {
          "iopub.status.busy": "2025-04-23T19:25:20.792126Z",
          "iopub.execute_input": "2025-04-23T19:25:20.792657Z",
          "iopub.status.idle": "2025-04-23T19:25:21.62221Z",
          "shell.execute_reply.started": "2025-04-23T19:25:20.792634Z",
          "shell.execute_reply": "2025-04-23T19:25:21.6215Z"
        }
      },
      "outputs": [],
      "execution_count": null
    },
    {
      "cell_type": "code",
      "source": [
        "num_genres"
      ],
      "metadata": {
        "id": "zxOFnwNPD0SF",
        "trusted": true,
        "execution": {
          "iopub.status.busy": "2025-04-23T17:55:50.544705Z",
          "iopub.execute_input": "2025-04-23T17:55:50.544965Z",
          "iopub.status.idle": "2025-04-23T17:55:50.549652Z",
          "shell.execute_reply.started": "2025-04-23T17:55:50.54494Z",
          "shell.execute_reply": "2025-04-23T17:55:50.548843Z"
        },
        "outputId": "281e1b53-a944-40ce-8d95-608ca73f5930"
      },
      "outputs": [
        {
          "execution_count": 12,
          "output_type": "execute_result",
          "data": {
            "text/plain": "6"
          },
          "metadata": {}
        }
      ],
      "execution_count": null
    },
    {
      "cell_type": "code",
      "source": [
        "# 2. Select features (year and views) and target\n",
        "X = genius_song_data[['year', 'views']].values\n",
        "y = genius_song_data['tag_encoded'].values\n",
        "\n",
        "# 3. Split data into training and testing sets\n",
        "X_train, X_test, y_train, y_test = train_test_split(X, y, test_size=0.2, random_state=42)\n",
        "\n",
        "# 4. Standardize numerical features\n",
        "scaler = StandardScaler()\n",
        "X_train = scaler.fit_transform(X_train)\n",
        "X_test = scaler.transform(X_test)\n",
        "\n",
        "# 5. Convert data to PyTorch Tensors\n",
        "X_train_tensor = torch.tensor(X_train, dtype=torch.float32)\n",
        "y_train_tensor = torch.tensor(y_train, dtype=torch.long)\n",
        "X_test_tensor = torch.tensor(X_test, dtype=torch.float32)\n",
        "y_test_tensor = torch.tensor(y_test, dtype=torch.long)\n",
        "\n",
        "# 6. Create DataLoader for efficient training\n",
        "train_dataset = TensorDataset(X_train_tensor, y_train_tensor)\n",
        "train_loader = DataLoader(train_dataset, batch_size=32, shuffle=True)\n",
        "\n",
        "# 7. Define neural network parameters\n",
        "input_size = X_train.shape[1] # Number of features (2: year and views)\n",
        "hidden_size = 64 # You can experiment with this\n",
        "output_size = num_genres # Number of unique genres\n",
        "learning_rate = 0.01 # You can experiment with this\n",
        "epochs = 10 # You can experiment with this"
      ],
      "metadata": {
        "id": "imAv6ZKYjpxL",
        "trusted": true,
        "execution": {
          "iopub.status.busy": "2025-04-23T19:25:30.227003Z",
          "iopub.execute_input": "2025-04-23T19:25:30.227662Z",
          "iopub.status.idle": "2025-04-23T19:25:31.453228Z",
          "shell.execute_reply.started": "2025-04-23T19:25:30.227636Z",
          "shell.execute_reply": "2025-04-23T19:25:31.452445Z"
        }
      },
      "outputs": [],
      "execution_count": null
    },
    {
      "cell_type": "code",
      "source": [
        "# 8. Initialize the model, loss function, and optimizer\n",
        "model = TwoLayerNet(input_size, hidden_size, output_size)\n",
        "criterion = nn.CrossEntropyLoss() # Suitable for multi-class classification\n",
        "optimizer = optim.Adam(model.parameters(), lr=learning_rate)\n",
        "\n",
        "# 9. Train the model\n",
        "for epoch in range(epochs):\n",
        "    for i, (inputs, labels) in enumerate(train_loader):\n",
        "        # Forward pass\n",
        "        outputs = model(inputs)\n",
        "        loss = criterion(outputs, labels)\n",
        "\n",
        "        # Backward and optimize\n",
        "        optimizer.zero_grad() # Clear old gradients from the last step\n",
        "        loss.backward() # Compute gradient of loss with respect to model parameters\n",
        "        optimizer.step() # Apply gradients\n",
        "\n",
        "    print(f'Epoch [{epochs}], Loss: {loss.item():.4f}')\n",
        "\n",
        "# 10. Evaluate the model\n",
        "with torch.no_grad(): # Disable gradient calculation during evaluation\n",
        "    model.eval() # Set the model to evaluation mode\n",
        "    outputs = model(X_test_tensor)\n",
        "    _, predicted = torch.max(outputs.data, 1)\n",
        "    accuracy = (predicted == y_test_tensor).sum().item() / len(y_test_tensor)\n",
        "    print(f'Accuracy of the network on the test set: {accuracy * 100:.2f}%')"
      ],
      "metadata": {
        "id": "U6SSJZVaDNTe",
        "trusted": true,
        "execution": {
          "iopub.status.busy": "2025-04-08T22:51:14.494903Z",
          "iopub.execute_input": "2025-04-08T22:51:14.495191Z",
          "iopub.status.idle": "2025-04-08T23:21:47.056198Z",
          "shell.execute_reply.started": "2025-04-08T22:51:14.495169Z",
          "shell.execute_reply": "2025-04-08T23:21:47.055282Z"
        },
        "outputId": "0bd6c42d-c913-43e7-a1a6-fdef5c7ed799"
      },
      "outputs": [
        {
          "name": "stdout",
          "text": "Epoch [1/10], Step [10000/128372], Loss: 1.2919\nEpoch [1/10], Step [20000/128372], Loss: 1.2588\nEpoch [1/10], Step [30000/128372], Loss: 1.1540\nEpoch [1/10], Step [40000/128372], Loss: 1.2155\nEpoch [1/10], Step [50000/128372], Loss: 1.1365\nEpoch [1/10], Step [60000/128372], Loss: 1.1091\nEpoch [1/10], Step [70000/128372], Loss: 1.0428\nEpoch [1/10], Step [80000/128372], Loss: 1.1509\nEpoch [1/10], Step [90000/128372], Loss: 1.1392\nEpoch [1/10], Step [100000/128372], Loss: 1.2240\nEpoch [1/10], Step [110000/128372], Loss: 1.1724\nEpoch [1/10], Step [120000/128372], Loss: 1.1013\nEpoch [2/10], Step [10000/128372], Loss: 1.0935\nEpoch [2/10], Step [20000/128372], Loss: 1.3114\nEpoch [2/10], Step [30000/128372], Loss: 1.3698\nEpoch [2/10], Step [40000/128372], Loss: 1.0570\nEpoch [2/10], Step [50000/128372], Loss: 1.5960\nEpoch [2/10], Step [60000/128372], Loss: 1.0845\nEpoch [2/10], Step [70000/128372], Loss: 1.0670\nEpoch [2/10], Step [80000/128372], Loss: 1.3972\nEpoch [2/10], Step [90000/128372], Loss: 1.5335\nEpoch [2/10], Step [100000/128372], Loss: 0.9781\nEpoch [2/10], Step [110000/128372], Loss: 1.0618\nEpoch [2/10], Step [120000/128372], Loss: 1.1293\nEpoch [3/10], Step [10000/128372], Loss: 1.4558\nEpoch [3/10], Step [20000/128372], Loss: 1.2557\nEpoch [3/10], Step [30000/128372], Loss: 1.2968\nEpoch [3/10], Step [40000/128372], Loss: 1.2550\nEpoch [3/10], Step [50000/128372], Loss: 1.1161\nEpoch [3/10], Step [60000/128372], Loss: 1.1574\nEpoch [3/10], Step [70000/128372], Loss: 1.4340\nEpoch [3/10], Step [80000/128372], Loss: 1.0976\nEpoch [3/10], Step [90000/128372], Loss: 1.3675\nEpoch [3/10], Step [100000/128372], Loss: 1.2491\nEpoch [3/10], Step [110000/128372], Loss: 1.2768\nEpoch [3/10], Step [120000/128372], Loss: 1.2302\nEpoch [4/10], Step [10000/128372], Loss: 0.9530\nEpoch [4/10], Step [20000/128372], Loss: 1.3406\nEpoch [4/10], Step [30000/128372], Loss: 1.0482\nEpoch [4/10], Step [40000/128372], Loss: 1.2293\nEpoch [4/10], Step [50000/128372], Loss: 1.4004\nEpoch [4/10], Step [60000/128372], Loss: 1.4239\nEpoch [4/10], Step [70000/128372], Loss: 1.3555\nEpoch [4/10], Step [80000/128372], Loss: 1.2124\nEpoch [4/10], Step [90000/128372], Loss: 1.1450\nEpoch [4/10], Step [100000/128372], Loss: 1.2505\nEpoch [4/10], Step [110000/128372], Loss: 1.0590\nEpoch [4/10], Step [120000/128372], Loss: 1.2689\nEpoch [5/10], Step [10000/128372], Loss: 0.9965\nEpoch [5/10], Step [20000/128372], Loss: 1.3638\nEpoch [5/10], Step [30000/128372], Loss: 1.2288\nEpoch [5/10], Step [40000/128372], Loss: 1.3156\nEpoch [5/10], Step [50000/128372], Loss: 1.1541\nEpoch [5/10], Step [60000/128372], Loss: 1.4950\nEpoch [5/10], Step [70000/128372], Loss: 1.4732\nEpoch [5/10], Step [80000/128372], Loss: 1.0878\nEpoch [5/10], Step [90000/128372], Loss: 1.4909\nEpoch [5/10], Step [100000/128372], Loss: 1.1479\nEpoch [5/10], Step [110000/128372], Loss: 1.0780\nEpoch [5/10], Step [120000/128372], Loss: 1.0402\nEpoch [6/10], Step [10000/128372], Loss: 1.0347\nEpoch [6/10], Step [20000/128372], Loss: 1.0853\nEpoch [6/10], Step [30000/128372], Loss: 1.0657\nEpoch [6/10], Step [40000/128372], Loss: 1.3266\nEpoch [6/10], Step [50000/128372], Loss: 0.9993\nEpoch [6/10], Step [60000/128372], Loss: 1.0930\nEpoch [6/10], Step [70000/128372], Loss: 1.0535\nEpoch [6/10], Step [80000/128372], Loss: 1.2348\nEpoch [6/10], Step [90000/128372], Loss: 1.5338\nEpoch [6/10], Step [100000/128372], Loss: 1.4652\nEpoch [6/10], Step [110000/128372], Loss: 1.0696\nEpoch [6/10], Step [120000/128372], Loss: 1.2838\nEpoch [7/10], Step [10000/128372], Loss: 1.0913\nEpoch [7/10], Step [20000/128372], Loss: 1.2434\nEpoch [7/10], Step [30000/128372], Loss: 1.1904\nEpoch [7/10], Step [40000/128372], Loss: 1.2832\nEpoch [7/10], Step [50000/128372], Loss: 1.1229\nEpoch [7/10], Step [60000/128372], Loss: 1.2552\nEpoch [7/10], Step [70000/128372], Loss: 1.0996\nEpoch [7/10], Step [80000/128372], Loss: 1.4528\nEpoch [7/10], Step [90000/128372], Loss: 1.2541\nEpoch [7/10], Step [100000/128372], Loss: 1.3727\nEpoch [7/10], Step [110000/128372], Loss: 0.9798\nEpoch [7/10], Step [120000/128372], Loss: 1.3518\nEpoch [8/10], Step [10000/128372], Loss: 1.2163\nEpoch [8/10], Step [20000/128372], Loss: 1.1066\nEpoch [8/10], Step [30000/128372], Loss: 1.2730\nEpoch [8/10], Step [40000/128372], Loss: 1.3490\nEpoch [8/10], Step [50000/128372], Loss: 1.1098\nEpoch [8/10], Step [60000/128372], Loss: 1.3172\nEpoch [8/10], Step [70000/128372], Loss: 1.3919\nEpoch [8/10], Step [80000/128372], Loss: 1.2478\nEpoch [8/10], Step [90000/128372], Loss: 1.2970\nEpoch [8/10], Step [100000/128372], Loss: 1.3234\nEpoch [8/10], Step [110000/128372], Loss: 1.2667\nEpoch [8/10], Step [120000/128372], Loss: 1.1401\nEpoch [9/10], Step [10000/128372], Loss: 1.0428\nEpoch [9/10], Step [20000/128372], Loss: 1.2892\nEpoch [9/10], Step [30000/128372], Loss: 1.3075\nEpoch [9/10], Step [40000/128372], Loss: 1.1803\nEpoch [9/10], Step [50000/128372], Loss: 1.3351\nEpoch [9/10], Step [60000/128372], Loss: 1.2671\nEpoch [9/10], Step [70000/128372], Loss: 1.3149\nEpoch [9/10], Step [80000/128372], Loss: 1.4861\nEpoch [9/10], Step [90000/128372], Loss: 1.3282\nEpoch [9/10], Step [100000/128372], Loss: 1.3876\nEpoch [9/10], Step [110000/128372], Loss: 1.0202\nEpoch [9/10], Step [120000/128372], Loss: 1.4622\nEpoch [10/10], Step [10000/128372], Loss: 1.2415\nEpoch [10/10], Step [20000/128372], Loss: 1.2229\nEpoch [10/10], Step [30000/128372], Loss: 1.2402\nEpoch [10/10], Step [40000/128372], Loss: 1.1876\nEpoch [10/10], Step [50000/128372], Loss: 1.2148\nEpoch [10/10], Step [60000/128372], Loss: 1.2774\nEpoch [10/10], Step [70000/128372], Loss: 0.9686\nEpoch [10/10], Step [80000/128372], Loss: 1.2743\nEpoch [10/10], Step [90000/128372], Loss: 1.1932\nEpoch [10/10], Step [100000/128372], Loss: 1.0613\nEpoch [10/10], Step [110000/128372], Loss: 1.1386\nEpoch [10/10], Step [120000/128372], Loss: 1.0716\nAccuracy of the network on the test set: 47.69%\n",
          "output_type": "stream"
        }
      ],
      "execution_count": null
    },
    {
      "cell_type": "code",
      "source": [
        "class ImprovedNet(nn.Module):\n",
        "    def __init__(self, input_size, hidden_size, output_size):\n",
        "        super(ImprovedNet, self).__init__()\n",
        "        self.fc1 = nn.Linear(input_size, hidden_size)\n",
        "        self.relu = nn.ReLU()\n",
        "        self.fc2 = nn.Linear(hidden_size, hidden_size)\n",
        "        self.fc3 = nn.Linear(hidden_size, output_size)\n",
        "        self.dropout = nn.Dropout(0.5)\n",
        "\n",
        "    def forward(self, x):\n",
        "        out = self.relu(self.fc1(x))\n",
        "        out = self.dropout(out)\n",
        "        out = self.relu(self.fc2(out))\n",
        "        out = self.dropout(out)\n",
        "        out = self.fc3(out)\n",
        "        return out\n",
        "\n"
      ],
      "metadata": {
        "trusted": true,
        "execution": {
          "iopub.status.busy": "2025-04-23T19:24:52.912201Z",
          "iopub.execute_input": "2025-04-23T19:24:52.912642Z",
          "iopub.status.idle": "2025-04-23T19:24:52.917839Z",
          "shell.execute_reply.started": "2025-04-23T19:24:52.912618Z",
          "shell.execute_reply": "2025-04-23T19:24:52.917059Z"
        },
        "id": "zmpq1KUG9CfG"
      },
      "outputs": [],
      "execution_count": null
    },
    {
      "cell_type": "code",
      "source": [
        "model = ImprovedNet(input_size, 128, output_size)  # Increased hidden_size to 128\n",
        "criterion = nn.CrossEntropyLoss()\n",
        "optimizer = optim.Adam(model.parameters(), lr=0.001, weight_decay=1e-5)\n",
        "\n",
        "model.train()\n",
        "for epoch in range(20):\n",
        "    total_loss = 0\n",
        "    for inputs, labels in train_loader:\n",
        "        outputs = model(inputs)\n",
        "        loss = criterion(outputs, labels)\n",
        "\n",
        "        optimizer.zero_grad()\n",
        "        loss.backward()\n",
        "        optimizer.step()\n",
        "\n",
        "        total_loss += loss.item()\n",
        "\n",
        "    avg_loss = total_loss / len(train_loader)\n",
        "    print(f'Epoch [{epoch+1}/20], Average Loss: {avg_loss:.4f}')\n",
        "\n",
        "# Evaluation\n",
        "model.eval()\n",
        "with torch.no_grad():\n",
        "    outputs = model(X_test_tensor)\n",
        "    _, predicted = torch.max(outputs, 1)\n",
        "    accuracy = (predicted == y_test_tensor).sum().item() / len(y_test_tensor)\n",
        "    print(f'Accuracy on test set: {accuracy * 100:.2f}%')\n"
      ],
      "metadata": {
        "trusted": true,
        "execution": {
          "iopub.status.busy": "2025-04-23T19:54:13.859382Z",
          "iopub.execute_input": "2025-04-23T19:54:13.859656Z",
          "iopub.status.idle": "2025-04-23T21:40:55.53296Z",
          "shell.execute_reply.started": "2025-04-23T19:54:13.859637Z",
          "shell.execute_reply": "2025-04-23T21:40:55.532049Z"
        },
        "id": "Jro-5lTi9CfG",
        "outputId": "581c75ee-27f3-4a7c-bb50-5159eb0bc3f6"
      },
      "outputs": [
        {
          "name": "stdout",
          "text": "Epoch [1/20], Average Loss: 1.2359\nEpoch [2/20], Average Loss: 1.2266\nEpoch [3/20], Average Loss: 1.2253\nEpoch [4/20], Average Loss: 1.2231\nEpoch [5/20], Average Loss: 1.2218\nEpoch [6/20], Average Loss: 1.2209\nEpoch [7/20], Average Loss: 1.2202\nEpoch [8/20], Average Loss: 1.2199\nEpoch [9/20], Average Loss: 1.2193\nEpoch [10/20], Average Loss: 1.2195\nEpoch [11/20], Average Loss: 1.2189\nEpoch [12/20], Average Loss: 1.2190\nEpoch [13/20], Average Loss: 1.2194\nEpoch [14/20], Average Loss: 1.2189\nEpoch [15/20], Average Loss: 1.2191\nEpoch [16/20], Average Loss: 1.2190\nEpoch [17/20], Average Loss: 1.2188\nEpoch [18/20], Average Loss: 1.2188\nEpoch [19/20], Average Loss: 1.2184\nEpoch [20/20], Average Loss: 1.2183\nAccuracy on test set: 52.58%\n",
          "output_type": "stream"
        }
      ],
      "execution_count": null
    },
    {
      "cell_type": "markdown",
      "source": [
        "## Task 3 (10 points):\n",
        "In task 2 describe how you selected the hyperparameters. What was the rationale behind the technique you used? Did you use regularization? Why, or why not? Did you use an optimization algorithm? Why or why not?"
      ],
      "metadata": {
        "id": "EZIgRIGCjqIh"
      }
    },
    {
      "cell_type": "markdown",
      "source": [
        "## Enhanced Analysis of Training Experiments\n",
        "\n",
        "### 1&nbsp;&nbsp;Overview  \n",
        "Two sequential experiments were run:\n",
        "\n",
        "| Experiment | Epochs | Learning Rate | Optimizer | Hidden Layers / Neurons | Regularization | Test Accuracy |\n",
        "|------------|--------|---------------|-----------|-------------------------|----------------|---------------|\n",
        "| **Baseline** | 10 | 0.01 | SGD (assumed) | Original architecture | None | **47.69 %** |\n",
        "| **Improved** | 20 | 0.001 | Adam | +1 hidden layer, 128 neurons | Dropout 0.5 + L2 1e‑5 | **52.58 %** |\n",
        "\n",
        "### 2&nbsp;&nbsp;Performance Improvement  \n",
        "The **4.89 percentage‑point** test‑accuracy lift represents a relative gain of **≈ 10 %**, confirming the revised hyper‑parameter configuration delivers measurably better generalisation.\n",
        "\n",
        "| Metric | Baseline | Improved | Absolute Δ | Relative Δ |\n",
        "|--------|----------|----------|------------|------------|\n",
        "| Test Accuracy | 47.69 % | 52.58 % | +4.89 pp | +10.3 % |\n",
        "| Avg. Loss (Early) | 1.2359 | 1.2266 | −0.0093 | −0.75 % |\n",
        "| Avg. Loss (Final) | — | 1.2183 | — | — |\n",
        "\n",
        "*The baseline run did not track epoch‑level averages, so the early value is used as a proxy.*\n",
        "\n",
        "### 3&nbsp;&nbsp;Driver Attribution  \n",
        "1. **Learning‑Rate Decay** – Lowering η from 0.01 → 0.001 mitigated overshooting, producing a smoother descent.  \n",
        "2. **Extended Training Horizon** – Doubling epochs allowed the network to exploit the smaller LR fully and converge.  \n",
        "3. **Capacity Increase** – An extra hidden layer with 128 neurons helped model higher‑order feature interactions.  \n",
        "4. **Regularisation** – Dropout and L2 constrained the larger model, reducing overfitting risk.  \n",
        "5. **Adam Optimiser** – Adaptive updates accelerated convergence without the volatility observed in the baseline.\n",
        "\n",
        "### 4&nbsp;&nbsp;Recommendations  \n",
        "* **Track Validation Loss** to rule out test‑set leakage and detect overfitting earlier.  \n",
        "* **Introduce Early‑Stopping & LR Scheduling** to shorten training while preserving accuracy.  \n",
        "* **Run Ablations** (e.g., disable dropout or L2) to quantify each component’s individual contribution.  \n",
        "* **Visualise Loss/Accuracy Curves** for clearer diagnostics (plots can be added in subsequent cells).\n",
        "\n"
      ],
      "metadata": {
        "id": "4uIWUv-B9CfG"
      }
    },
    {
      "cell_type": "markdown",
      "source": [
        "The following summarizes the choices made and the rationale behind each:\n",
        "\n",
        "* Learning Rate:\n",
        "\n",
        "    * Initially, the learning rate was set to 0.01, but fluctuations in the loss suggested instability. To address this, the learning rate was reduced to 0.001. This smaller value provided a better balance between convergence speed and stability, minimizing oscillations in loss values and improving overall accuracy.\n",
        "\n",
        "* Number of Epochs:\n",
        "\n",
        "    * The epoch count was increased from 10 to 20 based on observations that indicated the model had not fully converged within the initial 10 epochs. Extending the training period allowed the model to learn more effectively from the dataset, leading to improved accuracy.\n",
        "\n",
        "* Network Architecture:\n",
        "\n",
        "    * The complexity of the network was enhanced by adding an extra hidden layer and increasing the number of neurons to 128. This decision was driven by the need for the network to better capture complex relationships within the data, potentially improving performance.\n",
        "\n",
        "* Regularization (Dropout and Weight Decay):\n",
        "\n",
        "    * Dropout regularization with a probability of 0.5 was introduced to mitigate overfitting. Dropout randomly deactivates neurons during training, promoting model generalization. Additionally, L2 regularization (weight decay) with a factor of 1e-5 was applied within the optimizer to penalize large weight values, further reducing the risk of overfitting.\n",
        "\n",
        "* Optimization Algorithm:\n",
        "\n",
        "    * The Adam optimizer was chosen due to its adaptive learning rate capability, efficiently handling noisy gradients, and its proven performance in various deep learning applications. Adam typically converges faster and more reliably than simpler methods such as SGD, especially in complex or noisy datasets."
      ],
      "metadata": {
        "id": "XPY3-2AD9CfH"
      }
    }
  ]
}