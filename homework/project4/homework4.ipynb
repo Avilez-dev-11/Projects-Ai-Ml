{
  "cells": [
    {
      "cell_type": "markdown",
      "metadata": {
        "id": "Zq4oTpqgRr2H"
      },
      "source": [
        "# **Task 2 (75 points):**\n",
        "In this task, you will pick a dataset (time-series or any other form of\n",
        "sequential data) and an associated problem that can be solved via sequence models. You must\n",
        "describe why you need sequence models to solve this problem. Include a link to the dataset\n",
        "source. Next, you should pick an RNN framework that you would use to solve this problem (This\n",
        "framework can be in TensorFlow, PyTorch or any other Python Package)."
      ]
    },
    {
      "cell_type": "code",
      "source": [
        "# prompt: connect google drive\n",
        "\n",
        "from google.colab import drive\n",
        "drive.mount('/content/drive')\n"
      ],
      "metadata": {
        "colab": {
          "base_uri": "https://localhost:8080/"
        },
        "id": "JQYZ8AaeXXIR",
        "outputId": "edf48cf6-04c1-44c5-e34b-c254fea1db99"
      },
      "execution_count": 1,
      "outputs": [
        {
          "output_type": "stream",
          "name": "stdout",
          "text": [
            "Drive already mounted at /content/drive; to attempt to forcibly remount, call drive.mount(\"/content/drive\", force_remount=True).\n"
          ]
        }
      ]
    },
    {
      "cell_type": "code",
      "source": [
        "ls drive/MyDrive/RPI/Spr2025/ProjAiMl/homework4/"
      ],
      "metadata": {
        "colab": {
          "base_uri": "https://localhost:8080/"
        },
        "id": "xX_jxCTjXftz",
        "outputId": "4b667ffd-c6e5-4e87-eb17-ef5d140bd5ad"
      },
      "execution_count": 2,
      "outputs": [
        {
          "output_type": "stream",
          "name": "stdout",
          "text": [
            "homework4  YoutubeCommentsDataSet.csv\n"
          ]
        }
      ]
    },
    {
      "cell_type": "markdown",
      "source": [
        "https://www.kaggle.com/datasets/atifaliak/youtube-comments-dataset"
      ],
      "metadata": {
        "id": "OLrZXBwYhPzn"
      }
    },
    {
      "cell_type": "code",
      "execution_count": 3,
      "metadata": {
        "execution": {
          "iopub.execute_input": "2024-02-27T17:06:09.749777Z",
          "iopub.status.busy": "2024-02-27T17:06:09.749125Z",
          "iopub.status.idle": "2024-02-27T17:06:10.496169Z",
          "shell.execute_reply": "2024-02-27T17:06:10.4953Z",
          "shell.execute_reply.started": "2024-02-27T17:06:09.749742Z"
        },
        "id": "Tjo-Zx9oRr2K",
        "trusted": true
      },
      "outputs": [],
      "source": [
        "# Libraries\n",
        "import numpy as np\n",
        "import pandas as pd\n",
        "import tensorflow as tf\n",
        "import matplotlib.pyplot as plt\n",
        "\n",
        "df = pd.read_csv(\"drive/MyDrive/RPI/Spr2025/ProjAiMl/homework4/YoutubeCommentsDataSet.csv\")\n",
        "SEED = 5555"
      ]
    },
    {
      "cell_type": "code",
      "execution_count": 4,
      "metadata": {
        "_cell_guid": "b1076dfc-b9ad-4769-8c92-a6c4dae69d19",
        "_uuid": "8f2839f25d086af736a60e9eeb907d3b93b6e0e5",
        "execution": {
          "iopub.execute_input": "2024-02-27T17:06:10.497929Z",
          "iopub.status.busy": "2024-02-27T17:06:10.497632Z",
          "iopub.status.idle": "2024-02-27T17:06:10.508063Z",
          "shell.execute_reply": "2024-02-27T17:06:10.507132Z",
          "shell.execute_reply.started": "2024-02-27T17:06:10.497903Z"
        },
        "id": "ReM8v3iGRr2L",
        "outputId": "06d78669-6b7e-41ba-e6f8-7a3dbacfd2f4",
        "trusted": true,
        "colab": {
          "base_uri": "https://localhost:8080/",
          "height": 201
        }
      },
      "outputs": [
        {
          "output_type": "execute_result",
          "data": {
            "text/plain": [
              "                                             Comment Sentiment\n",
              "0  lets not forget that apple pay in 2014 require...   neutral\n",
              "1  here in nz 50 of retailers don’t even have con...  negative\n",
              "2  i will forever acknowledge this channel with t...  positive\n",
              "3  whenever i go to a place that doesn’t take app...  negative\n",
              "4  apple pay is so convenient secure and easy to ...  positive"
            ],
            "text/html": [
              "\n",
              "  <div id=\"df-59ced474-7a3c-41ff-8a5d-83f189d2a598\" class=\"colab-df-container\">\n",
              "    <div>\n",
              "<style scoped>\n",
              "    .dataframe tbody tr th:only-of-type {\n",
              "        vertical-align: middle;\n",
              "    }\n",
              "\n",
              "    .dataframe tbody tr th {\n",
              "        vertical-align: top;\n",
              "    }\n",
              "\n",
              "    .dataframe thead th {\n",
              "        text-align: right;\n",
              "    }\n",
              "</style>\n",
              "<table border=\"1\" class=\"dataframe\">\n",
              "  <thead>\n",
              "    <tr style=\"text-align: right;\">\n",
              "      <th></th>\n",
              "      <th>Comment</th>\n",
              "      <th>Sentiment</th>\n",
              "    </tr>\n",
              "  </thead>\n",
              "  <tbody>\n",
              "    <tr>\n",
              "      <th>0</th>\n",
              "      <td>lets not forget that apple pay in 2014 require...</td>\n",
              "      <td>neutral</td>\n",
              "    </tr>\n",
              "    <tr>\n",
              "      <th>1</th>\n",
              "      <td>here in nz 50 of retailers don’t even have con...</td>\n",
              "      <td>negative</td>\n",
              "    </tr>\n",
              "    <tr>\n",
              "      <th>2</th>\n",
              "      <td>i will forever acknowledge this channel with t...</td>\n",
              "      <td>positive</td>\n",
              "    </tr>\n",
              "    <tr>\n",
              "      <th>3</th>\n",
              "      <td>whenever i go to a place that doesn’t take app...</td>\n",
              "      <td>negative</td>\n",
              "    </tr>\n",
              "    <tr>\n",
              "      <th>4</th>\n",
              "      <td>apple pay is so convenient secure and easy to ...</td>\n",
              "      <td>positive</td>\n",
              "    </tr>\n",
              "  </tbody>\n",
              "</table>\n",
              "</div>\n",
              "    <div class=\"colab-df-buttons\">\n",
              "\n",
              "  <div class=\"colab-df-container\">\n",
              "    <button class=\"colab-df-convert\" onclick=\"convertToInteractive('df-59ced474-7a3c-41ff-8a5d-83f189d2a598')\"\n",
              "            title=\"Convert this dataframe to an interactive table.\"\n",
              "            style=\"display:none;\">\n",
              "\n",
              "  <svg xmlns=\"http://www.w3.org/2000/svg\" height=\"24px\" viewBox=\"0 -960 960 960\">\n",
              "    <path d=\"M120-120v-720h720v720H120Zm60-500h600v-160H180v160Zm220 220h160v-160H400v160Zm0 220h160v-160H400v160ZM180-400h160v-160H180v160Zm440 0h160v-160H620v160ZM180-180h160v-160H180v160Zm440 0h160v-160H620v160Z\"/>\n",
              "  </svg>\n",
              "    </button>\n",
              "\n",
              "  <style>\n",
              "    .colab-df-container {\n",
              "      display:flex;\n",
              "      gap: 12px;\n",
              "    }\n",
              "\n",
              "    .colab-df-convert {\n",
              "      background-color: #E8F0FE;\n",
              "      border: none;\n",
              "      border-radius: 50%;\n",
              "      cursor: pointer;\n",
              "      display: none;\n",
              "      fill: #1967D2;\n",
              "      height: 32px;\n",
              "      padding: 0 0 0 0;\n",
              "      width: 32px;\n",
              "    }\n",
              "\n",
              "    .colab-df-convert:hover {\n",
              "      background-color: #E2EBFA;\n",
              "      box-shadow: 0px 1px 2px rgba(60, 64, 67, 0.3), 0px 1px 3px 1px rgba(60, 64, 67, 0.15);\n",
              "      fill: #174EA6;\n",
              "    }\n",
              "\n",
              "    .colab-df-buttons div {\n",
              "      margin-bottom: 4px;\n",
              "    }\n",
              "\n",
              "    [theme=dark] .colab-df-convert {\n",
              "      background-color: #3B4455;\n",
              "      fill: #D2E3FC;\n",
              "    }\n",
              "\n",
              "    [theme=dark] .colab-df-convert:hover {\n",
              "      background-color: #434B5C;\n",
              "      box-shadow: 0px 1px 3px 1px rgba(0, 0, 0, 0.15);\n",
              "      filter: drop-shadow(0px 1px 2px rgba(0, 0, 0, 0.3));\n",
              "      fill: #FFFFFF;\n",
              "    }\n",
              "  </style>\n",
              "\n",
              "    <script>\n",
              "      const buttonEl =\n",
              "        document.querySelector('#df-59ced474-7a3c-41ff-8a5d-83f189d2a598 button.colab-df-convert');\n",
              "      buttonEl.style.display =\n",
              "        google.colab.kernel.accessAllowed ? 'block' : 'none';\n",
              "\n",
              "      async function convertToInteractive(key) {\n",
              "        const element = document.querySelector('#df-59ced474-7a3c-41ff-8a5d-83f189d2a598');\n",
              "        const dataTable =\n",
              "          await google.colab.kernel.invokeFunction('convertToInteractive',\n",
              "                                                    [key], {});\n",
              "        if (!dataTable) return;\n",
              "\n",
              "        const docLinkHtml = 'Like what you see? Visit the ' +\n",
              "          '<a target=\"_blank\" href=https://colab.research.google.com/notebooks/data_table.ipynb>data table notebook</a>'\n",
              "          + ' to learn more about interactive tables.';\n",
              "        element.innerHTML = '';\n",
              "        dataTable['output_type'] = 'display_data';\n",
              "        await google.colab.output.renderOutput(dataTable, element);\n",
              "        const docLink = document.createElement('div');\n",
              "        docLink.innerHTML = docLinkHtml;\n",
              "        element.appendChild(docLink);\n",
              "      }\n",
              "    </script>\n",
              "  </div>\n",
              "\n",
              "\n",
              "<div id=\"df-66fe1633-c14f-47dd-959e-622afb9c3963\">\n",
              "  <button class=\"colab-df-quickchart\" onclick=\"quickchart('df-66fe1633-c14f-47dd-959e-622afb9c3963')\"\n",
              "            title=\"Suggest charts\"\n",
              "            style=\"display:none;\">\n",
              "\n",
              "<svg xmlns=\"http://www.w3.org/2000/svg\" height=\"24px\"viewBox=\"0 0 24 24\"\n",
              "     width=\"24px\">\n",
              "    <g>\n",
              "        <path d=\"M19 3H5c-1.1 0-2 .9-2 2v14c0 1.1.9 2 2 2h14c1.1 0 2-.9 2-2V5c0-1.1-.9-2-2-2zM9 17H7v-7h2v7zm4 0h-2V7h2v10zm4 0h-2v-4h2v4z\"/>\n",
              "    </g>\n",
              "</svg>\n",
              "  </button>\n",
              "\n",
              "<style>\n",
              "  .colab-df-quickchart {\n",
              "      --bg-color: #E8F0FE;\n",
              "      --fill-color: #1967D2;\n",
              "      --hover-bg-color: #E2EBFA;\n",
              "      --hover-fill-color: #174EA6;\n",
              "      --disabled-fill-color: #AAA;\n",
              "      --disabled-bg-color: #DDD;\n",
              "  }\n",
              "\n",
              "  [theme=dark] .colab-df-quickchart {\n",
              "      --bg-color: #3B4455;\n",
              "      --fill-color: #D2E3FC;\n",
              "      --hover-bg-color: #434B5C;\n",
              "      --hover-fill-color: #FFFFFF;\n",
              "      --disabled-bg-color: #3B4455;\n",
              "      --disabled-fill-color: #666;\n",
              "  }\n",
              "\n",
              "  .colab-df-quickchart {\n",
              "    background-color: var(--bg-color);\n",
              "    border: none;\n",
              "    border-radius: 50%;\n",
              "    cursor: pointer;\n",
              "    display: none;\n",
              "    fill: var(--fill-color);\n",
              "    height: 32px;\n",
              "    padding: 0;\n",
              "    width: 32px;\n",
              "  }\n",
              "\n",
              "  .colab-df-quickchart:hover {\n",
              "    background-color: var(--hover-bg-color);\n",
              "    box-shadow: 0 1px 2px rgba(60, 64, 67, 0.3), 0 1px 3px 1px rgba(60, 64, 67, 0.15);\n",
              "    fill: var(--button-hover-fill-color);\n",
              "  }\n",
              "\n",
              "  .colab-df-quickchart-complete:disabled,\n",
              "  .colab-df-quickchart-complete:disabled:hover {\n",
              "    background-color: var(--disabled-bg-color);\n",
              "    fill: var(--disabled-fill-color);\n",
              "    box-shadow: none;\n",
              "  }\n",
              "\n",
              "  .colab-df-spinner {\n",
              "    border: 2px solid var(--fill-color);\n",
              "    border-color: transparent;\n",
              "    border-bottom-color: var(--fill-color);\n",
              "    animation:\n",
              "      spin 1s steps(1) infinite;\n",
              "  }\n",
              "\n",
              "  @keyframes spin {\n",
              "    0% {\n",
              "      border-color: transparent;\n",
              "      border-bottom-color: var(--fill-color);\n",
              "      border-left-color: var(--fill-color);\n",
              "    }\n",
              "    20% {\n",
              "      border-color: transparent;\n",
              "      border-left-color: var(--fill-color);\n",
              "      border-top-color: var(--fill-color);\n",
              "    }\n",
              "    30% {\n",
              "      border-color: transparent;\n",
              "      border-left-color: var(--fill-color);\n",
              "      border-top-color: var(--fill-color);\n",
              "      border-right-color: var(--fill-color);\n",
              "    }\n",
              "    40% {\n",
              "      border-color: transparent;\n",
              "      border-right-color: var(--fill-color);\n",
              "      border-top-color: var(--fill-color);\n",
              "    }\n",
              "    60% {\n",
              "      border-color: transparent;\n",
              "      border-right-color: var(--fill-color);\n",
              "    }\n",
              "    80% {\n",
              "      border-color: transparent;\n",
              "      border-right-color: var(--fill-color);\n",
              "      border-bottom-color: var(--fill-color);\n",
              "    }\n",
              "    90% {\n",
              "      border-color: transparent;\n",
              "      border-bottom-color: var(--fill-color);\n",
              "    }\n",
              "  }\n",
              "</style>\n",
              "\n",
              "  <script>\n",
              "    async function quickchart(key) {\n",
              "      const quickchartButtonEl =\n",
              "        document.querySelector('#' + key + ' button');\n",
              "      quickchartButtonEl.disabled = true;  // To prevent multiple clicks.\n",
              "      quickchartButtonEl.classList.add('colab-df-spinner');\n",
              "      try {\n",
              "        const charts = await google.colab.kernel.invokeFunction(\n",
              "            'suggestCharts', [key], {});\n",
              "      } catch (error) {\n",
              "        console.error('Error during call to suggestCharts:', error);\n",
              "      }\n",
              "      quickchartButtonEl.classList.remove('colab-df-spinner');\n",
              "      quickchartButtonEl.classList.add('colab-df-quickchart-complete');\n",
              "    }\n",
              "    (() => {\n",
              "      let quickchartButtonEl =\n",
              "        document.querySelector('#df-66fe1633-c14f-47dd-959e-622afb9c3963 button');\n",
              "      quickchartButtonEl.style.display =\n",
              "        google.colab.kernel.accessAllowed ? 'block' : 'none';\n",
              "    })();\n",
              "  </script>\n",
              "</div>\n",
              "\n",
              "    </div>\n",
              "  </div>\n"
            ],
            "application/vnd.google.colaboratory.intrinsic+json": {
              "type": "dataframe",
              "variable_name": "df",
              "summary": "{\n  \"name\": \"df\",\n  \"rows\": 18408,\n  \"fields\": [\n    {\n      \"column\": \"Comment\",\n      \"properties\": {\n        \"dtype\": \"string\",\n        \"num_unique_values\": 17871,\n        \"samples\": [\n          \"which apple product are you most excited about in september this is the best iphone accessory in 2022  links to the best iphone accessory deals on amazon  airpods pro on sale  airpods 3 sale \",\n          \"1948 i understand that this is for beginners just starting with sql but in my opinion you should always delete with unique value like id in this case because later youll probably have more than one jeff keep up the good work\",\n          \"i want to go to pakistan just to eat food with ali i really enjoyed his personality hes got a great sense of humor and hes obviously super passionate about educating people on the beauty of his country\"\n        ],\n        \"semantic_type\": \"\",\n        \"description\": \"\"\n      }\n    },\n    {\n      \"column\": \"Sentiment\",\n      \"properties\": {\n        \"dtype\": \"category\",\n        \"num_unique_values\": 3,\n        \"samples\": [\n          \"neutral\",\n          \"negative\",\n          \"positive\"\n        ],\n        \"semantic_type\": \"\",\n        \"description\": \"\"\n      }\n    }\n  ]\n}"
            }
          },
          "metadata": {},
          "execution_count": 4
        }
      ],
      "source": [
        "df.head()"
      ]
    },
    {
      "cell_type": "markdown",
      "metadata": {
        "id": "L0jG8hAVRr2L"
      },
      "source": [
        "The checking of null values in the dataset ensures data integrity and reduces the need for data preprocessing steps. This can potentially improve the training efficiency and effectiveness of the model."
      ]
    },
    {
      "cell_type": "code",
      "execution_count": 5,
      "metadata": {
        "execution": {
          "iopub.execute_input": "2024-02-27T17:06:10.509591Z",
          "iopub.status.busy": "2024-02-27T17:06:10.509278Z",
          "iopub.status.idle": "2024-02-27T17:06:10.584037Z",
          "shell.execute_reply": "2024-02-27T17:06:10.582644Z",
          "shell.execute_reply.started": "2024-02-27T17:06:10.509565Z"
        },
        "id": "yjMt9l-GRr2L",
        "outputId": "ec9d70ba-87d5-4674-f4af-ef3feb481c1e",
        "trusted": true,
        "colab": {
          "base_uri": "https://localhost:8080/",
          "height": 142
        }
      },
      "outputs": [
        {
          "output_type": "execute_result",
          "data": {
            "text/plain": [
              "Comment      44\n",
              "Sentiment     0\n",
              "dtype: int64"
            ],
            "text/html": [
              "<div>\n",
              "<style scoped>\n",
              "    .dataframe tbody tr th:only-of-type {\n",
              "        vertical-align: middle;\n",
              "    }\n",
              "\n",
              "    .dataframe tbody tr th {\n",
              "        vertical-align: top;\n",
              "    }\n",
              "\n",
              "    .dataframe thead th {\n",
              "        text-align: right;\n",
              "    }\n",
              "</style>\n",
              "<table border=\"1\" class=\"dataframe\">\n",
              "  <thead>\n",
              "    <tr style=\"text-align: right;\">\n",
              "      <th></th>\n",
              "      <th>0</th>\n",
              "    </tr>\n",
              "  </thead>\n",
              "  <tbody>\n",
              "    <tr>\n",
              "      <th>Comment</th>\n",
              "      <td>44</td>\n",
              "    </tr>\n",
              "    <tr>\n",
              "      <th>Sentiment</th>\n",
              "      <td>0</td>\n",
              "    </tr>\n",
              "  </tbody>\n",
              "</table>\n",
              "</div><br><label><b>dtype:</b> int64</label>"
            ]
          },
          "metadata": {},
          "execution_count": 5
        }
      ],
      "source": [
        "df.isnull().sum()"
      ]
    },
    {
      "cell_type": "code",
      "source": [
        "# Remove rows with NaNs in the 'Comment' column\n",
        "df = df.dropna(subset=['Comment'])"
      ],
      "metadata": {
        "id": "xtnukYKDpOfE"
      },
      "execution_count": 6,
      "outputs": []
    },
    {
      "cell_type": "markdown",
      "metadata": {
        "id": "rQo_NQ-RRr2M"
      },
      "source": [
        "The first column labeled Comment was cleaned up removing null values from the dataset. Removing NaNs helps improve the clarity and efficiency of subsequent data processing and model training."
      ]
    },
    {
      "cell_type": "code",
      "execution_count": 7,
      "metadata": {
        "execution": {
          "iopub.execute_input": "2024-02-27T17:06:10.60843Z",
          "iopub.status.busy": "2024-02-27T17:06:10.60806Z",
          "iopub.status.idle": "2024-02-27T17:06:10.667931Z",
          "shell.execute_reply": "2024-02-27T17:06:10.667Z",
          "shell.execute_reply.started": "2024-02-27T17:06:10.608399Z"
        },
        "id": "0fUJxOyJRr2M",
        "outputId": "9d29a70a-2902-44a8-e8ca-a3c9587f2a47",
        "trusted": true,
        "colab": {
          "base_uri": "https://localhost:8080/"
        }
      },
      "outputs": [
        {
          "output_type": "execute_result",
          "data": {
            "text/plain": [
              "2337"
            ]
          },
          "metadata": {},
          "execution_count": 7
        }
      ],
      "source": [
        "len(df[df[\"Sentiment\"]== \"negative\"]) # negative"
      ]
    },
    {
      "cell_type": "code",
      "execution_count": 8,
      "metadata": {
        "execution": {
          "iopub.execute_input": "2024-02-27T17:06:10.669712Z",
          "iopub.status.busy": "2024-02-27T17:06:10.669291Z",
          "iopub.status.idle": "2024-02-27T17:06:10.715766Z",
          "shell.execute_reply": "2024-02-27T17:06:10.714857Z",
          "shell.execute_reply.started": "2024-02-27T17:06:10.669671Z"
        },
        "id": "GzUqhj39Rr2M",
        "outputId": "6807d27b-1fa4-48fd-b4db-246551db172a",
        "trusted": true,
        "colab": {
          "base_uri": "https://localhost:8080/"
        }
      },
      "outputs": [
        {
          "output_type": "execute_result",
          "data": {
            "text/plain": [
              "4625"
            ]
          },
          "metadata": {},
          "execution_count": 8
        }
      ],
      "source": [
        "len(df[df[\"Sentiment\"]== \"neutral\"]) # neutral"
      ]
    },
    {
      "cell_type": "code",
      "execution_count": 9,
      "metadata": {
        "execution": {
          "iopub.execute_input": "2024-02-27T17:06:10.717257Z",
          "iopub.status.busy": "2024-02-27T17:06:10.716943Z",
          "iopub.status.idle": "2024-02-27T17:06:10.764463Z",
          "shell.execute_reply": "2024-02-27T17:06:10.763463Z",
          "shell.execute_reply.started": "2024-02-27T17:06:10.717226Z"
        },
        "id": "vEUm4krwRr2M",
        "outputId": "035841db-b916-485d-86ec-774166341b63",
        "trusted": true,
        "colab": {
          "base_uri": "https://localhost:8080/"
        }
      },
      "outputs": [
        {
          "output_type": "execute_result",
          "data": {
            "text/plain": [
              "11402"
            ]
          },
          "metadata": {},
          "execution_count": 9
        }
      ],
      "source": [
        "len(df[df[\"Sentiment\"]== \"positive\"]) # positive"
      ]
    },
    {
      "cell_type": "markdown",
      "metadata": {
        "id": "61m0dBpKRr2N"
      },
      "source": [
        "Analysis of the data revealed a class imbalance, with significantly more positive comments (11432) than negative comments (2338). To address this and ensure a more balanced representation during model training, a downsampling technique was used. This involved randomly removing a specific number of observations from the majority class (positive comments) to match the size of the middle class (neutral comments)."
      ]
    },
    {
      "cell_type": "code",
      "execution_count": 10,
      "metadata": {
        "execution": {
          "iopub.execute_input": "2024-02-27T17:06:10.766227Z",
          "iopub.status.busy": "2024-02-27T17:06:10.765795Z",
          "iopub.status.idle": "2024-02-27T17:06:10.912391Z",
          "shell.execute_reply": "2024-02-27T17:06:10.91143Z",
          "shell.execute_reply.started": "2024-02-27T17:06:10.766191Z"
        },
        "id": "RagJ5mjERr2N",
        "outputId": "59530acb-6a29-4dbd-cca5-f7b7a41d8a90",
        "trusted": true,
        "colab": {
          "base_uri": "https://localhost:8080/"
        }
      },
      "outputs": [
        {
          "output_type": "stream",
          "name": "stdout",
          "text": [
            "Sentiment distribution after undersampling:\n",
            "Sentiment\n",
            "neutral     4625\n",
            "positive    4625\n",
            "negative    2337\n",
            "Name: count, dtype: int64\n"
          ]
        }
      ],
      "source": [
        "from sklearn.utils import resample\n",
        "\n",
        "# Load the dataset (assuming you have it in a DataFrame called 'df')\n",
        "\n",
        "# Identify indices of negative comments\n",
        "positive_indices = df[df['Sentiment'] == 'positive'].index\n",
        "neutral_indices = len(df[df['Sentiment'] == 'neutral'])\n",
        "\n",
        "# Calculate the number of negative comments to remove based on desired ratio or fixed number\n",
        "num_positive_to_remove = len(positive_indices) - neutral_indices  # For 1:1 ratio\n",
        "\n",
        "# Create a DataFrame of just those indices\n",
        "positives_to_remove = positive_indices.to_frame(name='index')\n",
        "\n",
        "# Undersample the positives to remove (if any)\n",
        "if num_positive_to_remove > 0:\n",
        "    df_downsampled = resample(positives_to_remove,\n",
        "                              replace=False,  # Don't sample with replacement\n",
        "                              n_samples=num_positive_to_remove,\n",
        "                              random_state=42)  # For reproducibility\n",
        "\n",
        "    # Drop those indices from the original DataFrame\n",
        "    df = df.drop(df_downsampled['index'])\n",
        "\n",
        "# Check the new distribution\n",
        "print(\"Sentiment distribution after undersampling:\")\n",
        "print(df['Sentiment'].value_counts())"
      ]
    },
    {
      "cell_type": "code",
      "execution_count": 11,
      "metadata": {
        "execution": {
          "iopub.execute_input": "2024-02-27T17:06:10.914017Z",
          "iopub.status.busy": "2024-02-27T17:06:10.913658Z",
          "iopub.status.idle": "2024-02-27T17:06:10.956704Z",
          "shell.execute_reply": "2024-02-27T17:06:10.955898Z",
          "shell.execute_reply.started": "2024-02-27T17:06:10.913984Z"
        },
        "id": "TdE74L3URr2N",
        "outputId": "b6c226ef-a5aa-4876-b956-c300d307595a",
        "trusted": true,
        "colab": {
          "base_uri": "https://localhost:8080/"
        }
      },
      "outputs": [
        {
          "output_type": "execute_result",
          "data": {
            "text/plain": [
              "6962"
            ]
          },
          "metadata": {},
          "execution_count": 11
        }
      ],
      "source": [
        "df = df[df[\"Sentiment\"] != \"neutral\"]# remove neutral\n",
        "len(df)"
      ]
    },
    {
      "cell_type": "code",
      "execution_count": 12,
      "metadata": {
        "execution": {
          "iopub.execute_input": "2024-02-27T17:06:10.996899Z",
          "iopub.status.busy": "2024-02-27T17:06:10.99648Z",
          "iopub.status.idle": "2024-02-27T17:06:11.092326Z",
          "shell.execute_reply": "2024-02-27T17:06:11.091378Z",
          "shell.execute_reply.started": "2024-02-27T17:06:10.996865Z"
        },
        "id": "03wFKQFSRr2N",
        "trusted": true,
        "colab": {
          "base_uri": "https://localhost:8080/"
        },
        "outputId": "33142217-8600-4a51-ecdc-fffa25a97b4b"
      },
      "outputs": [
        {
          "output_type": "stream",
          "name": "stderr",
          "text": [
            "<ipython-input-12-4c97a0082053>:2: FutureWarning: Downcasting behavior in `replace` is deprecated and will be removed in a future version. To retain the old behavior, explicitly call `result.infer_objects(copy=False)`. To opt-in to the future behavior, set `pd.set_option('future.no_silent_downcasting', True)`\n",
            "  df[\"Sentiment\"] = df[\"Sentiment\"].replace(\"positive\", 1)\n"
          ]
        }
      ],
      "source": [
        "df[\"Sentiment\"] = df[\"Sentiment\"].replace(\"negative\", 0)\n",
        "df[\"Sentiment\"] = df[\"Sentiment\"].replace(\"positive\", 1)"
      ]
    },
    {
      "cell_type": "markdown",
      "metadata": {
        "id": "qkI4Dy05Rr2N"
      },
      "source": [
        "This dataset includes YouTube comments categorized under the sentiments: bad, neutral, and good. To focus on identifying distinctly negative or positive sentiments, neutral observations were removed. This decision was made because neutral comments might not contribute strongly to model training when the goal is to distinguish between clear emotional states. Despite this filtering, we retain a substantial dataset that provides ample data for robust model training."
      ]
    },
    {
      "cell_type": "markdown",
      "metadata": {
        "id": "vJOQwsVmRr2O"
      },
      "source": [
        "**Part 1 (10 points):** Implement your RNN either using an existing framework OR you can\n",
        "implement your own RNN cell structure. In either case, describe the structure of your\n",
        "RNN and the activation functions you are using for each time step and in the output\n",
        "layer. Define a metric you will use to measure the performance of your model (NOTE:\n",
        "Performance should be measured both for the validation set and the test set)."
      ]
    },
    {
      "cell_type": "code",
      "execution_count": 13,
      "metadata": {
        "execution": {
          "iopub.execute_input": "2024-02-27T17:06:11.093886Z",
          "iopub.status.busy": "2024-02-27T17:06:11.09358Z",
          "iopub.status.idle": "2024-02-27T17:06:11.105467Z",
          "shell.execute_reply": "2024-02-27T17:06:11.104327Z",
          "shell.execute_reply.started": "2024-02-27T17:06:11.093859Z"
        },
        "id": "HK6tq5uYRr2O",
        "outputId": "461db279-b57d-4a7e-f52d-ef4f9dad2f68",
        "trusted": true,
        "colab": {
          "base_uri": "https://localhost:8080/",
          "height": 411
        }
      },
      "outputs": [
        {
          "output_type": "execute_result",
          "data": {
            "text/plain": [
              "                                                 Comment  Sentiment\n",
              "1      here in nz 50 of retailers don’t even have con...          0\n",
              "3      whenever i go to a place that doesn’t take app...          0\n",
              "4      apple pay is so convenient secure and easy to ...          1\n",
              "6      we only got apple pay in south africa in 20202...          1\n",
              "10     wow you really went to town on the psu test ra...          1\n",
              "...                                                  ...        ...\n",
              "18391    i love the way you explained plus the diversity          1\n",
              "18394  awesome succinct very effective for a newbie t...          1\n",
              "18397  thanks for sharing what is machine learning us...          1\n",
              "18400  ive worked for about 2 years with mlcomputer v...          1\n",
              "18404  i’ve just started exploring this field and thi...          1\n",
              "\n",
              "[6962 rows x 2 columns]"
            ],
            "text/html": [
              "\n",
              "  <div id=\"df-2b6e6afd-6a7d-4bb5-94db-81026669e95b\" class=\"colab-df-container\">\n",
              "    <div>\n",
              "<style scoped>\n",
              "    .dataframe tbody tr th:only-of-type {\n",
              "        vertical-align: middle;\n",
              "    }\n",
              "\n",
              "    .dataframe tbody tr th {\n",
              "        vertical-align: top;\n",
              "    }\n",
              "\n",
              "    .dataframe thead th {\n",
              "        text-align: right;\n",
              "    }\n",
              "</style>\n",
              "<table border=\"1\" class=\"dataframe\">\n",
              "  <thead>\n",
              "    <tr style=\"text-align: right;\">\n",
              "      <th></th>\n",
              "      <th>Comment</th>\n",
              "      <th>Sentiment</th>\n",
              "    </tr>\n",
              "  </thead>\n",
              "  <tbody>\n",
              "    <tr>\n",
              "      <th>1</th>\n",
              "      <td>here in nz 50 of retailers don’t even have con...</td>\n",
              "      <td>0</td>\n",
              "    </tr>\n",
              "    <tr>\n",
              "      <th>3</th>\n",
              "      <td>whenever i go to a place that doesn’t take app...</td>\n",
              "      <td>0</td>\n",
              "    </tr>\n",
              "    <tr>\n",
              "      <th>4</th>\n",
              "      <td>apple pay is so convenient secure and easy to ...</td>\n",
              "      <td>1</td>\n",
              "    </tr>\n",
              "    <tr>\n",
              "      <th>6</th>\n",
              "      <td>we only got apple pay in south africa in 20202...</td>\n",
              "      <td>1</td>\n",
              "    </tr>\n",
              "    <tr>\n",
              "      <th>10</th>\n",
              "      <td>wow you really went to town on the psu test ra...</td>\n",
              "      <td>1</td>\n",
              "    </tr>\n",
              "    <tr>\n",
              "      <th>...</th>\n",
              "      <td>...</td>\n",
              "      <td>...</td>\n",
              "    </tr>\n",
              "    <tr>\n",
              "      <th>18391</th>\n",
              "      <td>i love the way you explained plus the diversity</td>\n",
              "      <td>1</td>\n",
              "    </tr>\n",
              "    <tr>\n",
              "      <th>18394</th>\n",
              "      <td>awesome succinct very effective for a newbie t...</td>\n",
              "      <td>1</td>\n",
              "    </tr>\n",
              "    <tr>\n",
              "      <th>18397</th>\n",
              "      <td>thanks for sharing what is machine learning us...</td>\n",
              "      <td>1</td>\n",
              "    </tr>\n",
              "    <tr>\n",
              "      <th>18400</th>\n",
              "      <td>ive worked for about 2 years with mlcomputer v...</td>\n",
              "      <td>1</td>\n",
              "    </tr>\n",
              "    <tr>\n",
              "      <th>18404</th>\n",
              "      <td>i’ve just started exploring this field and thi...</td>\n",
              "      <td>1</td>\n",
              "    </tr>\n",
              "  </tbody>\n",
              "</table>\n",
              "<p>6962 rows × 2 columns</p>\n",
              "</div>\n",
              "    <div class=\"colab-df-buttons\">\n",
              "\n",
              "  <div class=\"colab-df-container\">\n",
              "    <button class=\"colab-df-convert\" onclick=\"convertToInteractive('df-2b6e6afd-6a7d-4bb5-94db-81026669e95b')\"\n",
              "            title=\"Convert this dataframe to an interactive table.\"\n",
              "            style=\"display:none;\">\n",
              "\n",
              "  <svg xmlns=\"http://www.w3.org/2000/svg\" height=\"24px\" viewBox=\"0 -960 960 960\">\n",
              "    <path d=\"M120-120v-720h720v720H120Zm60-500h600v-160H180v160Zm220 220h160v-160H400v160Zm0 220h160v-160H400v160ZM180-400h160v-160H180v160Zm440 0h160v-160H620v160ZM180-180h160v-160H180v160Zm440 0h160v-160H620v160Z\"/>\n",
              "  </svg>\n",
              "    </button>\n",
              "\n",
              "  <style>\n",
              "    .colab-df-container {\n",
              "      display:flex;\n",
              "      gap: 12px;\n",
              "    }\n",
              "\n",
              "    .colab-df-convert {\n",
              "      background-color: #E8F0FE;\n",
              "      border: none;\n",
              "      border-radius: 50%;\n",
              "      cursor: pointer;\n",
              "      display: none;\n",
              "      fill: #1967D2;\n",
              "      height: 32px;\n",
              "      padding: 0 0 0 0;\n",
              "      width: 32px;\n",
              "    }\n",
              "\n",
              "    .colab-df-convert:hover {\n",
              "      background-color: #E2EBFA;\n",
              "      box-shadow: 0px 1px 2px rgba(60, 64, 67, 0.3), 0px 1px 3px 1px rgba(60, 64, 67, 0.15);\n",
              "      fill: #174EA6;\n",
              "    }\n",
              "\n",
              "    .colab-df-buttons div {\n",
              "      margin-bottom: 4px;\n",
              "    }\n",
              "\n",
              "    [theme=dark] .colab-df-convert {\n",
              "      background-color: #3B4455;\n",
              "      fill: #D2E3FC;\n",
              "    }\n",
              "\n",
              "    [theme=dark] .colab-df-convert:hover {\n",
              "      background-color: #434B5C;\n",
              "      box-shadow: 0px 1px 3px 1px rgba(0, 0, 0, 0.15);\n",
              "      filter: drop-shadow(0px 1px 2px rgba(0, 0, 0, 0.3));\n",
              "      fill: #FFFFFF;\n",
              "    }\n",
              "  </style>\n",
              "\n",
              "    <script>\n",
              "      const buttonEl =\n",
              "        document.querySelector('#df-2b6e6afd-6a7d-4bb5-94db-81026669e95b button.colab-df-convert');\n",
              "      buttonEl.style.display =\n",
              "        google.colab.kernel.accessAllowed ? 'block' : 'none';\n",
              "\n",
              "      async function convertToInteractive(key) {\n",
              "        const element = document.querySelector('#df-2b6e6afd-6a7d-4bb5-94db-81026669e95b');\n",
              "        const dataTable =\n",
              "          await google.colab.kernel.invokeFunction('convertToInteractive',\n",
              "                                                    [key], {});\n",
              "        if (!dataTable) return;\n",
              "\n",
              "        const docLinkHtml = 'Like what you see? Visit the ' +\n",
              "          '<a target=\"_blank\" href=https://colab.research.google.com/notebooks/data_table.ipynb>data table notebook</a>'\n",
              "          + ' to learn more about interactive tables.';\n",
              "        element.innerHTML = '';\n",
              "        dataTable['output_type'] = 'display_data';\n",
              "        await google.colab.output.renderOutput(dataTable, element);\n",
              "        const docLink = document.createElement('div');\n",
              "        docLink.innerHTML = docLinkHtml;\n",
              "        element.appendChild(docLink);\n",
              "      }\n",
              "    </script>\n",
              "  </div>\n",
              "\n",
              "\n",
              "<div id=\"df-7146e9b1-9164-4e25-994e-0191a067874c\">\n",
              "  <button class=\"colab-df-quickchart\" onclick=\"quickchart('df-7146e9b1-9164-4e25-994e-0191a067874c')\"\n",
              "            title=\"Suggest charts\"\n",
              "            style=\"display:none;\">\n",
              "\n",
              "<svg xmlns=\"http://www.w3.org/2000/svg\" height=\"24px\"viewBox=\"0 0 24 24\"\n",
              "     width=\"24px\">\n",
              "    <g>\n",
              "        <path d=\"M19 3H5c-1.1 0-2 .9-2 2v14c0 1.1.9 2 2 2h14c1.1 0 2-.9 2-2V5c0-1.1-.9-2-2-2zM9 17H7v-7h2v7zm4 0h-2V7h2v10zm4 0h-2v-4h2v4z\"/>\n",
              "    </g>\n",
              "</svg>\n",
              "  </button>\n",
              "\n",
              "<style>\n",
              "  .colab-df-quickchart {\n",
              "      --bg-color: #E8F0FE;\n",
              "      --fill-color: #1967D2;\n",
              "      --hover-bg-color: #E2EBFA;\n",
              "      --hover-fill-color: #174EA6;\n",
              "      --disabled-fill-color: #AAA;\n",
              "      --disabled-bg-color: #DDD;\n",
              "  }\n",
              "\n",
              "  [theme=dark] .colab-df-quickchart {\n",
              "      --bg-color: #3B4455;\n",
              "      --fill-color: #D2E3FC;\n",
              "      --hover-bg-color: #434B5C;\n",
              "      --hover-fill-color: #FFFFFF;\n",
              "      --disabled-bg-color: #3B4455;\n",
              "      --disabled-fill-color: #666;\n",
              "  }\n",
              "\n",
              "  .colab-df-quickchart {\n",
              "    background-color: var(--bg-color);\n",
              "    border: none;\n",
              "    border-radius: 50%;\n",
              "    cursor: pointer;\n",
              "    display: none;\n",
              "    fill: var(--fill-color);\n",
              "    height: 32px;\n",
              "    padding: 0;\n",
              "    width: 32px;\n",
              "  }\n",
              "\n",
              "  .colab-df-quickchart:hover {\n",
              "    background-color: var(--hover-bg-color);\n",
              "    box-shadow: 0 1px 2px rgba(60, 64, 67, 0.3), 0 1px 3px 1px rgba(60, 64, 67, 0.15);\n",
              "    fill: var(--button-hover-fill-color);\n",
              "  }\n",
              "\n",
              "  .colab-df-quickchart-complete:disabled,\n",
              "  .colab-df-quickchart-complete:disabled:hover {\n",
              "    background-color: var(--disabled-bg-color);\n",
              "    fill: var(--disabled-fill-color);\n",
              "    box-shadow: none;\n",
              "  }\n",
              "\n",
              "  .colab-df-spinner {\n",
              "    border: 2px solid var(--fill-color);\n",
              "    border-color: transparent;\n",
              "    border-bottom-color: var(--fill-color);\n",
              "    animation:\n",
              "      spin 1s steps(1) infinite;\n",
              "  }\n",
              "\n",
              "  @keyframes spin {\n",
              "    0% {\n",
              "      border-color: transparent;\n",
              "      border-bottom-color: var(--fill-color);\n",
              "      border-left-color: var(--fill-color);\n",
              "    }\n",
              "    20% {\n",
              "      border-color: transparent;\n",
              "      border-left-color: var(--fill-color);\n",
              "      border-top-color: var(--fill-color);\n",
              "    }\n",
              "    30% {\n",
              "      border-color: transparent;\n",
              "      border-left-color: var(--fill-color);\n",
              "      border-top-color: var(--fill-color);\n",
              "      border-right-color: var(--fill-color);\n",
              "    }\n",
              "    40% {\n",
              "      border-color: transparent;\n",
              "      border-right-color: var(--fill-color);\n",
              "      border-top-color: var(--fill-color);\n",
              "    }\n",
              "    60% {\n",
              "      border-color: transparent;\n",
              "      border-right-color: var(--fill-color);\n",
              "    }\n",
              "    80% {\n",
              "      border-color: transparent;\n",
              "      border-right-color: var(--fill-color);\n",
              "      border-bottom-color: var(--fill-color);\n",
              "    }\n",
              "    90% {\n",
              "      border-color: transparent;\n",
              "      border-bottom-color: var(--fill-color);\n",
              "    }\n",
              "  }\n",
              "</style>\n",
              "\n",
              "  <script>\n",
              "    async function quickchart(key) {\n",
              "      const quickchartButtonEl =\n",
              "        document.querySelector('#' + key + ' button');\n",
              "      quickchartButtonEl.disabled = true;  // To prevent multiple clicks.\n",
              "      quickchartButtonEl.classList.add('colab-df-spinner');\n",
              "      try {\n",
              "        const charts = await google.colab.kernel.invokeFunction(\n",
              "            'suggestCharts', [key], {});\n",
              "      } catch (error) {\n",
              "        console.error('Error during call to suggestCharts:', error);\n",
              "      }\n",
              "      quickchartButtonEl.classList.remove('colab-df-spinner');\n",
              "      quickchartButtonEl.classList.add('colab-df-quickchart-complete');\n",
              "    }\n",
              "    (() => {\n",
              "      let quickchartButtonEl =\n",
              "        document.querySelector('#df-7146e9b1-9164-4e25-994e-0191a067874c button');\n",
              "      quickchartButtonEl.style.display =\n",
              "        google.colab.kernel.accessAllowed ? 'block' : 'none';\n",
              "    })();\n",
              "  </script>\n",
              "</div>\n",
              "\n",
              "  <div id=\"id_37a18085-7203-45a1-aec8-005c483218f0\">\n",
              "    <style>\n",
              "      .colab-df-generate {\n",
              "        background-color: #E8F0FE;\n",
              "        border: none;\n",
              "        border-radius: 50%;\n",
              "        cursor: pointer;\n",
              "        display: none;\n",
              "        fill: #1967D2;\n",
              "        height: 32px;\n",
              "        padding: 0 0 0 0;\n",
              "        width: 32px;\n",
              "      }\n",
              "\n",
              "      .colab-df-generate:hover {\n",
              "        background-color: #E2EBFA;\n",
              "        box-shadow: 0px 1px 2px rgba(60, 64, 67, 0.3), 0px 1px 3px 1px rgba(60, 64, 67, 0.15);\n",
              "        fill: #174EA6;\n",
              "      }\n",
              "\n",
              "      [theme=dark] .colab-df-generate {\n",
              "        background-color: #3B4455;\n",
              "        fill: #D2E3FC;\n",
              "      }\n",
              "\n",
              "      [theme=dark] .colab-df-generate:hover {\n",
              "        background-color: #434B5C;\n",
              "        box-shadow: 0px 1px 3px 1px rgba(0, 0, 0, 0.15);\n",
              "        filter: drop-shadow(0px 1px 2px rgba(0, 0, 0, 0.3));\n",
              "        fill: #FFFFFF;\n",
              "      }\n",
              "    </style>\n",
              "    <button class=\"colab-df-generate\" onclick=\"generateWithVariable('df')\"\n",
              "            title=\"Generate code using this dataframe.\"\n",
              "            style=\"display:none;\">\n",
              "\n",
              "  <svg xmlns=\"http://www.w3.org/2000/svg\" height=\"24px\"viewBox=\"0 0 24 24\"\n",
              "       width=\"24px\">\n",
              "    <path d=\"M7,19H8.4L18.45,9,17,7.55,7,17.6ZM5,21V16.75L18.45,3.32a2,2,0,0,1,2.83,0l1.4,1.43a1.91,1.91,0,0,1,.58,1.4,1.91,1.91,0,0,1-.58,1.4L9.25,21ZM18.45,9,17,7.55Zm-12,3A5.31,5.31,0,0,0,4.9,8.1,5.31,5.31,0,0,0,1,6.5,5.31,5.31,0,0,0,4.9,4.9,5.31,5.31,0,0,0,6.5,1,5.31,5.31,0,0,0,8.1,4.9,5.31,5.31,0,0,0,12,6.5,5.46,5.46,0,0,0,6.5,12Z\"/>\n",
              "  </svg>\n",
              "    </button>\n",
              "    <script>\n",
              "      (() => {\n",
              "      const buttonEl =\n",
              "        document.querySelector('#id_37a18085-7203-45a1-aec8-005c483218f0 button.colab-df-generate');\n",
              "      buttonEl.style.display =\n",
              "        google.colab.kernel.accessAllowed ? 'block' : 'none';\n",
              "\n",
              "      buttonEl.onclick = () => {\n",
              "        google.colab.notebook.generateWithVariable('df');\n",
              "      }\n",
              "      })();\n",
              "    </script>\n",
              "  </div>\n",
              "\n",
              "    </div>\n",
              "  </div>\n"
            ],
            "application/vnd.google.colaboratory.intrinsic+json": {
              "type": "dataframe",
              "variable_name": "df",
              "summary": "{\n  \"name\": \"df\",\n  \"rows\": 6962,\n  \"fields\": [\n    {\n      \"column\": \"Comment\",\n      \"properties\": {\n        \"dtype\": \"string\",\n        \"num_unique_values\": 6875,\n        \"samples\": [\n          \"love the advice you give this is something i need to do in my living room nice work\",\n          \"that show was actually so good i wasnt expecting much but i ended up loving it kamala character is amazing 3\",\n          \"been following your channel for the last 4 years and i think calvin is probably your best cohost hes funny he knows how to make jokes and make fun of you lets keep him more on your show\"\n        ],\n        \"semantic_type\": \"\",\n        \"description\": \"\"\n      }\n    },\n    {\n      \"column\": \"Sentiment\",\n      \"properties\": {\n        \"dtype\": \"number\",\n        \"std\": 0,\n        \"min\": 0,\n        \"max\": 1,\n        \"num_unique_values\": 2,\n        \"samples\": [\n          1,\n          0\n        ],\n        \"semantic_type\": \"\",\n        \"description\": \"\"\n      }\n    }\n  ]\n}"
            }
          },
          "metadata": {},
          "execution_count": 13
        }
      ],
      "source": [
        "df"
      ]
    },
    {
      "cell_type": "code",
      "execution_count": 14,
      "metadata": {
        "execution": {
          "iopub.execute_input": "2024-02-27T17:06:11.107085Z",
          "iopub.status.busy": "2024-02-27T17:06:11.106789Z",
          "iopub.status.idle": "2024-02-27T17:06:12.191847Z",
          "shell.execute_reply": "2024-02-27T17:06:12.190928Z",
          "shell.execute_reply.started": "2024-02-27T17:06:11.10706Z"
        },
        "id": "qP9IF6T0Rr2O",
        "trusted": true
      },
      "outputs": [],
      "source": [
        "import re\n",
        "\n",
        "def clean_comment(comment: str) -> str:\n",
        "    \"\"\"\n",
        "    Cleans text, removing special characters, hashtags, and mentions while\n",
        "    preserving spaces and essential punctuation.\n",
        "\n",
        "    Args:\n",
        "        comment: The text to be cleaned.\n",
        "\n",
        "    Returns:\n",
        "        The cleaned text.\n",
        "    \"\"\"\n",
        "\n",
        "    # Regular expression to match and remove special characters\n",
        "    pattern = r\"[^a-zA-Z0-9\\s\\.!?,\\(\\)]+\"\n",
        "\n",
        "    # Clean the text using regular expressions\n",
        "    cleaned_text = re.sub(pattern, \"\", comment)\n",
        "\n",
        "    # Remove leading and trailing whitespace\n",
        "    cleaned_text = cleaned_text.strip()\n",
        "\n",
        "    return cleaned_text\n",
        "\n",
        "# Apply the cleaning function to the \"Comment\" column\n",
        "df[\"Comment\"] = df[\"Comment\"].apply(clean_comment)\n"
      ]
    },
    {
      "cell_type": "code",
      "execution_count": 15,
      "metadata": {
        "execution": {
          "iopub.execute_input": "2024-02-27T18:57:12.286372Z",
          "iopub.status.busy": "2024-02-27T18:57:12.285972Z",
          "iopub.status.idle": "2024-02-27T18:57:12.298312Z",
          "shell.execute_reply": "2024-02-27T18:57:12.297392Z",
          "shell.execute_reply.started": "2024-02-27T18:57:12.28634Z"
        },
        "id": "meWSFmaHRr2O",
        "outputId": "04be3b58-daff-40bc-e252-1668a05da8cb",
        "trusted": true,
        "colab": {
          "base_uri": "https://localhost:8080/",
          "height": 411
        }
      },
      "outputs": [
        {
          "output_type": "execute_result",
          "data": {
            "text/plain": [
              "                                                 Comment  Sentiment\n",
              "1      here in nz 50 of retailers dont even have cont...          0\n",
              "3      whenever i go to a place that doesnt take appl...          0\n",
              "4      apple pay is so convenient secure and easy to ...          1\n",
              "6      we only got apple pay in south africa in 20202...          1\n",
              "10     wow you really went to town on the psu test ra...          1\n",
              "...                                                  ...        ...\n",
              "18391    i love the way you explained plus the diversity          1\n",
              "18394  awesome succinct very effective for a newbie t...          1\n",
              "18397  thanks for sharing what is machine learning us...          1\n",
              "18400  ive worked for about 2 years with mlcomputer v...          1\n",
              "18404  ive just started exploring this field and this...          1\n",
              "\n",
              "[6962 rows x 2 columns]"
            ],
            "text/html": [
              "\n",
              "  <div id=\"df-08a4aa7a-22dd-4e85-9c43-88f0a3cf6258\" class=\"colab-df-container\">\n",
              "    <div>\n",
              "<style scoped>\n",
              "    .dataframe tbody tr th:only-of-type {\n",
              "        vertical-align: middle;\n",
              "    }\n",
              "\n",
              "    .dataframe tbody tr th {\n",
              "        vertical-align: top;\n",
              "    }\n",
              "\n",
              "    .dataframe thead th {\n",
              "        text-align: right;\n",
              "    }\n",
              "</style>\n",
              "<table border=\"1\" class=\"dataframe\">\n",
              "  <thead>\n",
              "    <tr style=\"text-align: right;\">\n",
              "      <th></th>\n",
              "      <th>Comment</th>\n",
              "      <th>Sentiment</th>\n",
              "    </tr>\n",
              "  </thead>\n",
              "  <tbody>\n",
              "    <tr>\n",
              "      <th>1</th>\n",
              "      <td>here in nz 50 of retailers dont even have cont...</td>\n",
              "      <td>0</td>\n",
              "    </tr>\n",
              "    <tr>\n",
              "      <th>3</th>\n",
              "      <td>whenever i go to a place that doesnt take appl...</td>\n",
              "      <td>0</td>\n",
              "    </tr>\n",
              "    <tr>\n",
              "      <th>4</th>\n",
              "      <td>apple pay is so convenient secure and easy to ...</td>\n",
              "      <td>1</td>\n",
              "    </tr>\n",
              "    <tr>\n",
              "      <th>6</th>\n",
              "      <td>we only got apple pay in south africa in 20202...</td>\n",
              "      <td>1</td>\n",
              "    </tr>\n",
              "    <tr>\n",
              "      <th>10</th>\n",
              "      <td>wow you really went to town on the psu test ra...</td>\n",
              "      <td>1</td>\n",
              "    </tr>\n",
              "    <tr>\n",
              "      <th>...</th>\n",
              "      <td>...</td>\n",
              "      <td>...</td>\n",
              "    </tr>\n",
              "    <tr>\n",
              "      <th>18391</th>\n",
              "      <td>i love the way you explained plus the diversity</td>\n",
              "      <td>1</td>\n",
              "    </tr>\n",
              "    <tr>\n",
              "      <th>18394</th>\n",
              "      <td>awesome succinct very effective for a newbie t...</td>\n",
              "      <td>1</td>\n",
              "    </tr>\n",
              "    <tr>\n",
              "      <th>18397</th>\n",
              "      <td>thanks for sharing what is machine learning us...</td>\n",
              "      <td>1</td>\n",
              "    </tr>\n",
              "    <tr>\n",
              "      <th>18400</th>\n",
              "      <td>ive worked for about 2 years with mlcomputer v...</td>\n",
              "      <td>1</td>\n",
              "    </tr>\n",
              "    <tr>\n",
              "      <th>18404</th>\n",
              "      <td>ive just started exploring this field and this...</td>\n",
              "      <td>1</td>\n",
              "    </tr>\n",
              "  </tbody>\n",
              "</table>\n",
              "<p>6962 rows × 2 columns</p>\n",
              "</div>\n",
              "    <div class=\"colab-df-buttons\">\n",
              "\n",
              "  <div class=\"colab-df-container\">\n",
              "    <button class=\"colab-df-convert\" onclick=\"convertToInteractive('df-08a4aa7a-22dd-4e85-9c43-88f0a3cf6258')\"\n",
              "            title=\"Convert this dataframe to an interactive table.\"\n",
              "            style=\"display:none;\">\n",
              "\n",
              "  <svg xmlns=\"http://www.w3.org/2000/svg\" height=\"24px\" viewBox=\"0 -960 960 960\">\n",
              "    <path d=\"M120-120v-720h720v720H120Zm60-500h600v-160H180v160Zm220 220h160v-160H400v160Zm0 220h160v-160H400v160ZM180-400h160v-160H180v160Zm440 0h160v-160H620v160ZM180-180h160v-160H180v160Zm440 0h160v-160H620v160Z\"/>\n",
              "  </svg>\n",
              "    </button>\n",
              "\n",
              "  <style>\n",
              "    .colab-df-container {\n",
              "      display:flex;\n",
              "      gap: 12px;\n",
              "    }\n",
              "\n",
              "    .colab-df-convert {\n",
              "      background-color: #E8F0FE;\n",
              "      border: none;\n",
              "      border-radius: 50%;\n",
              "      cursor: pointer;\n",
              "      display: none;\n",
              "      fill: #1967D2;\n",
              "      height: 32px;\n",
              "      padding: 0 0 0 0;\n",
              "      width: 32px;\n",
              "    }\n",
              "\n",
              "    .colab-df-convert:hover {\n",
              "      background-color: #E2EBFA;\n",
              "      box-shadow: 0px 1px 2px rgba(60, 64, 67, 0.3), 0px 1px 3px 1px rgba(60, 64, 67, 0.15);\n",
              "      fill: #174EA6;\n",
              "    }\n",
              "\n",
              "    .colab-df-buttons div {\n",
              "      margin-bottom: 4px;\n",
              "    }\n",
              "\n",
              "    [theme=dark] .colab-df-convert {\n",
              "      background-color: #3B4455;\n",
              "      fill: #D2E3FC;\n",
              "    }\n",
              "\n",
              "    [theme=dark] .colab-df-convert:hover {\n",
              "      background-color: #434B5C;\n",
              "      box-shadow: 0px 1px 3px 1px rgba(0, 0, 0, 0.15);\n",
              "      filter: drop-shadow(0px 1px 2px rgba(0, 0, 0, 0.3));\n",
              "      fill: #FFFFFF;\n",
              "    }\n",
              "  </style>\n",
              "\n",
              "    <script>\n",
              "      const buttonEl =\n",
              "        document.querySelector('#df-08a4aa7a-22dd-4e85-9c43-88f0a3cf6258 button.colab-df-convert');\n",
              "      buttonEl.style.display =\n",
              "        google.colab.kernel.accessAllowed ? 'block' : 'none';\n",
              "\n",
              "      async function convertToInteractive(key) {\n",
              "        const element = document.querySelector('#df-08a4aa7a-22dd-4e85-9c43-88f0a3cf6258');\n",
              "        const dataTable =\n",
              "          await google.colab.kernel.invokeFunction('convertToInteractive',\n",
              "                                                    [key], {});\n",
              "        if (!dataTable) return;\n",
              "\n",
              "        const docLinkHtml = 'Like what you see? Visit the ' +\n",
              "          '<a target=\"_blank\" href=https://colab.research.google.com/notebooks/data_table.ipynb>data table notebook</a>'\n",
              "          + ' to learn more about interactive tables.';\n",
              "        element.innerHTML = '';\n",
              "        dataTable['output_type'] = 'display_data';\n",
              "        await google.colab.output.renderOutput(dataTable, element);\n",
              "        const docLink = document.createElement('div');\n",
              "        docLink.innerHTML = docLinkHtml;\n",
              "        element.appendChild(docLink);\n",
              "      }\n",
              "    </script>\n",
              "  </div>\n",
              "\n",
              "\n",
              "<div id=\"df-ac06019d-d6cf-40c3-9de2-b9d90d78aec6\">\n",
              "  <button class=\"colab-df-quickchart\" onclick=\"quickchart('df-ac06019d-d6cf-40c3-9de2-b9d90d78aec6')\"\n",
              "            title=\"Suggest charts\"\n",
              "            style=\"display:none;\">\n",
              "\n",
              "<svg xmlns=\"http://www.w3.org/2000/svg\" height=\"24px\"viewBox=\"0 0 24 24\"\n",
              "     width=\"24px\">\n",
              "    <g>\n",
              "        <path d=\"M19 3H5c-1.1 0-2 .9-2 2v14c0 1.1.9 2 2 2h14c1.1 0 2-.9 2-2V5c0-1.1-.9-2-2-2zM9 17H7v-7h2v7zm4 0h-2V7h2v10zm4 0h-2v-4h2v4z\"/>\n",
              "    </g>\n",
              "</svg>\n",
              "  </button>\n",
              "\n",
              "<style>\n",
              "  .colab-df-quickchart {\n",
              "      --bg-color: #E8F0FE;\n",
              "      --fill-color: #1967D2;\n",
              "      --hover-bg-color: #E2EBFA;\n",
              "      --hover-fill-color: #174EA6;\n",
              "      --disabled-fill-color: #AAA;\n",
              "      --disabled-bg-color: #DDD;\n",
              "  }\n",
              "\n",
              "  [theme=dark] .colab-df-quickchart {\n",
              "      --bg-color: #3B4455;\n",
              "      --fill-color: #D2E3FC;\n",
              "      --hover-bg-color: #434B5C;\n",
              "      --hover-fill-color: #FFFFFF;\n",
              "      --disabled-bg-color: #3B4455;\n",
              "      --disabled-fill-color: #666;\n",
              "  }\n",
              "\n",
              "  .colab-df-quickchart {\n",
              "    background-color: var(--bg-color);\n",
              "    border: none;\n",
              "    border-radius: 50%;\n",
              "    cursor: pointer;\n",
              "    display: none;\n",
              "    fill: var(--fill-color);\n",
              "    height: 32px;\n",
              "    padding: 0;\n",
              "    width: 32px;\n",
              "  }\n",
              "\n",
              "  .colab-df-quickchart:hover {\n",
              "    background-color: var(--hover-bg-color);\n",
              "    box-shadow: 0 1px 2px rgba(60, 64, 67, 0.3), 0 1px 3px 1px rgba(60, 64, 67, 0.15);\n",
              "    fill: var(--button-hover-fill-color);\n",
              "  }\n",
              "\n",
              "  .colab-df-quickchart-complete:disabled,\n",
              "  .colab-df-quickchart-complete:disabled:hover {\n",
              "    background-color: var(--disabled-bg-color);\n",
              "    fill: var(--disabled-fill-color);\n",
              "    box-shadow: none;\n",
              "  }\n",
              "\n",
              "  .colab-df-spinner {\n",
              "    border: 2px solid var(--fill-color);\n",
              "    border-color: transparent;\n",
              "    border-bottom-color: var(--fill-color);\n",
              "    animation:\n",
              "      spin 1s steps(1) infinite;\n",
              "  }\n",
              "\n",
              "  @keyframes spin {\n",
              "    0% {\n",
              "      border-color: transparent;\n",
              "      border-bottom-color: var(--fill-color);\n",
              "      border-left-color: var(--fill-color);\n",
              "    }\n",
              "    20% {\n",
              "      border-color: transparent;\n",
              "      border-left-color: var(--fill-color);\n",
              "      border-top-color: var(--fill-color);\n",
              "    }\n",
              "    30% {\n",
              "      border-color: transparent;\n",
              "      border-left-color: var(--fill-color);\n",
              "      border-top-color: var(--fill-color);\n",
              "      border-right-color: var(--fill-color);\n",
              "    }\n",
              "    40% {\n",
              "      border-color: transparent;\n",
              "      border-right-color: var(--fill-color);\n",
              "      border-top-color: var(--fill-color);\n",
              "    }\n",
              "    60% {\n",
              "      border-color: transparent;\n",
              "      border-right-color: var(--fill-color);\n",
              "    }\n",
              "    80% {\n",
              "      border-color: transparent;\n",
              "      border-right-color: var(--fill-color);\n",
              "      border-bottom-color: var(--fill-color);\n",
              "    }\n",
              "    90% {\n",
              "      border-color: transparent;\n",
              "      border-bottom-color: var(--fill-color);\n",
              "    }\n",
              "  }\n",
              "</style>\n",
              "\n",
              "  <script>\n",
              "    async function quickchart(key) {\n",
              "      const quickchartButtonEl =\n",
              "        document.querySelector('#' + key + ' button');\n",
              "      quickchartButtonEl.disabled = true;  // To prevent multiple clicks.\n",
              "      quickchartButtonEl.classList.add('colab-df-spinner');\n",
              "      try {\n",
              "        const charts = await google.colab.kernel.invokeFunction(\n",
              "            'suggestCharts', [key], {});\n",
              "      } catch (error) {\n",
              "        console.error('Error during call to suggestCharts:', error);\n",
              "      }\n",
              "      quickchartButtonEl.classList.remove('colab-df-spinner');\n",
              "      quickchartButtonEl.classList.add('colab-df-quickchart-complete');\n",
              "    }\n",
              "    (() => {\n",
              "      let quickchartButtonEl =\n",
              "        document.querySelector('#df-ac06019d-d6cf-40c3-9de2-b9d90d78aec6 button');\n",
              "      quickchartButtonEl.style.display =\n",
              "        google.colab.kernel.accessAllowed ? 'block' : 'none';\n",
              "    })();\n",
              "  </script>\n",
              "</div>\n",
              "\n",
              "  <div id=\"id_aa3f95e3-4c3b-4670-9182-7002a1ac9ebe\">\n",
              "    <style>\n",
              "      .colab-df-generate {\n",
              "        background-color: #E8F0FE;\n",
              "        border: none;\n",
              "        border-radius: 50%;\n",
              "        cursor: pointer;\n",
              "        display: none;\n",
              "        fill: #1967D2;\n",
              "        height: 32px;\n",
              "        padding: 0 0 0 0;\n",
              "        width: 32px;\n",
              "      }\n",
              "\n",
              "      .colab-df-generate:hover {\n",
              "        background-color: #E2EBFA;\n",
              "        box-shadow: 0px 1px 2px rgba(60, 64, 67, 0.3), 0px 1px 3px 1px rgba(60, 64, 67, 0.15);\n",
              "        fill: #174EA6;\n",
              "      }\n",
              "\n",
              "      [theme=dark] .colab-df-generate {\n",
              "        background-color: #3B4455;\n",
              "        fill: #D2E3FC;\n",
              "      }\n",
              "\n",
              "      [theme=dark] .colab-df-generate:hover {\n",
              "        background-color: #434B5C;\n",
              "        box-shadow: 0px 1px 3px 1px rgba(0, 0, 0, 0.15);\n",
              "        filter: drop-shadow(0px 1px 2px rgba(0, 0, 0, 0.3));\n",
              "        fill: #FFFFFF;\n",
              "      }\n",
              "    </style>\n",
              "    <button class=\"colab-df-generate\" onclick=\"generateWithVariable('df')\"\n",
              "            title=\"Generate code using this dataframe.\"\n",
              "            style=\"display:none;\">\n",
              "\n",
              "  <svg xmlns=\"http://www.w3.org/2000/svg\" height=\"24px\"viewBox=\"0 0 24 24\"\n",
              "       width=\"24px\">\n",
              "    <path d=\"M7,19H8.4L18.45,9,17,7.55,7,17.6ZM5,21V16.75L18.45,3.32a2,2,0,0,1,2.83,0l1.4,1.43a1.91,1.91,0,0,1,.58,1.4,1.91,1.91,0,0,1-.58,1.4L9.25,21ZM18.45,9,17,7.55Zm-12,3A5.31,5.31,0,0,0,4.9,8.1,5.31,5.31,0,0,0,1,6.5,5.31,5.31,0,0,0,4.9,4.9,5.31,5.31,0,0,0,6.5,1,5.31,5.31,0,0,0,8.1,4.9,5.31,5.31,0,0,0,12,6.5,5.46,5.46,0,0,0,6.5,12Z\"/>\n",
              "  </svg>\n",
              "    </button>\n",
              "    <script>\n",
              "      (() => {\n",
              "      const buttonEl =\n",
              "        document.querySelector('#id_aa3f95e3-4c3b-4670-9182-7002a1ac9ebe button.colab-df-generate');\n",
              "      buttonEl.style.display =\n",
              "        google.colab.kernel.accessAllowed ? 'block' : 'none';\n",
              "\n",
              "      buttonEl.onclick = () => {\n",
              "        google.colab.notebook.generateWithVariable('df');\n",
              "      }\n",
              "      })();\n",
              "    </script>\n",
              "  </div>\n",
              "\n",
              "    </div>\n",
              "  </div>\n"
            ],
            "application/vnd.google.colaboratory.intrinsic+json": {
              "type": "dataframe",
              "variable_name": "df",
              "summary": "{\n  \"name\": \"df\",\n  \"rows\": 6962,\n  \"fields\": [\n    {\n      \"column\": \"Comment\",\n      \"properties\": {\n        \"dtype\": \"string\",\n        \"num_unique_values\": 6852,\n        \"samples\": [\n          \"thanks mosh your channel has quickly accelerated my career towards a position of data scientist currently employed with a major global employer as a data analyst and interviewing next week for a data scientist position thank you for all that you do\",\n          \"we need chandler together with jimmy chris on this channel more often\",\n          \"i love it that he puts his hobbys in his videos i like it that you can see that asmr isnt the only thing he has in his life but also has a life outside his career and that he likes to share his passion\"\n        ],\n        \"semantic_type\": \"\",\n        \"description\": \"\"\n      }\n    },\n    {\n      \"column\": \"Sentiment\",\n      \"properties\": {\n        \"dtype\": \"number\",\n        \"std\": 0,\n        \"min\": 0,\n        \"max\": 1,\n        \"num_unique_values\": 2,\n        \"samples\": [\n          1,\n          0\n        ],\n        \"semantic_type\": \"\",\n        \"description\": \"\"\n      }\n    }\n  ]\n}"
            }
          },
          "metadata": {},
          "execution_count": 15
        }
      ],
      "source": [
        "df"
      ]
    },
    {
      "cell_type": "code",
      "execution_count": 16,
      "metadata": {
        "execution": {
          "iopub.execute_input": "2024-02-27T17:06:12.193324Z",
          "iopub.status.busy": "2024-02-27T17:06:12.193023Z",
          "iopub.status.idle": "2024-02-27T17:06:12.197931Z",
          "shell.execute_reply": "2024-02-27T17:06:12.196804Z",
          "shell.execute_reply.started": "2024-02-27T17:06:12.193299Z"
        },
        "id": "jcYVMBusRr2O",
        "trusted": true
      },
      "outputs": [],
      "source": [
        "from sklearn.model_selection import train_test_split"
      ]
    },
    {
      "cell_type": "code",
      "execution_count": 17,
      "metadata": {
        "execution": {
          "iopub.execute_input": "2024-02-27T17:06:12.199366Z",
          "iopub.status.busy": "2024-02-27T17:06:12.199059Z",
          "iopub.status.idle": "2024-02-27T17:06:12.295146Z",
          "shell.execute_reply": "2024-02-27T17:06:12.294335Z",
          "shell.execute_reply.started": "2024-02-27T17:06:12.199342Z"
        },
        "id": "fXkhf-R1Rr2O",
        "trusted": true
      },
      "outputs": [],
      "source": [
        "def convert_to_tfds(dataframe):\n",
        "\n",
        "  dataset = tf.data.Dataset.from_tensor_slices((dataframe['Comment'], dataframe['Sentiment']))\n",
        "  dataset = dataset.shuffle(buffer_size=len(dataframe), seed=0)\n",
        "  return dataset.batch(64).prefetch(tf.data.AUTOTUNE)\n",
        "\n",
        "training_set = df.copy()\n",
        "\n",
        "train, dev = train_test_split(training_set, test_size=0.1, random_state = 0)\n",
        "train, test = train_test_split(train, test_size = 0.1, random_state = 0)\n",
        "\n",
        "train_ds = convert_to_tfds(train)\n",
        "valid_ds = convert_to_tfds(dev)\n",
        "test_ds = convert_to_tfds(test)"
      ]
    },
    {
      "cell_type": "code",
      "execution_count": 18,
      "metadata": {
        "execution": {
          "iopub.execute_input": "2024-02-27T17:06:12.296795Z",
          "iopub.status.busy": "2024-02-27T17:06:12.296478Z",
          "iopub.status.idle": "2024-02-27T17:06:15.794176Z",
          "shell.execute_reply": "2024-02-27T17:06:15.79331Z",
          "shell.execute_reply.started": "2024-02-27T17:06:12.296768Z"
        },
        "id": "wsEZb9fZRr2P",
        "trusted": true
      },
      "outputs": [],
      "source": [
        "encoder = tf.keras.layers.TextVectorization()\n",
        "encoder.adapt(train_ds.map(lambda text, label: text))"
      ]
    },
    {
      "cell_type": "code",
      "execution_count": 19,
      "metadata": {
        "execution": {
          "iopub.execute_input": "2024-02-27T17:06:15.795822Z",
          "iopub.status.busy": "2024-02-27T17:06:15.795443Z",
          "iopub.status.idle": "2024-02-27T17:06:16.498609Z",
          "shell.execute_reply": "2024-02-27T17:06:16.497644Z",
          "shell.execute_reply.started": "2024-02-27T17:06:15.795795Z"
        },
        "id": "_tVp4Q3ORr2P",
        "outputId": "867b889b-98bb-42e2-96fd-a60e9bc04486",
        "trusted": true,
        "colab": {
          "base_uri": "https://localhost:8080/"
        }
      },
      "outputs": [
        {
          "output_type": "execute_result",
          "data": {
            "text/plain": [
              "16566"
            ]
          },
          "metadata": {},
          "execution_count": 19
        }
      ],
      "source": [
        "len(encoder.get_vocabulary())"
      ]
    },
    {
      "cell_type": "code",
      "execution_count": 20,
      "metadata": {
        "execution": {
          "iopub.execute_input": "2024-02-27T17:06:16.500125Z",
          "iopub.status.busy": "2024-02-27T17:06:16.499814Z",
          "iopub.status.idle": "2024-02-27T17:06:17.43402Z",
          "shell.execute_reply": "2024-02-27T17:06:17.433156Z",
          "shell.execute_reply.started": "2024-02-27T17:06:16.50008Z"
        },
        "id": "1dWfZQt9Rr2P",
        "trusted": true
      },
      "outputs": [],
      "source": [
        "model = tf.keras.Sequential([\n",
        "        encoder,\n",
        "        tf.keras.layers.Embedding(\n",
        "            input_dim = len(encoder.get_vocabulary()),\n",
        "            output_dim = 64,\n",
        "            mask_zero = True\n",
        "        ),\n",
        "        tf.keras.layers.Bidirectional(tf.keras.layers.SimpleRNN(64, activation='relu')),\n",
        "        tf.keras.layers.Dense(64, activation='relu'),\n",
        "        tf.keras.layers.Dense(1)\n",
        "])"
      ]
    },
    {
      "cell_type": "code",
      "execution_count": 21,
      "metadata": {
        "execution": {
          "iopub.execute_input": "2024-02-27T17:06:17.43578Z",
          "iopub.status.busy": "2024-02-27T17:06:17.43539Z",
          "iopub.status.idle": "2024-02-27T17:06:17.450482Z",
          "shell.execute_reply": "2024-02-27T17:06:17.4495Z",
          "shell.execute_reply.started": "2024-02-27T17:06:17.435739Z"
        },
        "id": "iOeKU2QMRr2P",
        "trusted": true
      },
      "outputs": [],
      "source": [
        "model.compile(loss=tf.keras.losses.BinaryCrossentropy(from_logits=True),\n",
        "              optimizer=tf.keras.optimizers.Adam(1e-4),\n",
        "              metrics=['accuracy'])"
      ]
    },
    {
      "cell_type": "code",
      "execution_count": 22,
      "metadata": {
        "execution": {
          "iopub.execute_input": "2024-02-27T17:06:17.451985Z",
          "iopub.status.busy": "2024-02-27T17:06:17.451655Z",
          "iopub.status.idle": "2024-02-27T17:23:00.581789Z",
          "shell.execute_reply": "2024-02-27T17:23:00.580776Z",
          "shell.execute_reply.started": "2024-02-27T17:06:17.451958Z"
        },
        "id": "CeV15O12Rr2P",
        "outputId": "3506d7f3-7f83-4845-951e-9e178c3a9b82",
        "trusted": true,
        "colab": {
          "base_uri": "https://localhost:8080/"
        }
      },
      "outputs": [
        {
          "output_type": "stream",
          "name": "stdout",
          "text": [
            "Epoch 1/15\n",
            "\u001b[1m89/89\u001b[0m \u001b[32m━━━━━━━━━━━━━━━━━━━━\u001b[0m\u001b[37m\u001b[0m \u001b[1m32s\u001b[0m 311ms/step - accuracy: 0.3643 - loss: 0.6773 - val_accuracy: 0.6112 - val_loss: 0.6212\n",
            "Epoch 2/15\n",
            "\u001b[1m 1/89\u001b[0m \u001b[37m━━━━━━━━━━━━━━━━━━━━\u001b[0m \u001b[1m9s\u001b[0m 103ms/step - accuracy: 0.6562 - loss: 0.5960"
          ]
        },
        {
          "output_type": "stream",
          "name": "stderr",
          "text": [
            "/usr/local/lib/python3.11/dist-packages/keras/src/trainers/epoch_iterator.py:107: UserWarning: Your input ran out of data; interrupting training. Make sure that your dataset or generator can generate at least `steps_per_epoch * epochs` batches. You may need to use the `.repeat()` function when building your dataset.\n",
            "  self._interrupted_warning()\n"
          ]
        },
        {
          "output_type": "stream",
          "name": "stdout",
          "text": [
            "\u001b[1m89/89\u001b[0m \u001b[32m━━━━━━━━━━━━━━━━━━━━\u001b[0m\u001b[37m\u001b[0m \u001b[1m21s\u001b[0m 239ms/step - accuracy: 0.6477 - loss: 0.6260 - val_accuracy: 0.6772 - val_loss: 0.5974\n",
            "Epoch 3/15\n",
            "\u001b[1m89/89\u001b[0m \u001b[32m━━━━━━━━━━━━━━━━━━━━\u001b[0m\u001b[37m\u001b[0m \u001b[1m22s\u001b[0m 245ms/step - accuracy: 0.7148 - loss: 0.5870 - val_accuracy: 0.7217 - val_loss: 0.5533\n",
            "Epoch 4/15\n",
            "\u001b[1m89/89\u001b[0m \u001b[32m━━━━━━━━━━━━━━━━━━━━\u001b[0m\u001b[37m\u001b[0m \u001b[1m19s\u001b[0m 214ms/step - accuracy: 0.8023 - loss: 0.5130 - val_accuracy: 0.7719 - val_loss: 0.4815\n",
            "Epoch 5/15\n",
            "\u001b[1m89/89\u001b[0m \u001b[32m━━━━━━━━━━━━━━━━━━━━\u001b[0m\u001b[37m\u001b[0m \u001b[1m20s\u001b[0m 228ms/step - accuracy: 0.8597 - loss: 0.4263 - val_accuracy: 0.7948 - val_loss: 0.4333\n",
            "Epoch 6/15\n",
            "\u001b[1m89/89\u001b[0m \u001b[32m━━━━━━━━━━━━━━━━━━━━\u001b[0m\u001b[37m\u001b[0m \u001b[1m20s\u001b[0m 226ms/step - accuracy: 0.9009 - loss: 0.3322 - val_accuracy: 0.7977 - val_loss: 0.6785\n",
            "Epoch 7/15\n",
            "\u001b[1m89/89\u001b[0m \u001b[32m━━━━━━━━━━━━━━━━━━━━\u001b[0m\u001b[37m\u001b[0m \u001b[1m19s\u001b[0m 215ms/step - accuracy: 0.9056 - loss: 0.2341 - val_accuracy: 0.8307 - val_loss: 0.3672\n",
            "Epoch 8/15\n",
            "\u001b[1m89/89\u001b[0m \u001b[32m━━━━━━━━━━━━━━━━━━━━\u001b[0m\u001b[37m\u001b[0m \u001b[1m22s\u001b[0m 213ms/step - accuracy: 0.9520 - loss: 0.1396 - val_accuracy: 0.8321 - val_loss: 0.3737\n",
            "Epoch 9/15\n",
            "\u001b[1m89/89\u001b[0m \u001b[32m━━━━━━━━━━━━━━━━━━━━\u001b[0m\u001b[37m\u001b[0m \u001b[1m19s\u001b[0m 212ms/step - accuracy: 0.9704 - loss: 0.0872 - val_accuracy: 0.8379 - val_loss: 0.4232\n",
            "Epoch 10/15\n",
            "\u001b[1m89/89\u001b[0m \u001b[32m━━━━━━━━━━━━━━━━━━━━\u001b[0m\u001b[37m\u001b[0m \u001b[1m21s\u001b[0m 235ms/step - accuracy: 0.9842 - loss: 0.0530 - val_accuracy: 0.8494 - val_loss: 0.4093\n",
            "Epoch 11/15\n",
            "\u001b[1m89/89\u001b[0m \u001b[32m━━━━━━━━━━━━━━━━━━━━\u001b[0m\u001b[37m\u001b[0m \u001b[1m19s\u001b[0m 209ms/step - accuracy: 0.9835 - loss: 0.0489 - val_accuracy: 0.8594 - val_loss: 0.4720\n",
            "Epoch 12/15\n",
            "\u001b[1m89/89\u001b[0m \u001b[32m━━━━━━━━━━━━━━━━━━━━\u001b[0m\u001b[37m\u001b[0m \u001b[1m19s\u001b[0m 212ms/step - accuracy: 0.9906 - loss: 0.0278 - val_accuracy: 0.8565 - val_loss: 0.4973\n",
            "Epoch 13/15\n",
            "\u001b[1m89/89\u001b[0m \u001b[32m━━━━━━━━━━━━━━━━━━━━\u001b[0m\u001b[37m\u001b[0m \u001b[1m21s\u001b[0m 231ms/step - accuracy: 0.9940 - loss: 0.0261 - val_accuracy: 0.8608 - val_loss: 0.5855\n",
            "Epoch 14/15\n",
            "\u001b[1m89/89\u001b[0m \u001b[32m━━━━━━━━━━━━━━━━━━━━\u001b[0m\u001b[37m\u001b[0m \u001b[1m19s\u001b[0m 215ms/step - accuracy: 0.9958 - loss: 0.0170 - val_accuracy: 0.8608 - val_loss: 0.6353\n",
            "Epoch 15/15\n",
            "\u001b[1m89/89\u001b[0m \u001b[32m━━━━━━━━━━━━━━━━━━━━\u001b[0m\u001b[37m\u001b[0m \u001b[1m20s\u001b[0m 231ms/step - accuracy: 0.9963 - loss: 0.0140 - val_accuracy: 0.8479 - val_loss: 0.5660\n"
          ]
        }
      ],
      "source": [
        "history = model.fit(train_ds, epochs=15,\n",
        "                    validation_data=valid_ds,\n",
        "                    validation_steps=30)"
      ]
    },
    {
      "cell_type": "code",
      "execution_count": 23,
      "metadata": {
        "execution": {
          "iopub.execute_input": "2024-02-27T17:23:00.583823Z",
          "iopub.status.busy": "2024-02-27T17:23:00.58319Z",
          "iopub.status.idle": "2024-02-27T17:23:02.913742Z",
          "shell.execute_reply": "2024-02-27T17:23:02.912742Z",
          "shell.execute_reply.started": "2024-02-27T17:23:00.583787Z"
        },
        "id": "OJeIG1E-Rr2P",
        "outputId": "770e4dd2-eec7-46d1-eebd-a6c1de8865d6",
        "trusted": true,
        "colab": {
          "base_uri": "https://localhost:8080/"
        }
      },
      "outputs": [
        {
          "output_type": "stream",
          "name": "stdout",
          "text": [
            "\u001b[1m10/10\u001b[0m \u001b[32m━━━━━━━━━━━━━━━━━━━━\u001b[0m\u001b[37m\u001b[0m \u001b[1m0s\u001b[0m 33ms/step - accuracy: 0.8434 - loss: 0.5844\n",
            "Loss: 0.657492995262146\n",
            "Accuracy: 0.8341307640075684\n"
          ]
        }
      ],
      "source": [
        "# Get Loss and Accuracy of test set\n",
        "loss, accuracy = model.evaluate(test_ds)\n",
        "\n",
        "print('Loss:', loss)\n",
        "print('Accuracy:', accuracy)"
      ]
    },
    {
      "cell_type": "markdown",
      "metadata": {
        "id": "gbq9jpP3Rr2P"
      },
      "source": [
        "This model utilizes a bidirectional recurrent neural network (BRNN) with an embedding layer for processing tokenized input data.\n",
        "\n",
        "* **Rapid Initial Improvement:** The model exhibited rapid improvement in accuracy and loss reduction during the early epochs (1-5). Training accuracy climbed from 36.43% in Epoch 1 to 85.97% in Epoch 5, with a corresponding decrease in loss.\n",
        "* **Overfitting:** After epoch 5, the model begins to overfit. The training accuracy continues to increase, reaching 99.63% by Epoch 15, while the validation accuracy plateaus and even declines in some epochs, indicating overfitting. The validation loss also increases after epoch 7.\n",
        "* **Epoch 2 issue:** It is important to note the warning from epoch 2. \"Your input ran out of data; interrupting training. Make sure that your dataset or generator can generate at least steps_per_epoch * epochs batches. This issue should be investigated. Suggestion to use .repeat() or simplify model complexity so that you can ensure the dataset can provide enough batches for the training process."
      ]
    },
    {
      "cell_type": "markdown",
      "metadata": {
        "id": "Sefz2YNtRr2Q"
      },
      "source": [
        "**Part 2 (30 points):** Update your network from part 1 with first an LSTM and then a GRU\n",
        "based cell structure (You can treat both as 2 separate implementations). Re-do the\n",
        "training and performance evaluation. What are the major differences you notice? Why\n",
        "do you think those differences exist between the 3 implementations (basic RNN, LSTM\n",
        "and GRU)?"
      ]
    },
    {
      "cell_type": "code",
      "execution_count": 24,
      "metadata": {
        "execution": {
          "iopub.execute_input": "2024-02-27T17:23:02.916672Z",
          "iopub.status.busy": "2024-02-27T17:23:02.915923Z",
          "iopub.status.idle": "2024-02-27T17:23:03.884401Z",
          "shell.execute_reply": "2024-02-27T17:23:03.883531Z",
          "shell.execute_reply.started": "2024-02-27T17:23:02.916643Z"
        },
        "id": "pmePYBT-Rr2Q",
        "trusted": true
      },
      "outputs": [],
      "source": [
        "# LSTM Implementation\n",
        "\n",
        "model = tf.keras.Sequential([\n",
        "        encoder,\n",
        "        tf.keras.layers.Embedding(\n",
        "            input_dim = len(encoder.get_vocabulary()),\n",
        "            output_dim = 64,\n",
        "            mask_zero = True\n",
        "        ),\n",
        "        tf.keras.layers.Bidirectional(tf.keras.layers.LSTM(64, activation='relu')),\n",
        "        tf.keras.layers.Dense(64, activation='relu'),\n",
        "        tf.keras.layers.Dense(1)\n",
        "])"
      ]
    },
    {
      "cell_type": "code",
      "execution_count": 25,
      "metadata": {
        "execution": {
          "iopub.execute_input": "2024-02-27T17:23:03.885946Z",
          "iopub.status.busy": "2024-02-27T17:23:03.885615Z",
          "iopub.status.idle": "2024-02-27T17:23:03.897082Z",
          "shell.execute_reply": "2024-02-27T17:23:03.896273Z",
          "shell.execute_reply.started": "2024-02-27T17:23:03.885918Z"
        },
        "id": "sBSZ6gyjRr2Q",
        "trusted": true
      },
      "outputs": [],
      "source": [
        "model.compile(loss=tf.keras.losses.BinaryCrossentropy(from_logits=True),\n",
        "              optimizer=tf.keras.optimizers.Adam(1e-4),\n",
        "              metrics=['accuracy'])"
      ]
    },
    {
      "cell_type": "code",
      "execution_count": 26,
      "metadata": {
        "execution": {
          "iopub.execute_input": "2024-02-27T17:23:03.898871Z",
          "iopub.status.busy": "2024-02-27T17:23:03.89832Z",
          "iopub.status.idle": "2024-02-27T17:46:19.853957Z",
          "shell.execute_reply": "2024-02-27T17:46:19.853127Z",
          "shell.execute_reply.started": "2024-02-27T17:23:03.898844Z"
        },
        "id": "yeGNrPkDRr2Q",
        "outputId": "df21e1ff-a6f1-4c62-f5a7-215172000393",
        "trusted": true,
        "colab": {
          "base_uri": "https://localhost:8080/"
        }
      },
      "outputs": [
        {
          "output_type": "stream",
          "name": "stdout",
          "text": [
            "Epoch 1/15\n",
            "\u001b[1m89/89\u001b[0m \u001b[32m━━━━━━━━━━━━━━━━━━━━\u001b[0m\u001b[37m\u001b[0m \u001b[1m44s\u001b[0m 422ms/step - accuracy: 0.3408 - loss: 0.6915 - val_accuracy: 0.3085 - val_loss: 0.6665\n",
            "Epoch 2/15\n",
            "\u001b[1m89/89\u001b[0m \u001b[32m━━━━━━━━━━━━━━━━━━━━\u001b[0m\u001b[37m\u001b[0m \u001b[1m43s\u001b[0m 486ms/step - accuracy: 0.3648 - loss: 0.6596 - val_accuracy: 0.6356 - val_loss: 0.6101\n",
            "Epoch 3/15\n",
            "\u001b[1m89/89\u001b[0m \u001b[32m━━━━━━━━━━━━━━━━━━━━\u001b[0m\u001b[37m\u001b[0m \u001b[1m76s\u001b[0m 420ms/step - accuracy: 0.6456 - loss: nan - val_accuracy: 0.3085 - val_loss: nan\n",
            "Epoch 4/15\n",
            "\u001b[1m89/89\u001b[0m \u001b[32m━━━━━━━━━━━━━━━━━━━━\u001b[0m\u001b[37m\u001b[0m \u001b[1m39s\u001b[0m 446ms/step - accuracy: 0.3357 - loss: nan - val_accuracy: 0.3085 - val_loss: nan\n",
            "Epoch 5/15\n",
            "\u001b[1m89/89\u001b[0m \u001b[32m━━━━━━━━━━━━━━━━━━━━\u001b[0m\u001b[37m\u001b[0m \u001b[1m43s\u001b[0m 454ms/step - accuracy: 0.3313 - loss: nan - val_accuracy: 0.3085 - val_loss: nan\n",
            "Epoch 6/15\n",
            "\u001b[1m89/89\u001b[0m \u001b[32m━━━━━━━━━━━━━━━━━━━━\u001b[0m\u001b[37m\u001b[0m \u001b[1m36s\u001b[0m 400ms/step - accuracy: 0.3522 - loss: nan - val_accuracy: 0.3085 - val_loss: nan\n",
            "Epoch 7/15\n",
            "\u001b[1m89/89\u001b[0m \u001b[32m━━━━━━━━━━━━━━━━━━━━\u001b[0m\u001b[37m\u001b[0m \u001b[1m39s\u001b[0m 441ms/step - accuracy: 0.3360 - loss: nan - val_accuracy: 0.3085 - val_loss: nan\n",
            "Epoch 8/15\n",
            "\u001b[1m89/89\u001b[0m \u001b[32m━━━━━━━━━━━━━━━━━━━━\u001b[0m\u001b[37m\u001b[0m \u001b[1m39s\u001b[0m 445ms/step - accuracy: 0.3421 - loss: nan - val_accuracy: 0.3085 - val_loss: nan\n",
            "Epoch 9/15\n",
            "\u001b[1m89/89\u001b[0m \u001b[32m━━━━━━━━━━━━━━━━━━━━\u001b[0m\u001b[37m\u001b[0m \u001b[1m36s\u001b[0m 407ms/step - accuracy: 0.3442 - loss: nan - val_accuracy: 0.3085 - val_loss: nan\n",
            "Epoch 10/15\n",
            "\u001b[1m89/89\u001b[0m \u001b[32m━━━━━━━━━━━━━━━━━━━━\u001b[0m\u001b[37m\u001b[0m \u001b[1m43s\u001b[0m 432ms/step - accuracy: 0.3477 - loss: nan - val_accuracy: 0.3085 - val_loss: nan\n",
            "Epoch 11/15\n",
            "\u001b[1m89/89\u001b[0m \u001b[32m━━━━━━━━━━━━━━━━━━━━\u001b[0m\u001b[37m\u001b[0m \u001b[1m42s\u001b[0m 444ms/step - accuracy: 0.3375 - loss: nan - val_accuracy: 0.3085 - val_loss: nan\n",
            "Epoch 12/15\n",
            "\u001b[1m89/89\u001b[0m \u001b[32m━━━━━━━━━━━━━━━━━━━━\u001b[0m\u001b[37m\u001b[0m \u001b[1m35s\u001b[0m 401ms/step - accuracy: 0.3342 - loss: nan - val_accuracy: 0.3085 - val_loss: nan\n",
            "Epoch 13/15\n",
            "\u001b[1m89/89\u001b[0m \u001b[32m━━━━━━━━━━━━━━━━━━━━\u001b[0m\u001b[37m\u001b[0m \u001b[1m39s\u001b[0m 436ms/step - accuracy: 0.3438 - loss: nan - val_accuracy: 0.3085 - val_loss: nan\n",
            "Epoch 14/15\n",
            "\u001b[1m89/89\u001b[0m \u001b[32m━━━━━━━━━━━━━━━━━━━━\u001b[0m\u001b[37m\u001b[0m \u001b[1m41s\u001b[0m 458ms/step - accuracy: 0.3359 - loss: nan - val_accuracy: 0.3085 - val_loss: nan\n",
            "Epoch 15/15\n",
            "\u001b[1m89/89\u001b[0m \u001b[32m━━━━━━━━━━━━━━━━━━━━\u001b[0m\u001b[37m\u001b[0m \u001b[1m37s\u001b[0m 421ms/step - accuracy: 0.3309 - loss: nan - val_accuracy: 0.3085 - val_loss: nan\n"
          ]
        }
      ],
      "source": [
        "history = model.fit(train_ds, epochs=15,\n",
        "                    validation_data=valid_ds,\n",
        "                    validation_steps=30)"
      ]
    },
    {
      "cell_type": "code",
      "execution_count": 27,
      "metadata": {
        "execution": {
          "iopub.execute_input": "2024-02-27T17:46:19.855556Z",
          "iopub.status.busy": "2024-02-27T17:46:19.855249Z",
          "iopub.status.idle": "2024-02-27T17:46:24.972147Z",
          "shell.execute_reply": "2024-02-27T17:46:24.971234Z",
          "shell.execute_reply.started": "2024-02-27T17:46:19.855528Z"
        },
        "id": "ml-Alb3dRr2Q",
        "outputId": "4db8788a-feda-4939-de98-fa3b4c458860",
        "trusted": true,
        "colab": {
          "base_uri": "https://localhost:8080/"
        }
      },
      "outputs": [
        {
          "output_type": "stream",
          "name": "stdout",
          "text": [
            "\u001b[1m10/10\u001b[0m \u001b[32m━━━━━━━━━━━━━━━━━━━━\u001b[0m\u001b[37m\u001b[0m \u001b[1m1s\u001b[0m 73ms/step - accuracy: 0.3237 - loss: nan\n",
            "Loss: nan\n",
            "Accuracy: 0.339712917804718\n"
          ]
        }
      ],
      "source": [
        "# LSTM Implementation - Get Loss and Accuracy of test set\n",
        "loss, accuracy = model.evaluate(test_ds)\n",
        "\n",
        "print('Loss:', loss)\n",
        "print('Accuracy:', accuracy)"
      ]
    },
    {
      "cell_type": "code",
      "execution_count": 28,
      "metadata": {
        "execution": {
          "iopub.execute_input": "2024-02-27T17:46:24.973816Z",
          "iopub.status.busy": "2024-02-27T17:46:24.973459Z",
          "iopub.status.idle": "2024-02-27T17:46:25.917521Z",
          "shell.execute_reply": "2024-02-27T17:46:25.91673Z",
          "shell.execute_reply.started": "2024-02-27T17:46:24.973784Z"
        },
        "id": "8ov1siLKRr2R",
        "trusted": true
      },
      "outputs": [],
      "source": [
        "# GRU Implementation\n",
        "\n",
        "model = tf.keras.Sequential([\n",
        "        encoder,\n",
        "        tf.keras.layers.Embedding(\n",
        "            input_dim = len(encoder.get_vocabulary()),\n",
        "            output_dim = 64,\n",
        "            mask_zero = True\n",
        "        ),\n",
        "        tf.keras.layers.Bidirectional(tf.keras.layers.GRU(64, activation='relu')),\n",
        "        tf.keras.layers.Dense(64, activation='relu'),\n",
        "        tf.keras.layers.Dense(1)\n",
        "])"
      ]
    },
    {
      "cell_type": "code",
      "execution_count": 29,
      "metadata": {
        "execution": {
          "iopub.execute_input": "2024-02-27T17:46:25.922577Z",
          "iopub.status.busy": "2024-02-27T17:46:25.922283Z",
          "iopub.status.idle": "2024-02-27T17:46:25.933862Z",
          "shell.execute_reply": "2024-02-27T17:46:25.933073Z",
          "shell.execute_reply.started": "2024-02-27T17:46:25.922552Z"
        },
        "id": "J6seA7DcRr2R",
        "trusted": true
      },
      "outputs": [],
      "source": [
        "model.compile(loss=tf.keras.losses.BinaryCrossentropy(from_logits=True),\n",
        "              optimizer=tf.keras.optimizers.Adam(1e-4),\n",
        "              metrics=['accuracy'])"
      ]
    },
    {
      "cell_type": "code",
      "execution_count": 30,
      "metadata": {
        "execution": {
          "iopub.execute_input": "2024-02-27T17:46:25.935168Z",
          "iopub.status.busy": "2024-02-27T17:46:25.934895Z",
          "iopub.status.idle": "2024-02-27T18:09:08.274193Z",
          "shell.execute_reply": "2024-02-27T18:09:08.273309Z",
          "shell.execute_reply.started": "2024-02-27T17:46:25.935142Z"
        },
        "id": "5PhN-I20Rr2R",
        "outputId": "85fb0665-2088-441a-ccfc-8863a32bcba7",
        "trusted": true,
        "colab": {
          "base_uri": "https://localhost:8080/"
        }
      },
      "outputs": [
        {
          "output_type": "stream",
          "name": "stdout",
          "text": [
            "Epoch 1/15\n",
            "\u001b[1m89/89\u001b[0m \u001b[32m━━━━━━━━━━━━━━━━━━━━\u001b[0m\u001b[37m\u001b[0m \u001b[1m48s\u001b[0m 479ms/step - accuracy: 0.3417 - loss: 0.6852 - val_accuracy: 0.3085 - val_loss: 0.6500\n",
            "Epoch 2/15\n",
            "\u001b[1m89/89\u001b[0m \u001b[32m━━━━━━━━━━━━━━━━━━━━\u001b[0m\u001b[37m\u001b[0m \u001b[1m81s\u001b[0m 460ms/step - accuracy: 0.4043 - loss: 0.6467 - val_accuracy: 0.6801 - val_loss: 0.6074\n",
            "Epoch 3/15\n",
            "\u001b[1m89/89\u001b[0m \u001b[32m━━━━━━━━━━━━━━━━━━━━\u001b[0m\u001b[37m\u001b[0m \u001b[1m41s\u001b[0m 455ms/step - accuracy: 0.6635 - loss: 0.6128 - val_accuracy: 0.7030 - val_loss: 0.5760\n",
            "Epoch 4/15\n",
            "\u001b[1m89/89\u001b[0m \u001b[32m━━━━━━━━━━━━━━━━━━━━\u001b[0m\u001b[37m\u001b[0m \u001b[1m40s\u001b[0m 454ms/step - accuracy: 0.7315 - loss: nan - val_accuracy: 0.3085 - val_loss: nan\n",
            "Epoch 5/15\n",
            "\u001b[1m89/89\u001b[0m \u001b[32m━━━━━━━━━━━━━━━━━━━━\u001b[0m\u001b[37m\u001b[0m \u001b[1m42s\u001b[0m 476ms/step - accuracy: 0.3378 - loss: nan - val_accuracy: 0.3085 - val_loss: nan\n",
            "Epoch 6/15\n",
            "\u001b[1m89/89\u001b[0m \u001b[32m━━━━━━━━━━━━━━━━━━━━\u001b[0m\u001b[37m\u001b[0m \u001b[1m41s\u001b[0m 465ms/step - accuracy: 0.3393 - loss: nan - val_accuracy: 0.3085 - val_loss: nan\n",
            "Epoch 7/15\n",
            "\u001b[1m89/89\u001b[0m \u001b[32m━━━━━━━━━━━━━━━━━━━━\u001b[0m\u001b[37m\u001b[0m \u001b[1m82s\u001b[0m 455ms/step - accuracy: 0.3397 - loss: nan - val_accuracy: 0.3085 - val_loss: nan\n",
            "Epoch 8/15\n",
            "\u001b[1m89/89\u001b[0m \u001b[32m━━━━━━━━━━━━━━━━━━━━\u001b[0m\u001b[37m\u001b[0m \u001b[1m41s\u001b[0m 463ms/step - accuracy: 0.3388 - loss: nan - val_accuracy: 0.3085 - val_loss: nan\n",
            "Epoch 9/15\n",
            "\u001b[1m89/89\u001b[0m \u001b[32m━━━━━━━━━━━━━━━━━━━━\u001b[0m\u001b[37m\u001b[0m \u001b[1m42s\u001b[0m 476ms/step - accuracy: 0.3451 - loss: nan - val_accuracy: 0.3085 - val_loss: nan\n",
            "Epoch 10/15\n",
            "\u001b[1m89/89\u001b[0m \u001b[32m━━━━━━━━━━━━━━━━━━━━\u001b[0m\u001b[37m\u001b[0m \u001b[1m41s\u001b[0m 461ms/step - accuracy: 0.3323 - loss: nan - val_accuracy: 0.3085 - val_loss: nan\n",
            "Epoch 11/15\n",
            "\u001b[1m89/89\u001b[0m \u001b[32m━━━━━━━━━━━━━━━━━━━━\u001b[0m\u001b[37m\u001b[0m \u001b[1m42s\u001b[0m 473ms/step - accuracy: 0.3496 - loss: nan - val_accuracy: 0.3085 - val_loss: nan\n",
            "Epoch 12/15\n",
            "\u001b[1m89/89\u001b[0m \u001b[32m━━━━━━━━━━━━━━━━━━━━\u001b[0m\u001b[37m\u001b[0m \u001b[1m81s\u001b[0m 464ms/step - accuracy: 0.3432 - loss: nan - val_accuracy: 0.3085 - val_loss: nan\n",
            "Epoch 13/15\n",
            "\u001b[1m89/89\u001b[0m \u001b[32m━━━━━━━━━━━━━━━━━━━━\u001b[0m\u001b[37m\u001b[0m \u001b[1m81s\u001b[0m 447ms/step - accuracy: 0.3315 - loss: nan - val_accuracy: 0.3085 - val_loss: nan\n",
            "Epoch 14/15\n",
            "\u001b[1m89/89\u001b[0m \u001b[32m━━━━━━━━━━━━━━━━━━━━\u001b[0m\u001b[37m\u001b[0m \u001b[1m41s\u001b[0m 452ms/step - accuracy: 0.3299 - loss: nan - val_accuracy: 0.3085 - val_loss: nan\n",
            "Epoch 15/15\n",
            "\u001b[1m89/89\u001b[0m \u001b[32m━━━━━━━━━━━━━━━━━━━━\u001b[0m\u001b[37m\u001b[0m \u001b[1m41s\u001b[0m 465ms/step - accuracy: 0.3332 - loss: nan - val_accuracy: 0.3085 - val_loss: nan\n"
          ]
        }
      ],
      "source": [
        "history = model.fit(train_ds, epochs=15,\n",
        "                    validation_data=valid_ds,\n",
        "                    validation_steps=30)"
      ]
    },
    {
      "cell_type": "code",
      "execution_count": 31,
      "metadata": {
        "execution": {
          "iopub.execute_input": "2024-02-27T18:09:08.275665Z",
          "iopub.status.busy": "2024-02-27T18:09:08.275371Z",
          "iopub.status.idle": "2024-02-27T18:09:11.891503Z",
          "shell.execute_reply": "2024-02-27T18:09:11.890533Z",
          "shell.execute_reply.started": "2024-02-27T18:09:08.275638Z"
        },
        "id": "vMZi-M6TRr2R",
        "outputId": "36abf120-32ef-4f80-8807-85d669511c96",
        "trusted": true,
        "colab": {
          "base_uri": "https://localhost:8080/"
        }
      },
      "outputs": [
        {
          "output_type": "stream",
          "name": "stdout",
          "text": [
            "\u001b[1m10/10\u001b[0m \u001b[32m━━━━━━━━━━━━━━━━━━━━\u001b[0m\u001b[37m\u001b[0m \u001b[1m1s\u001b[0m 112ms/step - accuracy: 0.3220 - loss: nan\n",
            "Loss: nan\n",
            "Accuracy: 0.339712917804718\n"
          ]
        }
      ],
      "source": [
        "# GRU Implementation - Get Loss and Accuracy of test set\n",
        "loss, accuracy = model.evaluate(test_ds)\n",
        "\n",
        "print('Loss:', loss)\n",
        "print('Accuracy:', accuracy)"
      ]
    },
    {
      "cell_type": "markdown",
      "metadata": {
        "id": "mT5NxH6eRr2S"
      },
      "source": [
        "**Comparison of RNN Architectures:**\n",
        "\n",
        "* **LSTM:**\n",
        "  * The LSTM model's training process began with moderate accuracy and loss.\n",
        "  * However, after the second epoch, the training resulted in \"nan\" loss and a consistent accuracy of around 33-35%.\n",
        "  * The validation accuracy also remained consistently low at approximately 30%.\n",
        "  * The test loss was nan, and the test accuracy was 33.97%.\n",
        "  * These results strongly suggest that the LSTM model encountered significant numerical instability (likely due to vanishing or exploding gradients), preventing effective learning.\n",
        "* **GRU:**\n",
        "  * The GRU model showed some initial improvement, with accuracy increasing and loss decreasing in the first few epochs.\n",
        "  * However, similar to the LSTM, the GRU model also encountered numerical instability, resulting in \"nan\" loss and a consistently low accuracy of around 33-35% after epoch 3.\n",
        "  * The validation accuracy also remained consistently low at approximately 30%.\n",
        "  * The test loss was nan, and the test accuracy was 33.97%.\n",
        "  * This indicates that the GRU model also suffered from instability issues.\n",
        "\n",
        "**Potential Contributing Factor:**\n",
        "\n",
        "  * Numerical Instability: The \"nan\" loss values strongly suggest numerical instability, likely caused by vanishing or exploding gradients. This is a common problem with recurrent neural networks, especially LSTMs and GRUs, when dealing with long sequences or poorly scaled data.\n",
        "  * Data Characteristics:\n",
        "    * The significant variation in comment lengths (ranging from one word to lengthy comments) might have exacerbated the instability issues.\n",
        "    * The complexity of the data itself could also be a contributing factor."
      ]
    },
    {
      "cell_type": "markdown",
      "metadata": {
        "id": "_o9ljCQ1Rr2S"
      },
      "source": [
        "**Part 3 (10 points):** Can you use the traditional feed-forward network to solve the same\n",
        "problem. Why or why not? (Hint: Can time series data be converted to usual features\n",
        "that can be used as input to a feed-forward network?)"
      ]
    },
    {
      "cell_type": "markdown",
      "metadata": {
        "id": "xQlJrB8WRr2S"
      },
      "source": [
        "While you can technically convert time series data (like comment text) into features for a feed-forward network (e.g., using techniques like bag-of-words or TF-IDF), it would lose the crucial sequential information inherent in language. Feed-forward networks treat each word independently, failing to capture the context and order that are vital for accurate sentiment analysis. For example, \"not good\" and \"good not\" would be treated similarly.\n",
        "\n",
        "To improve performance with RNNs, we would:\n",
        "\n",
        "* Implement gradient clipping and normalization to stabilize training.\n",
        "Thoroughly tune hyperparameters, especially for LSTMs and GRUs.\n",
        "* Review and refine data preprocessing, focusing on consistent input scaling and handling length variations.\n",
        "Try a simpler model.\n",
        "* Investigate the dataset for possible errors.\n",
        "\n",
        "\n",
        "These adjustments should help mitigate instability and improve sentiment analysis accuracy on the YouTube comments dataset."
      ]
    },
    {
      "cell_type": "markdown",
      "metadata": {
        "id": "yOwL3eDpRr2S"
      },
      "source": [
        "# **Task 3 (50 points):**"
      ]
    },
    {
      "cell_type": "markdown",
      "source": [
        "**Part 1: Implementing Word Embeddings (10 points)**\n",
        "\n",
        "* Use a pre-trained word embedding model (Word2Vec, GloVe, FastText, or BERT\n",
        "embeddings).\n",
        "* Provide a comparative discussion on why you chose this embedding over others.\n",
        "* Load embeddings efficiently (either from pre-trained vectors or using an NLP library like\n",
        "Gensim, SpaCy, or Hugging Face).\n",
        "* Allow dynamic user input of two words and output their respective embeddings.\n",
        "* Handle cases where a word is out of vocabulary (OOV) and suggest ways to approximate\n",
        "its embedding."
      ],
      "metadata": {
        "id": "e3zY8kf4RL7c"
      }
    },
    {
      "cell_type": "code",
      "source": [
        "!pip install transformers datasets"
      ],
      "metadata": {
        "colab": {
          "base_uri": "https://localhost:8080/"
        },
        "id": "FX9anITuyY_x",
        "outputId": "b10a1429-b635-46f5-9b62-67f69741fbfb"
      },
      "execution_count": 34,
      "outputs": [
        {
          "output_type": "stream",
          "name": "stdout",
          "text": [
            "Requirement already satisfied: transformers in /usr/local/lib/python3.11/dist-packages (4.48.3)\n",
            "Collecting datasets\n",
            "  Downloading datasets-3.3.2-py3-none-any.whl.metadata (19 kB)\n",
            "Requirement already satisfied: filelock in /usr/local/lib/python3.11/dist-packages (from transformers) (3.17.0)\n",
            "Requirement already satisfied: huggingface-hub<1.0,>=0.24.0 in /usr/local/lib/python3.11/dist-packages (from transformers) (0.28.1)\n",
            "Requirement already satisfied: numpy>=1.17 in /usr/local/lib/python3.11/dist-packages (from transformers) (1.26.4)\n",
            "Requirement already satisfied: packaging>=20.0 in /usr/local/lib/python3.11/dist-packages (from transformers) (24.2)\n",
            "Requirement already satisfied: pyyaml>=5.1 in /usr/local/lib/python3.11/dist-packages (from transformers) (6.0.2)\n",
            "Requirement already satisfied: regex!=2019.12.17 in /usr/local/lib/python3.11/dist-packages (from transformers) (2024.11.6)\n",
            "Requirement already satisfied: requests in /usr/local/lib/python3.11/dist-packages (from transformers) (2.32.3)\n",
            "Requirement already satisfied: tokenizers<0.22,>=0.21 in /usr/local/lib/python3.11/dist-packages (from transformers) (0.21.0)\n",
            "Requirement already satisfied: safetensors>=0.4.1 in /usr/local/lib/python3.11/dist-packages (from transformers) (0.5.2)\n",
            "Requirement already satisfied: tqdm>=4.27 in /usr/local/lib/python3.11/dist-packages (from transformers) (4.67.1)\n",
            "Requirement already satisfied: pyarrow>=15.0.0 in /usr/local/lib/python3.11/dist-packages (from datasets) (18.1.0)\n",
            "Collecting dill<0.3.9,>=0.3.0 (from datasets)\n",
            "  Downloading dill-0.3.8-py3-none-any.whl.metadata (10 kB)\n",
            "Requirement already satisfied: pandas in /usr/local/lib/python3.11/dist-packages (from datasets) (2.2.2)\n",
            "Collecting xxhash (from datasets)\n",
            "  Downloading xxhash-3.5.0-cp311-cp311-manylinux_2_17_x86_64.manylinux2014_x86_64.whl.metadata (12 kB)\n",
            "Collecting multiprocess<0.70.17 (from datasets)\n",
            "  Downloading multiprocess-0.70.16-py311-none-any.whl.metadata (7.2 kB)\n",
            "Requirement already satisfied: fsspec<=2024.12.0,>=2023.1.0 in /usr/local/lib/python3.11/dist-packages (from fsspec[http]<=2024.12.0,>=2023.1.0->datasets) (2024.10.0)\n",
            "Requirement already satisfied: aiohttp in /usr/local/lib/python3.11/dist-packages (from datasets) (3.11.12)\n",
            "Requirement already satisfied: aiohappyeyeballs>=2.3.0 in /usr/local/lib/python3.11/dist-packages (from aiohttp->datasets) (2.4.6)\n",
            "Requirement already satisfied: aiosignal>=1.1.2 in /usr/local/lib/python3.11/dist-packages (from aiohttp->datasets) (1.3.2)\n",
            "Requirement already satisfied: attrs>=17.3.0 in /usr/local/lib/python3.11/dist-packages (from aiohttp->datasets) (25.1.0)\n",
            "Requirement already satisfied: frozenlist>=1.1.1 in /usr/local/lib/python3.11/dist-packages (from aiohttp->datasets) (1.5.0)\n",
            "Requirement already satisfied: multidict<7.0,>=4.5 in /usr/local/lib/python3.11/dist-packages (from aiohttp->datasets) (6.1.0)\n",
            "Requirement already satisfied: propcache>=0.2.0 in /usr/local/lib/python3.11/dist-packages (from aiohttp->datasets) (0.3.0)\n",
            "Requirement already satisfied: yarl<2.0,>=1.17.0 in /usr/local/lib/python3.11/dist-packages (from aiohttp->datasets) (1.18.3)\n",
            "Requirement already satisfied: typing-extensions>=3.7.4.3 in /usr/local/lib/python3.11/dist-packages (from huggingface-hub<1.0,>=0.24.0->transformers) (4.12.2)\n",
            "Requirement already satisfied: charset-normalizer<4,>=2 in /usr/local/lib/python3.11/dist-packages (from requests->transformers) (3.4.1)\n",
            "Requirement already satisfied: idna<4,>=2.5 in /usr/local/lib/python3.11/dist-packages (from requests->transformers) (3.10)\n",
            "Requirement already satisfied: urllib3<3,>=1.21.1 in /usr/local/lib/python3.11/dist-packages (from requests->transformers) (2.3.0)\n",
            "Requirement already satisfied: certifi>=2017.4.17 in /usr/local/lib/python3.11/dist-packages (from requests->transformers) (2025.1.31)\n",
            "Requirement already satisfied: python-dateutil>=2.8.2 in /usr/local/lib/python3.11/dist-packages (from pandas->datasets) (2.8.2)\n",
            "Requirement already satisfied: pytz>=2020.1 in /usr/local/lib/python3.11/dist-packages (from pandas->datasets) (2025.1)\n",
            "Requirement already satisfied: tzdata>=2022.7 in /usr/local/lib/python3.11/dist-packages (from pandas->datasets) (2025.1)\n",
            "Requirement already satisfied: six>=1.5 in /usr/local/lib/python3.11/dist-packages (from python-dateutil>=2.8.2->pandas->datasets) (1.17.0)\n",
            "Downloading datasets-3.3.2-py3-none-any.whl (485 kB)\n",
            "\u001b[2K   \u001b[90m━━━━━━━━━━━━━━━━━━━━━━━━━━━━━━━━━━━━━━━━\u001b[0m \u001b[32m485.4/485.4 kB\u001b[0m \u001b[31m9.4 MB/s\u001b[0m eta \u001b[36m0:00:00\u001b[0m\n",
            "\u001b[?25hDownloading dill-0.3.8-py3-none-any.whl (116 kB)\n",
            "\u001b[2K   \u001b[90m━━━━━━━━━━━━━━━━━━━━━━━━━━━━━━━━━━━━━━━━\u001b[0m \u001b[32m116.3/116.3 kB\u001b[0m \u001b[31m10.5 MB/s\u001b[0m eta \u001b[36m0:00:00\u001b[0m\n",
            "\u001b[?25hDownloading multiprocess-0.70.16-py311-none-any.whl (143 kB)\n",
            "\u001b[2K   \u001b[90m━━━━━━━━━━━━━━━━━━━━━━━━━━━━━━━━━━━━━━━━\u001b[0m \u001b[32m143.5/143.5 kB\u001b[0m \u001b[31m12.3 MB/s\u001b[0m eta \u001b[36m0:00:00\u001b[0m\n",
            "\u001b[?25hDownloading xxhash-3.5.0-cp311-cp311-manylinux_2_17_x86_64.manylinux2014_x86_64.whl (194 kB)\n",
            "\u001b[2K   \u001b[90m━━━━━━━━━━━━━━━━━━━━━━━━━━━━━━━━━━━━━━━━\u001b[0m \u001b[32m194.8/194.8 kB\u001b[0m \u001b[31m13.0 MB/s\u001b[0m eta \u001b[36m0:00:00\u001b[0m\n",
            "\u001b[?25hInstalling collected packages: xxhash, dill, multiprocess, datasets\n",
            "Successfully installed datasets-3.3.2 dill-0.3.8 multiprocess-0.70.16 xxhash-3.5.0\n"
          ]
        }
      ]
    },
    {
      "cell_type": "code",
      "execution_count": 42,
      "metadata": {
        "execution": {
          "iopub.execute_input": "2024-02-27T18:40:46.96819Z",
          "iopub.status.busy": "2024-02-27T18:40:46.967815Z",
          "iopub.status.idle": "2024-02-27T18:40:52.090954Z",
          "shell.execute_reply": "2024-02-27T18:40:52.089786Z",
          "shell.execute_reply.started": "2024-02-27T18:40:46.96816Z"
        },
        "id": "X21MqeDERr2T",
        "trusted": true
      },
      "outputs": [],
      "source": [
        "from sentence_transformers import SentenceTransformer\n",
        "#  Load Embeddings from Hugging Face Hub\n",
        "model = SentenceTransformer(\"cicero-ai/average_word_embeddings_glove.6B.300d-rust\")\n",
        "\n",
        "\n",
        "#  User Input and Embedding Output\n",
        "def get_word_embedding(word, model):\n",
        "    try:\n",
        "        embedding = model.encode(word)\n",
        "        return embedding\n",
        "    except KeyError:\n",
        "        return None\n",
        "\n",
        "def handle_oov(word, model):\n",
        "    print(f\"Word '{word}' is out of vocabulary.\")\n",
        "    return np.zeros(model.get_sentence_embedding_dimension()) # Return a zero vector with the same dimensions as the embeddings"
      ]
    },
    {
      "cell_type": "markdown",
      "source": [
        "**Comparative Discussion:**\n",
        " Why GloVe (from Hugging Face)?\n",
        " - Using a Hugging Face model simplifies loading and access.\n",
        " - GloVe is efficient and captures semantic relationships.\n",
        " - This specific model provides 300-dimensional embeddings.\n",
        " - Hugging Face provides a central place to access models, and integrates well with other libraries.\n",
        " - Word2Vec, FastText, BERT: Same as before, but the loading method changes."
      ],
      "metadata": {
        "id": "tQOdJx1uwmDO"
      }
    },
    {
      "cell_type": "code",
      "source": [
        "while True:\n",
        "    word1 = input(\"Enter the first word (or 'exit'): \").lower()\n",
        "    if word1 == 'exit':\n",
        "        break\n",
        "    word2 = input(\"Enter the second word (or 'exit'): \").lower()\n",
        "    if word2 == 'exit':\n",
        "        break\n",
        "\n",
        "    embedding1 = get_word_embedding(word1, model)\n",
        "    embedding2 = get_word_embedding(word2, model)\n",
        "\n",
        "    if embedding1 is None:\n",
        "        embedding1 = handle_oov(word1, model)\n",
        "\n",
        "    if embedding2 is None:\n",
        "        embedding2 = handle_oov(word2, model)\n",
        "\n",
        "    print(f\"Embedding for '{word1}': {embedding1}\")\n",
        "    print(f\"Embedding for '{word2}': {embedding2}\")"
      ],
      "metadata": {
        "colab": {
          "base_uri": "https://localhost:8080/"
        },
        "id": "S-tXzXhJwlvm",
        "outputId": "59c0b407-3932-4900-feef-96188c23218a"
      },
      "execution_count": 44,
      "outputs": [
        {
          "name": "stdout",
          "output_type": "stream",
          "text": [
            "Enter the first word (or 'exit'): apple \n",
            "Enter the second word (or 'exit'): banana\n",
            "Embedding for 'apple ': [-0.20842   -0.019668   0.063981  -0.71403   -0.21181   -0.59283\n",
            " -0.15316    0.044217   0.63289   -0.84821   -0.21129   -0.19763\n",
            "  0.19029   -0.56226    0.27126    0.23782   -0.5189    -0.24518\n",
            "  0.035243   0.096833   0.24898    0.71279    0.038279  -0.10514\n",
            " -0.4779    -0.39515   -0.27194   -0.44428    0.06113   -0.2318\n",
            " -0.35901   -0.18239    0.035507  -0.087719  -1.0816    -0.42521\n",
            "  0.003224  -0.45991   -0.043462  -0.39031    0.519      0.21139\n",
            " -0.25527    1.1805    -0.19041   -0.12156    0.034186  -0.062316\n",
            "  0.14421   -0.53366    0.47425   -0.4471     0.58047    0.43578\n",
            "  0.1321    -0.095712  -0.37182   -0.013837   0.20601   -0.10099\n",
            "  0.10685   -0.33723    0.10986    0.34796   -0.099839   0.36942\n",
            " -0.52917    0.12407   -0.46127   -0.38483   -0.10114   -0.17634\n",
            "  0.37574    0.16377   -0.2198    -0.26841    0.84706   -0.35619\n",
            " -0.083992  -0.20276   -0.56542    0.19112   -0.14134   -0.7812\n",
            "  0.69188   -0.083628  -0.54293    0.16437    0.037606  -0.68896\n",
            " -0.68711   -0.13367   -0.4779     0.20125    0.085122  -0.063865\n",
            " -0.17104   -0.32432   -0.17623   -0.514     -0.50289    0.23204\n",
            " -0.11324   -1.064     -0.035359  -0.5068    -0.27118   -0.16621\n",
            " -0.63016    0.054252  -0.048178   0.29282   -0.030666  -0.24645\n",
            " -0.27084   -0.42563   -0.39171    0.18428   -0.017772  -0.35334\n",
            " -0.49075   -0.90782    0.13872   -0.76521   -0.46318   -0.32124\n",
            " -0.086228   1.0448    -0.39919    0.69478   -0.10377    0.86715\n",
            "  0.22742    0.4384     0.085767  -0.22846    0.4309     0.064187\n",
            " -0.027926  -0.093056   0.65188    0.59143   -0.3376    -0.37732\n",
            "  0.0052212  1.1193    -0.23845   -0.16029    0.42877   -0.16228\n",
            " -0.12202   -0.1061     0.015761   0.022745  -0.17734   -0.091711\n",
            " -0.29158    0.19034   -0.35168    0.27563   -0.20577    0.11472\n",
            " -0.34126   -0.0065915  0.14896   -0.026762   0.0019373  0.53279\n",
            " -0.76088    0.063085  -0.72089   -0.04128   -0.96164    0.020769\n",
            "  0.16123   -0.34342    0.69713   -0.16018   -0.11701   -0.070239\n",
            " -0.30774    0.39741    0.39994   -0.678      0.57684   -0.48099\n",
            "  0.59317   -0.42262    0.28613   -0.26203    0.052727   0.61659\n",
            " -0.36801   -0.28429   -0.40054   -0.30055   -0.27444   -0.045729\n",
            " -0.56105    0.24176    0.86631   -0.83715    0.13562    0.26196\n",
            " -0.43055    0.34558    0.059441   0.61845    0.11837   -0.019168\n",
            "  0.47697   -0.32465   -0.15463   -0.23556   -0.64263   -0.092156\n",
            " -0.19622    0.40666    0.18009    0.094309   0.046917   0.26369\n",
            " -0.50727    0.37491   -0.66773    0.35095   -0.033835   0.30534\n",
            "  0.23166    0.023526  -0.68365    0.26078   -0.22526   -0.2656\n",
            "  0.59967    0.2598     0.36248    0.15564   -0.45549    0.11153\n",
            " -0.33287    0.081364  -0.36989   -0.25543   -1.1628    -0.14622\n",
            " -0.032971  -0.55619    0.47717   -0.29021    0.42688    1.2397\n",
            " -0.81391    0.21084   -0.25426   -0.08684   -0.078412   0.26035\n",
            "  0.3281    -0.23777    0.05138   -0.030247  -0.15669    0.057147\n",
            "  0.33902    0.12795   -0.21468   -0.75208    0.41422    0.0062719\n",
            " -0.52904    0.92193   -0.42179   -0.69638    0.074115   0.19071\n",
            " -1.2031    -0.081333  -0.4914    -0.22159   -0.29876    0.30094\n",
            "  0.018634   0.18786   -0.45429   -0.29296    0.3695    -0.24218\n",
            " -0.11803    0.071775   0.44026   -0.59978    0.45354    0.17854\n",
            " -0.17155    0.018811  -0.62354   -0.014163   0.16799   -0.064392 ]\n",
            "Embedding for 'banana': [ 4.2141e-01  2.0467e-02  1.2666e-01  3.9762e-01 -1.1016e-01 -3.5956e-02\n",
            " -4.7214e-01 -1.3916e-01  5.6812e-01 -3.4969e-01 -9.3232e-02 -1.7035e-01\n",
            " -3.8677e-01 -1.6811e-01 -1.0157e-01 -2.6612e-01  4.8094e-02 -4.6771e-01\n",
            " -6.0725e-01  4.0952e-01  3.1771e-01  5.0098e-01  6.6368e-01 -1.1827e-01\n",
            " -7.4267e-01 -1.0472e-01 -6.4353e-01 -4.4023e-01 -3.9101e-01  3.5694e-01\n",
            " -9.3489e-01  4.8317e-01  1.5223e-01  7.9339e-02 -2.5111e-01  3.9968e-01\n",
            " -1.7982e-01 -2.8874e-01 -1.0891e-01  3.8821e-01 -2.3147e-01 -5.0337e-01\n",
            " -2.5231e-01 -2.2184e-02 -2.7874e-01 -2.4193e-01  5.7466e-02 -5.3955e-01\n",
            " -3.4875e-02 -4.0482e-01 -3.8067e-02 -4.2337e-01  4.2861e-01  3.5166e-01\n",
            " -1.8165e-01 -3.1131e-01 -5.3276e-01 -5.0954e-02  6.6779e-01 -4.0077e-01\n",
            "  2.1403e-01 -2.9861e-01 -3.6637e-01  2.8489e-01 -3.7663e-01  5.9604e-02\n",
            " -3.1795e-01  2.5463e-01 -2.2185e-01  2.3032e-01 -1.2302e-01  2.4175e-01\n",
            " -1.0706e-01 -8.6599e-02 -3.7363e-02 -1.0403e-01  2.4492e-01 -8.4063e-01\n",
            " -1.5350e-01 -1.9363e-01 -1.8541e-02  1.0938e-01 -2.9402e-01 -1.1271e-01\n",
            " -3.8886e-01 -4.2836e-01 -4.4860e-01 -2.4651e-01 -9.4971e-02 -6.3275e-01\n",
            "  2.0591e-01 -7.7712e-01 -2.3888e-01 -7.9994e-01 -3.6994e-01  3.7863e-01\n",
            "  2.7856e-01 -1.0061e-01  6.4728e-02  9.1214e-02  2.4322e-01  3.9319e-01\n",
            "  2.7138e-01 -6.9390e-01 -3.7603e-01  1.9322e-01 -2.8888e-01 -1.3833e-02\n",
            " -2.0092e-01  2.0651e-01  1.1443e+00  2.0413e-01  7.7503e-02  3.6868e-01\n",
            "  2.6764e-01 -1.9205e-01  1.2437e-01  7.2540e-01 -4.0392e-01  2.0171e-01\n",
            "  2.7611e-02 -7.0727e-01  7.3353e-01 -2.8918e-01 -7.6865e-02  1.6481e-01\n",
            "  4.7930e-01  1.0438e+00 -1.2671e-02  2.1650e-01 -5.4563e-01  7.4603e-01\n",
            "  5.0535e-02  4.3028e-01  2.8583e-01 -2.2623e-01 -1.0048e-01  2.1873e-02\n",
            " -1.5193e-02 -3.6967e-01 -1.2580e-02 -3.3953e-02 -8.7644e-02  6.7809e-02\n",
            "  7.5793e-02  7.7514e-01  3.6431e-01 -3.1494e-01  4.4823e-01 -4.9692e-01\n",
            " -3.9522e-01  1.7200e-01  3.2744e-01  2.8070e-01 -2.2451e-01  1.6309e-02\n",
            " -4.9604e-01 -7.0684e-02  4.4588e-01  6.9836e-01  5.7786e-01 -8.6133e-02\n",
            "  8.8500e-02 -1.3028e-01 -4.7819e-01 -5.6810e-01 -3.5058e-01  4.5372e-01\n",
            " -7.7019e-02 -3.9147e-01 -6.2599e-03 -8.8470e-03 -5.5888e-01 -2.7865e-01\n",
            "  4.5821e-01  4.0499e-02  9.6597e-02  7.9329e-01 -8.1883e-03 -2.2361e-01\n",
            "  1.3949e-01  6.3997e-02 -4.8140e-02 -8.9970e-01  3.2938e-01 -7.3243e-01\n",
            "  4.9520e-01  4.3429e-01  3.9592e-01 -3.6047e-01 -4.4325e-01  1.1874e+00\n",
            " -1.4529e-01 -2.4614e-01  1.6348e-01  2.4299e-01 -8.6866e-02 -3.1420e-01\n",
            " -1.0316e-01  4.4774e-01  1.2476e-01  2.9402e-01  5.6585e-02 -8.1334e-03\n",
            "  4.1448e-01  7.8065e-02  4.2369e-01  5.9514e-01 -1.8196e-01 -1.1808e-01\n",
            " -1.6229e-01 -3.7044e-01 -4.5505e-01  2.3213e-01 -1.8806e-01 -5.7701e-02\n",
            "  3.5678e-01 -2.9694e-01  4.0711e-01  2.9314e-01  5.0997e-01 -4.9060e-01\n",
            " -3.8442e-02  2.7699e-01 -1.7814e-01  5.6196e-01 -2.5775e-01  1.6302e-01\n",
            " -1.2892e-01  1.8511e-01  4.4475e-02 -5.0004e-02  3.4030e-03  7.2436e-01\n",
            "  7.2849e-01 -5.0832e-02  6.3507e-01 -5.1974e-01 -1.8575e-02 -4.0821e-02\n",
            " -6.5155e-02 -4.7370e-01  3.1050e-02 -2.9190e-01 -1.0685e+00  1.9157e-01\n",
            "  3.5104e-01  6.5448e-01  9.4602e-02 -7.4953e-01  2.7771e-01  8.5203e-01\n",
            " -1.3938e-01 -2.6958e-03  7.5905e-01  1.5250e-01 -1.8057e-01  3.5792e-01\n",
            "  2.2094e-01 -2.6224e-03  2.4357e-01 -4.4449e-02  2.4307e-02 -1.8554e-01\n",
            "  5.4730e-01  6.7562e-02 -1.7508e-01 -4.9670e-01  1.9100e-01 -1.2052e-01\n",
            "  5.6214e-04 -4.2702e-02  8.3795e-02  4.1980e-01  1.4462e-01  1.4566e-01\n",
            " -3.3083e-01 -2.5936e-01 -5.8499e-01  8.2745e-02 -4.9894e-01 -2.4473e-01\n",
            " -3.1759e-01 -6.2230e-01 -4.1370e-01  1.0231e-01  5.6253e-01 -4.1108e-01\n",
            "  1.5782e-01  9.3600e-02 -6.6787e-02 -6.5050e-01  4.3919e-01 -7.7270e-02\n",
            " -1.0359e-01  2.0172e-01 -6.4019e-01  9.3869e-02  2.3952e-01  3.0140e-01]\n",
            "Enter the first word (or 'exit'): king\n",
            "Enter the second word (or 'exit'): queen\n",
            "Embedding for 'king': [ 0.0033901 -0.34614    0.28144    0.48382    0.59469    0.012965\n",
            "  0.53982    0.48233    0.21463   -1.0249    -0.34788   -0.79001\n",
            " -0.15084    0.61374    0.042811   0.19323    0.25462    0.32528\n",
            "  0.05698    0.063253  -0.49439    0.47337   -0.16761    0.045594\n",
            "  0.30451   -0.35416   -0.34583   -0.20118    0.25511    0.091111\n",
            "  0.014651  -0.017541  -0.23854    0.48215   -0.9145    -0.36235\n",
            "  0.34736    0.028639  -0.027065  -0.036481  -0.067391  -0.23452\n",
            " -0.13772    0.33951    0.13415   -0.1342     0.47856   -0.1842\n",
            "  0.10705   -0.45834   -0.36085   -0.22595    0.32881   -0.13643\n",
            "  0.23128    0.34269    0.42344    0.47057    0.479      0.074639\n",
            "  0.3344     0.10714   -0.13289    0.58734    0.38616   -0.52238\n",
            " -0.22028   -0.072322   0.32269    0.44226   -0.037382   0.18324\n",
            "  0.058082   0.26938    0.36202    0.13983    0.016815  -0.34426\n",
            "  0.4827     0.2108     0.75618   -0.13092   -0.025741   0.43391\n",
            "  0.33893   -0.16438    0.26817    0.68774    0.311     -0.2509\n",
            "  0.0027749 -0.39809   -0.43399    0.049531  -0.42686   -0.094679\n",
            "  0.56925    0.28742   -0.015721  -0.059162   0.1912    -0.59814\n",
            "  0.65486   -0.31363    0.16881    0.10862    0.075316   0.34093\n",
            " -0.14706    0.8359     0.39697    0.52358   -0.0096367 -0.14406\n",
            "  0.37783   -0.596     -0.063192  -0.85297   -0.3098    -1.0587\n",
            " -1.025      0.4508    -0.73324   -1.2461    -0.028488   0.20299\n",
            "  0.00259    0.31995    0.35744    0.28533    0.228      0.50956\n",
            " -0.35942    0.32683    0.046264  -0.86896   -0.2707    -0.15454\n",
            " -0.32152    0.31121    0.44134    0.85189    0.21065   -0.13741\n",
            " -0.15359   -0.059722   0.027375   0.23724   -0.39197   -0.66065\n",
            "  0.23587    0.032384  -0.64043    0.55004    0.29597    0.14989\n",
            "  0.46079   -0.26561   -0.1607    -0.36328    1.0782     0.31375\n",
            "  0.1149     0.20248    0.032748   0.41082   -0.082536   0.36606\n",
            "  0.18771    0.75415    0.079648   0.24181   -0.60319   -0.37296\n",
            " -0.047767   0.45008   -0.21135    0.022251  -0.084325   0.18644\n",
            " -0.14682    0.56571   -0.30995    0.17423   -0.41122   -0.84772\n",
            " -0.71114    0.69895   -0.13008   -0.34195   -0.30501   -0.12646\n",
            "  0.29957   -0.43488    0.31935    0.2817    -0.20631   -0.48877\n",
            "  0.34477    0.03907    1.6198    -0.6352    -0.0037675 -0.41271\n",
            "  0.30704   -0.50486    0.036385  -0.046386  -0.12004    0.010029\n",
            " -0.49116    0.041486   0.002979  -0.57694   -0.42088   -0.063218\n",
            "  0.0034244 -0.25093   -0.39689   -0.36984    0.32689    0.01385\n",
            "  0.23634   -0.055199  -0.58453    0.13211    0.50943    0.25198\n",
            " -0.0088309 -0.21273   -0.48423    0.5234    -0.32832   -0.013821\n",
            "  0.15812    0.46696    0.036822  -0.090878   0.18854    0.20794\n",
            " -0.42682    0.59705    0.53109    0.19185   -0.16392    0.064956\n",
            " -0.36009   -0.59882   -0.28134    0.1017     0.02601    0.44298\n",
            " -0.31922   -0.22432    0.7828     0.041307   0.1742     0.27777\n",
            "  0.43792   -0.84324    0.27012   -0.21547    0.52408   -0.19426\n",
            " -0.21878   -0.20713    0.092994  -0.15804    0.28716   -0.11911\n",
            " -0.20688   -0.36482    0.68548   -0.10394   -0.49974   -0.47038\n",
            " -1.2953    -0.46236    0.44467    0.13337    0.88762   -0.26494\n",
            "  0.080676  -0.20625   -0.51232    0.31112    0.062035   0.30302\n",
            " -0.33344   -0.20924   -0.17348   -0.43434   -0.45743   -0.077803\n",
            " -0.33248   -0.078633   0.82182    0.082088  -0.68795    0.30266  ]\n",
            "Embedding for 'queen': [-2.2184e-01  6.4884e-02 -8.6365e-02  5.1279e-01  3.2543e-01 -1.2934e-01\n",
            "  8.3160e-02  9.1629e-02 -3.0858e-01 -9.4149e-01 -8.8608e-02 -1.0847e-01\n",
            "  2.1129e-01  7.0052e-01  2.6751e-01 -4.0477e-02  1.7364e-01 -3.0757e-01\n",
            " -5.2120e-02 -1.7512e-01 -8.4090e-01  1.9205e-01 -1.3806e-01  3.8520e-01\n",
            "  2.7247e-01 -1.7401e-01 -4.6626e-01 -2.4944e-02  9.6500e-02  3.0107e-01\n",
            "  1.8020e-01 -6.8892e-02 -2.0452e-01  3.5746e-01 -2.8313e-01  2.8063e-01\n",
            " -1.1503e-02  1.0674e-01 -2.4369e-01 -1.7907e-01 -1.3202e-01 -1.7021e-01\n",
            " -5.9409e-01  9.5749e-01  2.0384e-01 -4.2887e-02  6.0685e-01 -6.8825e-02\n",
            "  5.2273e-01 -5.4755e-01 -5.4525e-01  4.3453e-01  4.4516e-01 -2.5659e-02\n",
            " -1.1531e-01 -1.8587e-01  3.6080e-01 -2.5104e-01  7.2084e-01 -5.8240e-02\n",
            "  3.4400e-01  4.7188e-01  2.0461e-01  6.9993e-01  4.8738e-01 -9.0267e-01\n",
            " -1.0382e-01  1.2704e-01 -4.1078e-01  4.0384e-01  9.6410e-02  3.3173e-01\n",
            "  7.0018e-02 -1.9735e-01  1.5903e-01  9.7236e-02  5.5790e-01 -5.4857e-01\n",
            "  9.1887e-02  2.3397e-01  3.9486e-01 -1.0993e-01  1.0648e-01 -2.5844e-01\n",
            "  5.5624e-01 -5.3970e-01  1.0160e-01 -3.3093e-02  1.0949e-01 -4.4593e-01\n",
            "  2.2759e-01 -4.2394e-01  7.9741e-02 -4.3659e-01 -2.0300e-01 -4.2155e-01\n",
            "  5.2501e-01 -1.3325e-01 -4.7647e-02 -5.5514e-01  2.7313e-01 -3.6058e-01\n",
            "  3.9217e-01  6.3712e-02  1.9537e-01  4.2702e-01  5.9883e-02  1.0991e-01\n",
            "  4.9734e-02  2.8878e-01  2.8826e-01  6.8495e-01  4.1031e-01 -2.5327e-01\n",
            "  5.9437e-02 -1.7610e-01  8.5954e-02  1.6996e-01 -8.3400e-02 -5.7049e-01\n",
            " -7.1907e-01  7.0347e-01 -3.7878e-01 -4.7651e-01 -9.7319e-02  1.4046e-01\n",
            " -1.8743e-02 -1.4805e-01  4.8686e-01  4.4781e-01  5.7390e-01  5.4020e-01\n",
            " -1.3905e-01 -1.4129e-01  1.9411e-01 -8.7851e-03 -2.3293e-01  5.1349e-02\n",
            " -4.2881e-01  5.8398e-01  2.0918e-01  7.5124e-01 -6.6115e-01 -1.5127e-01\n",
            "  2.0170e-01 -5.4020e-01  4.1303e-01  3.6115e-01 -3.8199e-01 -3.8997e-01\n",
            "  1.5415e-01 -2.1134e-01 -5.6198e-01  5.1930e-01  2.2430e-01  5.5390e-01\n",
            "  5.7824e-02 -4.3428e-01  8.7064e-02 -5.5141e-01  5.8216e-01  8.2845e-01\n",
            "  5.0565e-01  1.4649e-01 -3.6045e-01  8.2490e-01 -2.5254e-01  6.6615e-01\n",
            "  3.2949e-01  3.8154e-01 -5.1031e-01  9.0783e-01 -6.7226e-02 -6.2108e-01\n",
            " -2.2863e-01  3.0936e-01 -2.1678e-01 -8.6860e-02 -2.7449e-01  2.1552e-01\n",
            " -1.7032e-01  3.6406e-01  3.9852e-01 -1.6566e-01  4.3411e-01 -4.0548e-01\n",
            " -1.9907e-01  5.3835e-01 -3.2752e-01 -7.6328e-01 -4.2558e-01 -1.0101e-01\n",
            " -3.4878e-01 -7.1560e-01 -5.3603e-02  5.1620e-01  5.3542e-02 -5.1026e-01\n",
            " -1.8184e-01 -3.6726e-01  1.8552e+00 -5.6669e-01 -2.9214e-01  2.7065e-01\n",
            "  5.1873e-01 -6.2641e-01  4.3802e-01  4.2792e-02  3.2292e-01 -1.9796e-01\n",
            " -1.5116e-01 -1.2337e-01  1.6066e-01 -2.7202e-01 -1.2558e-01 -2.0355e-01\n",
            " -1.3273e-02 -9.0037e-01 -3.6197e-02 -4.4949e-01  5.0578e-02 -2.2396e-01\n",
            "  2.8727e-01  4.4153e-01 -8.0729e-01  1.0861e-01 -8.0332e-04  6.4491e-02\n",
            "  1.1235e-02  5.3375e-01 -5.8540e-01  3.4119e-01 -6.8075e-02  1.0167e-01\n",
            "  4.0207e-02  3.3076e-01  1.0610e-01  3.8180e-01 -3.2353e-02  6.5516e-02\n",
            " -3.2452e-01  5.8150e-01  4.7800e-01  2.6177e-01 -2.2771e-01  4.5153e-01\n",
            " -4.2122e-01 -5.9730e-01  2.8305e-01  4.7875e-01 -1.9059e-01  1.5642e-01\n",
            "  2.2882e-01 -3.1700e-01  6.0575e-01 -4.3283e-01  3.3706e-01 -1.7907e-01\n",
            "  5.0241e-01 -7.7599e-01  8.3968e-02 -6.0968e-01  9.5526e-02  7.2448e-01\n",
            " -1.7796e-01  5.6241e-02 -2.9491e-01 -6.9536e-01  4.9126e-01  5.1395e-02\n",
            "  5.1029e-01 -4.2161e-01  4.2673e-01 -2.8271e-01  1.0129e-02  1.7145e-01\n",
            " -9.2244e-01 -3.1237e-01  2.4198e-01 -2.3070e-01  1.6144e-01  3.6125e-01\n",
            " -1.4644e-01 -2.0540e-01 -8.6869e-01  2.2820e-01 -2.9150e-01  5.0015e-01\n",
            " -1.5411e-01 -3.3083e-01  6.9766e-01 -2.8740e-01 -5.0032e-01  1.1975e-01\n",
            " -1.7529e-01 -3.1923e-01  1.9985e-01  2.5230e-01  1.7340e-01  6.3594e-01]\n",
            "Enter the first word (or 'exit'): exit\n"
          ]
        }
      ]
    },
    {
      "cell_type": "markdown",
      "source": [
        "**Part 2: Cosine Similarity Computation (20 points)**\n",
        "\n",
        "* Implement a function that computes the cosine similarity between two-word\n",
        "embeddings.\n",
        "* Explain why cosine similarity is useful in word embedding space.\n",
        "* Allow batch processing, where users can input multiple word pairs for simultaneous\n",
        "similarity computation.\n",
        "* Visualization Requirement: Create a 2D or 3D scatter plot (e.g., using PCA or t-SNE) to\n",
        "visually show how similar and dissimilar words cluster together in the embedding space."
      ],
      "metadata": {
        "id": "aGN-sKZORbjI"
      }
    },
    {
      "cell_type": "code",
      "source": [
        "from sklearn.decomposition import PCA\n",
        "from sklearn.manifold import TSNE\n",
        "\n",
        "# Cosine Similarity Computation Function\n",
        "def cosine_similarity(embedding1, embedding2):\n",
        "    dot_product = np.dot(embedding1, embedding2)\n",
        "    norm_embedding1 = np.linalg.norm(embedding1)\n",
        "    norm_embedding2 = np.linalg.norm(embedding2)\n",
        "    similarity = dot_product / (norm_embedding1 * norm_embedding2)\n",
        "    return similarity\n",
        "\n",
        "# Batch Processing\n",
        "def process_word_pairs(word_pairs, model):\n",
        "    similarities = []\n",
        "    for pair in word_pairs:\n",
        "        word1, word2 = pair\n",
        "        embedding1 = model.encode(word1)\n",
        "        embedding2 = model.encode(word2)\n",
        "        similarity = cosine_similarity(embedding1, embedding2)\n",
        "        similarities.append(similarity)\n",
        "    return similarities\n"
      ],
      "metadata": {
        "id": "7HV8LlRLLVwO"
      },
      "execution_count": 45,
      "outputs": []
    },
    {
      "cell_type": "code",
      "source": [
        "# User Input for Word Pairs\n",
        "word_pairs = []\n",
        "while True:\n",
        "    pair_input = input(\"Enter a word pair (word1, word2) or 'exit': \").lower()\n",
        "    if pair_input == 'exit':\n",
        "        break\n",
        "    try:\n",
        "        word1, word2 = pair_input.split(',')\n",
        "        word_pairs.append((word1.strip(), word2.strip()))\n",
        "    except ValueError:\n",
        "        print(\"Invalid input. Please enter two words separated by a comma.\")\n",
        "\n",
        "similarities = process_word_pairs(word_pairs, model)\n",
        "\n",
        "for i, pair in enumerate(word_pairs):\n",
        "    print(f\"Cosine similarity between '{pair[0]}' and '{pair[1]}': {similarities[i]}\")\n"
      ],
      "metadata": {
        "colab": {
          "base_uri": "https://localhost:8080/"
        },
        "id": "b4zscXRsLPk9",
        "outputId": "eb139210-7609-433e-de2a-4880db18080f"
      },
      "execution_count": 46,
      "outputs": [
        {
          "output_type": "stream",
          "name": "stdout",
          "text": [
            "Enter a word pair (word1, word2) or 'exit': apple, banana\n",
            "Enter a word pair (word1, word2) or 'exit': king, queen\n",
            "Enter a word pair (word1, word2) or 'exit': exit\n",
            "Cosine similarity between 'apple' and 'banana': 0.39237499237060547\n",
            "Cosine similarity between 'king' and 'queen': 0.6336468458175659\n"
          ]
        }
      ]
    },
    {
      "cell_type": "code",
      "execution_count": 49,
      "metadata": {
        "execution": {
          "iopub.execute_input": "2024-02-27T18:40:52.093468Z",
          "iopub.status.busy": "2024-02-27T18:40:52.093148Z",
          "iopub.status.idle": "2024-02-27T18:40:52.099891Z",
          "shell.execute_reply": "2024-02-27T18:40:52.098755Z",
          "shell.execute_reply.started": "2024-02-27T18:40:52.093438Z"
        },
        "id": "pDFwpfcrRr2T",
        "trusted": true,
        "colab": {
          "base_uri": "https://localhost:8080/",
          "height": 495
        },
        "outputId": "3e148299-071e-4956-b0fe-15d5e9451b8b"
      },
      "outputs": [
        {
          "output_type": "display_data",
          "data": {
            "text/plain": [
              "<Figure size 1000x600 with 1 Axes>"
            ],
            "image/png": "[encoded data removed]"
          },
          "metadata": {}
        }
      ],
      "source": [
        "# Visualization (PCA and t-SNE)\n",
        "words_to_visualize = [\"king\", \"queen\", \"man\", \"woman\", \"apple\", \"banana\", \"car\", \"bicycle\"]\n",
        "embeddings_to_visualize = [model.encode(word) for word in words_to_visualize]\n",
        "\n",
        "# PCA for 2D Visualization\n",
        "pca = PCA(n_components=2)\n",
        "reduced_embeddings_pca = pca.fit_transform(embeddings_to_visualize)\n",
        "\n",
        "plt.figure(figsize=(10, 6))\n",
        "plt.scatter(reduced_embeddings_pca[:, 0], reduced_embeddings_pca[:, 1])\n",
        "for i, word in enumerate(words_to_visualize):\n",
        "    plt.annotate(word, xy=(reduced_embeddings_pca[i, 0], reduced_embeddings_pca[i, 1]), color='red')\n",
        "plt.title(\"Word Embeddings Visualization (PCA)\")\n",
        "plt.show()"
      ]
    },
    {
      "cell_type": "code",
      "source": [
        "# t-SNE for 2D Visualization\n",
        "embeddings_to_visualize = np.array(embeddings_to_visualize)\n",
        "\n",
        "tsne = TSNE(n_components=2, random_state=0, perplexity=2)\n",
        "reduced_embeddings_tsne = tsne.fit_transform(embeddings_to_visualize)\n",
        "\n",
        "plt.figure(figsize=(10, 6))\n",
        "plt.scatter(reduced_embeddings_tsne[:, 0], reduced_embeddings_tsne[:, 1])\n",
        "for i, word in enumerate(words_to_visualize):\n",
        "    plt.annotate(word, xy=(reduced_embeddings_tsne[i, 0], reduced_embeddings_tsne[i, 1]))\n",
        "plt.title(\"Word Embeddings Visualization (t-SNE)\")\n",
        "plt.show()"
      ],
      "metadata": {
        "colab": {
          "base_uri": "https://localhost:8080/",
          "height": 490
        },
        "id": "eyDfq607MNTi",
        "outputId": "007c9332-59fc-4683-ced4-6e4cbc9fe16e"
      },
      "execution_count": 52,
      "outputs": [
        {
          "output_type": "display_data",
          "data": {
            "text/plain": [
              "<Figure size 1000x600 with 1 Axes>"
            ],
            "image/png": "[encoded data removed]"
          },
          "metadata": {}
        }
      ]
    },
    {
      "cell_type": "markdown",
      "metadata": {
        "id": "eTiKPmaSRr2U"
      },
      "source": [
        "**Part 3: Designing a Novel Dissimilarity Metric (20 points)**\n",
        "\n",
        "* Define a custom dissimilarity score that goes beyond cosine similarity. Possible\n",
        "approaches include:\n",
        "  * Euclidean distance (How far apart words are in vector space).\n",
        "  * Word entropy-based dissimilarity (How uncommon two words are relative to\n",
        "each other in corpora).\n",
        "  * Semantic contrast measure (Using external knowledge bases like WordNet).\n",
        "  \n",
        "* Either design your own metric or cite an existing one from literature (provide a proper\n",
        "reference). Explain why your metric captures novelty/diversity better than cosine\n",
        "similarity alone.\n",
        "* Allow users to toggle between different similarity/dissimilarity measures via function\n",
        "parameters.\n",
        "* Visualization Requirement:\n",
        "  * Plot the ranking of words based on their similarity/dissimilarity to a given word\n",
        "(e.g., how words like \"cat\" rank against \"dog,\" \"lion,\" and \"table\" using different\n",
        "metrics).\n",
        "  * Use a heatmap to demonstrate and compare similarity and dissimilarity across\n",
        "multiple (any number of your choice) word pairs."
      ]
    },
    {
      "cell_type": "code",
      "source": [
        "from collections import Counter\n",
        "# Simplified Corpus\n",
        "corpus = [\"cat\", \"dog\", \"lion\", \"table\", \"kitten\", \"tiger\", \"apple\", \"banana\", \"car\", \"bicycle\", \"cat\", \"dog\", \"lion\", \"cat\", \"apple\"]\n",
        "\n",
        "# Word Frequency and Probability\n",
        "word_counts = Counter(corpus)\n",
        "total_words = len(corpus)\n",
        "word_probabilities = {word: count / total_words for word, count in word_counts.items()}"
      ],
      "metadata": {
        "id": "41Z3MPoSPsGd"
      },
      "execution_count": 54,
      "outputs": []
    },
    {
      "cell_type": "code",
      "source": [
        "word_counts"
      ],
      "metadata": {
        "colab": {
          "base_uri": "https://localhost:8080/"
        },
        "id": "87GUCCvIP7Kw",
        "outputId": "f45eee5c-452f-44f7-a364-05c62d5ab058"
      },
      "execution_count": 55,
      "outputs": [
        {
          "output_type": "execute_result",
          "data": {
            "text/plain": [
              "Counter({'cat': 3,\n",
              "         'dog': 2,\n",
              "         'lion': 2,\n",
              "         'table': 1,\n",
              "         'kitten': 1,\n",
              "         'tiger': 1,\n",
              "         'apple': 2,\n",
              "         'banana': 1,\n",
              "         'car': 1,\n",
              "         'bicycle': 1})"
            ]
          },
          "metadata": {},
          "execution_count": 55
        }
      ]
    },
    {
      "cell_type": "code",
      "source": [
        "# Word Entropy Function\n",
        "def word_entropy(word, probabilities):\n",
        "    if word not in probabilities:\n",
        "        return 0  # Handle OOV words with 0 entropy (simplified)\n",
        "    probability = probabilities[word]\n",
        "    if probability == 0:\n",
        "        return 0  # Avoid log(0)\n",
        "    return -probability * math.log2(probability)\n",
        "\n",
        "# Entropy-Based Dissimilarity\n",
        "def entropy_dissimilarity(word1, word2, probabilities):\n",
        "    entropy1 = word_entropy(word1, probabilities)\n",
        "    entropy2 = word_entropy(word2, probabilities)\n",
        "    return abs(entropy1 - entropy2)"
      ],
      "metadata": {
        "id": "Ke35fwuKO58n"
      },
      "execution_count": 56,
      "outputs": []
    },
    {
      "cell_type": "code",
      "source": [
        "# Toggle Between Similarity/Dissimilarity Measures\n",
        "def calculate_metric(word1, word2, metric='cosine'):\n",
        "    embedding1 = model.encode(word1)\n",
        "    embedding2 = model.encode(word2)\n",
        "    if metric == 'cosine':\n",
        "        return cosine_similarity(embedding1, embedding2)\n",
        "    elif metric == 'entropy':\n",
        "        return entropy_dissimilarity(word1, word2, word_probabilities)\n",
        "    else:\n",
        "        raise ValueError(\"Invalid metric. Choose 'cosine' or 'entropy'.\")"
      ],
      "metadata": {
        "id": "oiC1KnDrOtrV"
      },
      "execution_count": 57,
      "outputs": []
    },
    {
      "cell_type": "code",
      "source": [
        "# Ranking Words Based on Similarity/Dissimilarity\n",
        "def rank_words(target_word, comparison_words, metric='cosine'):\n",
        "    scores = []\n",
        "    for word in comparison_words:\n",
        "        scores.append(calculate_metric(target_word, word, metric))\n",
        "    if metric == 'cosine':\n",
        "        sorted_indices = np.argsort(scores)[::-1]  # Descending order for cosine\n",
        "    else:\n",
        "        sorted_indices = np.argsort(scores)  # Ascending order for entropy\n",
        "    ranked_words = [comparison_words[i] for i in sorted_indices]\n",
        "    return ranked_words, [scores[i] for i in sorted_indices]"
      ],
      "metadata": {
        "id": "B_Ys0gsXOqci"
      },
      "execution_count": 58,
      "outputs": []
    },
    {
      "cell_type": "code",
      "source": [
        "import math\n",
        "# Visualization: Ranking Plot\n",
        "target_word = \"cat\"\n",
        "comparison_words = [\"dog\", \"lion\", \"table\", \"kitten\", \"tiger\"]\n",
        "\n",
        "ranked_cosine, scores_cosine = rank_words(target_word, comparison_words, metric='cosine')\n",
        "ranked_entropy, scores_entropy = rank_words(target_word, comparison_words, metric='entropy')\n",
        "\n",
        "plt.figure(figsize=(12, 6))\n",
        "plt.subplot(1, 2, 1)\n",
        "plt.bar(ranked_cosine, scores_cosine)\n",
        "plt.title(\"Cosine Similarity Ranking (Cat)\")\n",
        "plt.xlabel(\"Words\")\n",
        "plt.ylabel(\"Cosine Similarity\")\n",
        "\n",
        "plt.subplot(1, 2, 2)\n",
        "plt.bar(ranked_entropy, scores_entropy)\n",
        "plt.title(\"Entropy Dissimilarity Ranking (Cat)\")\n",
        "plt.xlabel(\"Words\")\n",
        "plt.ylabel(\"Entropy Dissimilarity\")\n",
        "\n",
        "plt.tight_layout()\n",
        "plt.show()"
      ],
      "metadata": {
        "colab": {
          "base_uri": "https://localhost:8080/",
          "height": 392
        },
        "id": "mAhZcIXKOmpd",
        "outputId": "f830f441-b107-44d4-e39e-863cfb3e303d"
      },
      "execution_count": 60,
      "outputs": [
        {
          "output_type": "display_data",
          "data": {
            "text/plain": [
              "<Figure size 1200x600 with 2 Axes>"
            ],
            "image/png": "[encoded data removed]"
          },
          "metadata": {}
        }
      ]
    },
    {
      "cell_type": "code",
      "source": [
        "import seaborn as sns\n",
        "# Visualization: Heatmap\n",
        "word_pairs_heatmap = [(\"cat\", \"dog\"), (\"cat\", \"table\"), (\"king\", \"queen\"), (\"man\", \"woman\"), (\"apple\", \"banana\")]\n",
        "metrics = ['cosine', 'entropy']\n",
        "heatmap_data = np.zeros((len(metrics), len(word_pairs_heatmap)))\n",
        "\n",
        "for i, metric in enumerate(metrics):\n",
        "    for j, pair in enumerate(word_pairs_heatmap):\n",
        "        heatmap_data[i, j] = calculate_metric(pair[0], pair[1], metric)\n",
        "\n",
        "plt.figure(figsize=(10, 6))\n",
        "sns.heatmap(heatmap_data, annot=True, cmap=\"YlGnBu\", xticklabels=[f\"{p[0]}-{p[1]}\" for p in word_pairs_heatmap], yticklabels=metrics)\n",
        "plt.title(\"Similarity/Dissimilarity Heatmap\")\n",
        "plt.show()"
      ],
      "metadata": {
        "colab": {
          "base_uri": "https://localhost:8080/",
          "height": 544
        },
        "id": "-60fjs8tOk9h",
        "outputId": "21dba2f4-2080-4c96-de0a-33a2c07732f8"
      },
      "execution_count": 62,
      "outputs": [
        {
          "output_type": "display_data",
          "data": {
            "text/plain": [
              "<Figure size 1000x600 with 2 Axes>"
            ],
            "image/png": "[encoded data removed]"
          },
          "metadata": {}
        }
      ]
    }
  ],
  "metadata": {
    "colab": {
      "provenance": []
    },
    "kaggle": {
      "accelerator": "nvidiaTeslaT4",
      "dataSources": [],
      "dockerImageVersionId": 30648,
      "isGpuEnabled": true,
      "isInternetEnabled": true,
      "language": "python",
      "sourceType": "notebook"
    },
    "kernelspec": {
      "display_name": "python36",
      "language": "python",
      "name": "python36"
    },
    "language_info": {
      "codemirror_mode": {
        "name": "ipython",
        "version": 3
      },
      "file_extension": ".py",
      "mimetype": "text/x-python",
      "name": "python",
      "nbconvert_exporter": "python",
      "pygments_lexer": "ipython3",
      "version": "3.6.13"
    }
  },
  "nbformat": 4,
  "nbformat_minor": 0
}